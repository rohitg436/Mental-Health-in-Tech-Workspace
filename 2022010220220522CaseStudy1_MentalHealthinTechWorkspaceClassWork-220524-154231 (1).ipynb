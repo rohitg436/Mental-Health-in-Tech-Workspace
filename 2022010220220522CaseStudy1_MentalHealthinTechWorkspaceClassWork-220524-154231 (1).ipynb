{
 "cells": [
  {
   "cell_type": "markdown",
   "metadata": {
    "id": "YZ_YtlbR_PO8"
   },
   "source": [
    "<center><img src=\"https://github.com/insaid2018/Term-1/blob/master/Images/INSAID_Full%20Logo.png?raw=true\" width=\"240\" height=\"100\" /></center>"
   ]
  },
  {
   "cell_type": "code",
   "execution_count": null,
   "metadata": {},
   "outputs": [],
   "source": [
    "'''\n",
    "EDA - 9 steps\n",
    "1. Intro\n",
    "2. prob\n",
    "3. import\n",
    "4. data\n",
    "5. pre profiling\n",
    "6. pre processing\n",
    "7. trust but verify\n",
    "8. EDA - asking 15+-5 - relevant, reasonable, non vague, UNI BI MULTI\n",
    "9. Summary/Conclude - Actionable\n",
    "\n",
    "'''"
   ]
  },
  {
   "cell_type": "markdown",
   "metadata": {
    "id": "fyGLcqbs_S8i"
   },
   "source": [
    "---\n",
    "# **Table of Contents**\n",
    "---\n",
    "\n",
    "**1.** [**Introduction**](#Section1)<br>\n",
    "**2.** [**Problem Statement**](#Section2)<br>\n",
    "**3.** [**Installing & Importing Libraries**](#Section3)<br>\n",
    "  - **3.1** [**Installing Libraries**](#Section31)\n",
    "  - **3.2** [**Upgrading Libraries**](#Section32)\n",
    "  - **3.3** [**Importing Libraries**](#Section33)\n",
    "\n",
    "**4.** [**Data Acquisition & Description**](#Section4)<br>\n",
    "  - **4.1** [**Data Description**](#Section41)\n",
    "  - **4.2** [**Data Information**](#Section42)\n",
    "\n",
    "**5.** [**Data Pre-processing**](#Section5)<br>\n",
    "  - **5.1** [**Handling of Missing Data**](#Section51)\n",
    "  - **5.2** [**Handling of Redundant Data**](#Section52)\n",
    "  - **5.3** [**Handling of Inconsistent Data**](#Section53)\n",
    "  - **5.4** [**Handling of Outliers**](#Section54)\n",
    "\n",
    "**6.** [**Exploratory Data Analysis**](#Section6)<br>\n",
    "  - **6.1** [**How does age relate to various behaviors and/or their awareness of their employer's attitude toward mental health?**](#Section61)\n",
    "  - **6.2** [**What is the density distribution of Age feature?**](#Section62)\n",
    "  - **6.3** [**What is the association between treatment and gender in terms of ratio?**](#Section63)\n",
    "  - **6.4** [**What is the association between treatment and work interference in terms of ratio?**](#Section64)\n",
    "  - **6.5** [**What is the association between treatment and age?**](#Section65)\n",
    "  - **6.6** [**What is the association between treatment and family history of the employee?**](#Section66)\n",
    "  - **6.7** [**What is the association between treatment and employee count in a company?**](#Section67)\n",
    "  - **6.8** [**Which countries in common have contributed the most in terms of mental health?**](#Section68)\n",
    "  - **6.9** [**Which states contributed the most in the US in terms of mental health?**](#Section69)\n",
    "  - **6.10** [**What is the contribution of top 3 countries among all in terms of mental health?**](#Section610)\n",
    "  - **6.11** [**What is the frequency distribution of work interference among employees for the top 3 countries?**](#Section611)\n",
    "  - **6.12** [**What is the total number of employees going for treatment from the top 3 countries?**](#Section612)\n",
    "  - **6.13** [**How many people did go for treatment based on gender for the top 3 countries?**](#Section613)\n",
    "  - **6.14** [**What is the relationship between mental health consequences and the attitude?**](#Section614)\n",
    "\n",
    "**7.** [**Summarization**](#Section7)<br>"
   ]
  },
  {
   "cell_type": "markdown",
   "metadata": {
    "id": "KeSCPrQkAg-J"
   },
   "source": [
    "---\n",
    "<a name = Section1></a>\n",
    "# **1. Introduction**\n",
    "---\n",
    "\n",
    "- For many of us, **work** is a **major part** of our **lives** where we spend much of our time to **make income** and **friends**. \n",
    "\n",
    "- Having a **fulfilling job** can be **good** for your **mental health** and general wellbeing.\n",
    "\n",
    "<center><img width=60% src=\"https://raw.githubusercontent.com/insaid2018/PGPDSAI/main/03%20Term%203%20-%20EDA%20%26%20Data%20Storytelling/03%20Module%203/img/03%20mental-health.jpg\"></center>\n",
    "\n",
    "- Mental health is the way we **think** and **feel** and our ability to **deal** with **ups and downs** and it is something we all have. \n",
    "\n",
    "- When we enjoy good mental health, we have a **sense of purpose** and **direction**, the energy to do the things we want to do.\n",
    "\n",
    "- If you enjoy good mental health, you can:\n",
    "  - make the most of your potential\n",
    "\n",
    "  - cope with what life throws at you\n",
    "  \n",
    "  - play a full part in your relationships, your workplace, and your community.\n",
    "\n",
    "- Your **mental health always fluctuates** as circumstances change as you move through different stages in your life.\n",
    "\n",
    "- **Distress** is a word used to describe times when a **person isn’t coping** – for whatever reason. \n",
    "\n",
    "- It could be something at home, the pressure of work, or the start of a mental health problem like depression. \n",
    "\n",
    "- When we feel distressed, we **need a compassionate**, human response."
   ]
  },
  {
   "cell_type": "markdown",
   "metadata": {
    "id": "IrkNMsXHD5xr"
   },
   "source": [
    "---\n",
    "<a name = Section2></a>\n",
    "# **2. Problem Statement**\n",
    "---\n",
    "\n",
    "- We all have times when we feel down, stressed or frightened. \n",
    "\n",
    "- Most of the time those feelings pass, but **sometimes** they develop into a mental health problem like **anxiety** or **depression**.\n",
    "\n",
    "- It **impacts our daily lives** but for some people, mental health problems become complex and **require support** and **treatment** for life.\n",
    "\n",
    "- Factors like poverty, childhood trauma, discrimination, etc. make it more likely that we will develop mental health problems.\n",
    "\n",
    "- Different mental health problems **affect** people **in different ways** and it’s **key** to **understand** an **individual’s experience**. \n",
    "\n",
    "<center><img width=60% src=\"https://raw.githubusercontent.com/insaid2018/PGPDSAI/main/03%20Term%203%20-%20EDA%20%26%20Data%20Storytelling/03%20Module%203/img/04%20mental-health.png\"></center>\n",
    "\n",
    "\n",
    "**<h4>Scenario</h4>**\n",
    "\n",
    "- <a href=\"https://osmihelp.org/\">**OSMI**</a>, an organization is working to **help people** to **identify** and **overcome mental health disorders** while working in a tech space.\n",
    "\n",
    "- They **perform surveys** to **measure attitudes** towards mental health in the tech workplace.\n",
    "\n",
    "- They **create detailed guides** on how to make the **workplace safe** and **supportive** for mentally stressed people.\n",
    "\n",
    "- Using these surveys they **examine** the **frequency** of **mental health disorders** among tech workers.\n",
    "\n",
    "- Also, they help workspaces to **identify** the **best resources** to **support** their **employees**.\n",
    "\n",
    "- Checkout <a href=\"https://www.youtube.com/watch?v=NHulgcO_16U&list=PL1MEC8mwrpaIdzYKRidvNB5eYSwWrqFZ3\">**Talks at Google**</a> to get better clarity about Mental Health in the Tech Industry.\n"
   ]
  },
  {
   "cell_type": "markdown",
   "metadata": {
    "id": "oZ7oRdaU5Izk"
   },
   "source": [
    "---\n",
    "<a name = Section3></a>\n",
    "# **3. Installing & Importing Libraries**\n",
    "---"
   ]
  },
  {
   "cell_type": "markdown",
   "metadata": {
    "id": "CxrjUfOi5Kor"
   },
   "source": [
    "<a name = Section31></a>\n",
    "### **3.1 Installing Libraries**"
   ]
  },
  {
   "cell_type": "code",
   "execution_count": null,
   "metadata": {
    "colab": {
     "base_uri": "https://localhost:8080/"
    },
    "executionInfo": {
     "elapsed": 7638,
     "status": "ok",
     "timestamp": 1619584656509,
     "user": {
      "displayName": "Mukesh Kumar",
      "photoUrl": "https://lh3.googleusercontent.com/a-/AOh14GjTZH-ccUwdv--s75Iw1qfyi7gtUyH2m_-htD2e=s64",
      "userId": "01238672520445611335"
     },
     "user_tz": -330
    },
    "id": "G64l-tpL_G6c",
    "outputId": "65670e1e-23d4-43dd-abed-017e6d669ab4"
   },
   "outputs": [
    {
     "name": "stdout",
     "output_type": "stream",
     "text": [
      "\u001b[K     |████████████████████████████████| 71kB 6.6MB/s \n",
      "\u001b[?25h  Building wheel for folium (setup.py) ... \u001b[?25l\u001b[?25hdone\n"
     ]
    }
   ],
   "source": [
    "!pip install -q datascience                                         # Package that is required by pandas profiling\n",
    "!pip install -q pandas-profiling                                    # Library to generate basic statistics about data"
   ]
  },
  {
   "cell_type": "markdown",
   "metadata": {
    "id": "RQ7MRLAo5N1V"
   },
   "source": [
    "<a name = Section32></a>\n",
    "### **3.2 Upgrading Libraries**\n",
    "\n",
    "- **After upgrading** the libraries, you need to **restart the runtime** to make the libraries in sync. \n",
    "\n",
    "- Make sure not to execute the cell above (3.1) and below (3.2) again after restarting the runtime."
   ]
  },
  {
   "cell_type": "code",
   "execution_count": null,
   "metadata": {
    "id": "B-Fik6Ur5Nu7"
   },
   "outputs": [],
   "source": [
    "!pip install -q --upgrade pandas-profiling\n",
    "!pip install -q --upgrade yellowbrick"
   ]
  },
  {
   "cell_type": "markdown",
   "metadata": {
    "id": "4K_1imiv5Rn1"
   },
   "source": [
    "<a name = Section33></a>\n",
    "### **3.3 Importing Libraries**"
   ]
  },
  {
   "cell_type": "code",
   "execution_count": 1,
   "metadata": {
    "id": "IpUbSK3u5RgT"
   },
   "outputs": [],
   "source": [
    "#-------------------------------------------------------------------------------------------------------------------------------\n",
    "import pandas as pd                                                 # Importing for panel data analysis\n",
    "pd.set_option('display.max_columns', None)                          # Unfolding hidden features if the cardinality is high\n",
    "pd.set_option('display.max_colwidth', None)                         # Unfolding the max feature width for better clearity\n",
    "pd.set_option('display.max_rows', None)                             # Unfolding hidden data points if the cardinality is high\n",
    "pd.set_option('mode.chained_assignment', None)                      # Removing restriction over chained assignments operations\n",
    "pd.set_option('display.float_format', lambda x: '%.5f' % x)         # To suppress scientific notation over exponential values\n",
    "#-------------------------------------------------------------------------------------------------------------------------------\n",
    "from collections import Counter                                     # For counting hashable objects\n",
    "#-------------------------------------------------------------------------------------------------------------------------------\n",
    "import matplotlib.pyplot as plt                                     # Importing pyplot interface using matplotlib\n",
    "import seaborn as sns                                               # Importin seaborm library for interactive visualization\n",
    "%matplotlib inline\n",
    "#-------------------------------------------------------------------------------------------------------------------------------\n",
    "import warnings                                                     # Importing warning to disable runtime warnings\n",
    "warnings.filterwarnings(\"ignore\")                                   # Warnings will appear only once"
   ]
  },
  {
   "cell_type": "markdown",
   "metadata": {
    "id": "l6GsdyVG5Zdd"
   },
   "source": [
    "---\n",
    "<a name = Section4></a>\n",
    "# **4. Data Acquisition & Description**\n",
    "---\n",
    "\n",
    "- This dataset is obtained from a survey in 2014.\n",
    "\n",
    "- It describes the attitudes towards mental health and frequency of mental health disorders in the tech workplace.\n",
    "\n",
    "| Records | Features | Dataset Size |\n",
    "| :-- | :-- | :-- |\n",
    "| 1259 | 27 | 296 KB| \n",
    "\n",
    "\n",
    "| Id | Features | Description |\n",
    "| :-- | :--| :--| \n",
    "|01|**Timestamp**|Time the survey was submitted.|\n",
    "|02|**Age**|The age of the person.| \n",
    "|03|**Gender**|The gender of the person.|\n",
    "|04|**Country**|The country name where person belongs to.|\n",
    "|05|**state**|The state name where person belongs to.|\n",
    "|06|**self_employed**|Is the person self employed or not.|\n",
    "|07|**family_history**|Does the person's family history had mental illness or not?|\n",
    "|08|**treatment**|Have you sought treatment for a mental health condition?|\n",
    "|09|**work_intefere**|If you have a mental health condition, do you feel that it interferes with your work?|\n",
    "|10|**no_employees**|How many employees does your company or organization have?|\n",
    "|11|**remote_work**|Do you work remotely (outside of an office) at least 50% of the time?|\n",
    "|12|**tech_company**|Is your employer primarily a tech company/organization?|\n",
    "|13|**benifits**|Does your employer provide mental health benefits?|\n",
    "|14|**care_options**|Do you know the options for mental health care your employer provides?|\n",
    "|15|**wellness_program**|Has your employer ever discussed mental health as part of an employee wellness program?|\n",
    "|16|**seek_help**|Does your employer provide resources to learn more about mental health issues and how to seek help?|\n",
    "|17|**anonymity**|Is your anonymity protected if you choose to take advantage of mental health or substance abuse treatment resources?|\n",
    "|18|**leave**|How easy is it for you to take medical leave for a mental health condition?|\n",
    "|19|**mental_health_consequence**|Do you think that discussing a mental health issue with your employer would have negative consequences?|\n",
    "|20|**phy_health_consequence**|Do you think that discussing a physical health issue with your employer would have negative consequences?|\n",
    "|21|**coworkers**|Would you be willing to discuss a mental health issue with your coworkers?|\n",
    "|22|**supervisor**|Would you be willing to discuss a mental health issue with your direct supervisor(s)?|\n",
    "|23|**mental_health_interview**|Would you bring up a mental health issue with a potential employer in an interview?|\n",
    "|24|**phs_health_interivew**|Would you bring up a physical health issue with a potential employer in an interview?|\n",
    "|25|**mental_vs_physical**|Do you feel that your employer takes mental health as seriously as physical health?|\n",
    "|26|**obs_consequence**|Have you heard of or observed negative consequences for coworkers with mental health conditions in your workplace?|\n",
    "|27|**comments**|Any additional notes or comments.|"
   ]
  },
  {
   "cell_type": "markdown",
   "metadata": {
    "id": "zdybBkZwks_M"
   },
   "source": [
    "- **Note:** For easy reference we are sharing a <a href=\"https://drive.google.com/file/d/1II3r6-z2C-JkP7RGrnsNFLq3lbziMmpT/view?usp=sharing\">**link**</a> which you can keep handy while analyzing the data."
   ]
  },
  {
   "cell_type": "code",
   "execution_count": 2,
   "metadata": {
    "colab": {
     "base_uri": "https://localhost:8080/",
     "height": 411
    },
    "executionInfo": {
     "elapsed": 1814,
     "status": "ok",
     "timestamp": 1620112243302,
     "user": {
      "displayName": "Mukesh Kumar",
      "photoUrl": "https://lh3.googleusercontent.com/a-/AOh14GjTZH-ccUwdv--s75Iw1qfyi7gtUyH2m_-htD2e=s64",
      "userId": "01238672520445611335"
     },
     "user_tz": -330
    },
    "id": "eU8BRBJZ5ZW0",
    "outputId": "a57f32e8-6ce7-4751-d253-b55aeb1bce4b",
    "scrolled": true
   },
   "outputs": [
    {
     "name": "stdout",
     "output_type": "stream",
     "text": [
      "Data Shape: (1259, 27)\n"
     ]
    },
    {
     "data": {
      "text/html": [
       "<div>\n",
       "<style scoped>\n",
       "    .dataframe tbody tr th:only-of-type {\n",
       "        vertical-align: middle;\n",
       "    }\n",
       "\n",
       "    .dataframe tbody tr th {\n",
       "        vertical-align: top;\n",
       "    }\n",
       "\n",
       "    .dataframe thead th {\n",
       "        text-align: right;\n",
       "    }\n",
       "</style>\n",
       "<table border=\"1\" class=\"dataframe\">\n",
       "  <thead>\n",
       "    <tr style=\"text-align: right;\">\n",
       "      <th></th>\n",
       "      <th>Timestamp</th>\n",
       "      <th>Age</th>\n",
       "      <th>Gender</th>\n",
       "      <th>Country</th>\n",
       "      <th>state</th>\n",
       "      <th>self_employed</th>\n",
       "      <th>family_history</th>\n",
       "      <th>treatment</th>\n",
       "      <th>work_interfere</th>\n",
       "      <th>no_employees</th>\n",
       "      <th>remote_work</th>\n",
       "      <th>tech_company</th>\n",
       "      <th>benefits</th>\n",
       "      <th>care_options</th>\n",
       "      <th>wellness_program</th>\n",
       "      <th>seek_help</th>\n",
       "      <th>anonymity</th>\n",
       "      <th>leave</th>\n",
       "      <th>mental_health_consequence</th>\n",
       "      <th>phys_health_consequence</th>\n",
       "      <th>coworkers</th>\n",
       "      <th>supervisor</th>\n",
       "      <th>mental_health_interview</th>\n",
       "      <th>phys_health_interview</th>\n",
       "      <th>mental_vs_physical</th>\n",
       "      <th>obs_consequence</th>\n",
       "      <th>comments</th>\n",
       "    </tr>\n",
       "  </thead>\n",
       "  <tbody>\n",
       "    <tr>\n",
       "      <th>0</th>\n",
       "      <td>2014-08-27 11:29:31</td>\n",
       "      <td>37</td>\n",
       "      <td>Female</td>\n",
       "      <td>United States</td>\n",
       "      <td>IL</td>\n",
       "      <td>NaN</td>\n",
       "      <td>No</td>\n",
       "      <td>Yes</td>\n",
       "      <td>Often</td>\n",
       "      <td>6-25</td>\n",
       "      <td>No</td>\n",
       "      <td>Yes</td>\n",
       "      <td>Yes</td>\n",
       "      <td>Not sure</td>\n",
       "      <td>No</td>\n",
       "      <td>Yes</td>\n",
       "      <td>Yes</td>\n",
       "      <td>Somewhat easy</td>\n",
       "      <td>No</td>\n",
       "      <td>No</td>\n",
       "      <td>Some of them</td>\n",
       "      <td>Yes</td>\n",
       "      <td>No</td>\n",
       "      <td>Maybe</td>\n",
       "      <td>Yes</td>\n",
       "      <td>No</td>\n",
       "      <td>NaN</td>\n",
       "    </tr>\n",
       "    <tr>\n",
       "      <th>1</th>\n",
       "      <td>2014-08-27 11:29:37</td>\n",
       "      <td>44</td>\n",
       "      <td>M</td>\n",
       "      <td>United States</td>\n",
       "      <td>IN</td>\n",
       "      <td>NaN</td>\n",
       "      <td>No</td>\n",
       "      <td>No</td>\n",
       "      <td>Rarely</td>\n",
       "      <td>More than 1000</td>\n",
       "      <td>No</td>\n",
       "      <td>No</td>\n",
       "      <td>Don't know</td>\n",
       "      <td>No</td>\n",
       "      <td>Don't know</td>\n",
       "      <td>Don't know</td>\n",
       "      <td>Don't know</td>\n",
       "      <td>Don't know</td>\n",
       "      <td>Maybe</td>\n",
       "      <td>No</td>\n",
       "      <td>No</td>\n",
       "      <td>No</td>\n",
       "      <td>No</td>\n",
       "      <td>No</td>\n",
       "      <td>Don't know</td>\n",
       "      <td>No</td>\n",
       "      <td>NaN</td>\n",
       "    </tr>\n",
       "    <tr>\n",
       "      <th>2</th>\n",
       "      <td>2014-08-27 11:29:44</td>\n",
       "      <td>32</td>\n",
       "      <td>Male</td>\n",
       "      <td>Canada</td>\n",
       "      <td>NaN</td>\n",
       "      <td>NaN</td>\n",
       "      <td>No</td>\n",
       "      <td>No</td>\n",
       "      <td>Rarely</td>\n",
       "      <td>6-25</td>\n",
       "      <td>No</td>\n",
       "      <td>Yes</td>\n",
       "      <td>No</td>\n",
       "      <td>No</td>\n",
       "      <td>No</td>\n",
       "      <td>No</td>\n",
       "      <td>Don't know</td>\n",
       "      <td>Somewhat difficult</td>\n",
       "      <td>No</td>\n",
       "      <td>No</td>\n",
       "      <td>Yes</td>\n",
       "      <td>Yes</td>\n",
       "      <td>Yes</td>\n",
       "      <td>Yes</td>\n",
       "      <td>No</td>\n",
       "      <td>No</td>\n",
       "      <td>NaN</td>\n",
       "    </tr>\n",
       "    <tr>\n",
       "      <th>3</th>\n",
       "      <td>2014-08-27 11:29:46</td>\n",
       "      <td>31</td>\n",
       "      <td>Male</td>\n",
       "      <td>United Kingdom</td>\n",
       "      <td>NaN</td>\n",
       "      <td>NaN</td>\n",
       "      <td>Yes</td>\n",
       "      <td>Yes</td>\n",
       "      <td>Often</td>\n",
       "      <td>26-100</td>\n",
       "      <td>No</td>\n",
       "      <td>Yes</td>\n",
       "      <td>No</td>\n",
       "      <td>Yes</td>\n",
       "      <td>No</td>\n",
       "      <td>No</td>\n",
       "      <td>No</td>\n",
       "      <td>Somewhat difficult</td>\n",
       "      <td>Yes</td>\n",
       "      <td>Yes</td>\n",
       "      <td>Some of them</td>\n",
       "      <td>No</td>\n",
       "      <td>Maybe</td>\n",
       "      <td>Maybe</td>\n",
       "      <td>No</td>\n",
       "      <td>Yes</td>\n",
       "      <td>NaN</td>\n",
       "    </tr>\n",
       "    <tr>\n",
       "      <th>4</th>\n",
       "      <td>2014-08-27 11:30:22</td>\n",
       "      <td>31</td>\n",
       "      <td>Male</td>\n",
       "      <td>United States</td>\n",
       "      <td>TX</td>\n",
       "      <td>NaN</td>\n",
       "      <td>No</td>\n",
       "      <td>No</td>\n",
       "      <td>Never</td>\n",
       "      <td>100-500</td>\n",
       "      <td>Yes</td>\n",
       "      <td>Yes</td>\n",
       "      <td>Yes</td>\n",
       "      <td>No</td>\n",
       "      <td>Don't know</td>\n",
       "      <td>Don't know</td>\n",
       "      <td>Don't know</td>\n",
       "      <td>Don't know</td>\n",
       "      <td>No</td>\n",
       "      <td>No</td>\n",
       "      <td>Some of them</td>\n",
       "      <td>Yes</td>\n",
       "      <td>Yes</td>\n",
       "      <td>Yes</td>\n",
       "      <td>Don't know</td>\n",
       "      <td>No</td>\n",
       "      <td>NaN</td>\n",
       "    </tr>\n",
       "  </tbody>\n",
       "</table>\n",
       "</div>"
      ],
      "text/plain": [
       "             Timestamp  Age  Gender         Country state self_employed  \\\n",
       "0  2014-08-27 11:29:31   37  Female   United States    IL           NaN   \n",
       "1  2014-08-27 11:29:37   44       M   United States    IN           NaN   \n",
       "2  2014-08-27 11:29:44   32    Male          Canada   NaN           NaN   \n",
       "3  2014-08-27 11:29:46   31    Male  United Kingdom   NaN           NaN   \n",
       "4  2014-08-27 11:30:22   31    Male   United States    TX           NaN   \n",
       "\n",
       "  family_history treatment work_interfere    no_employees remote_work  \\\n",
       "0             No       Yes          Often            6-25          No   \n",
       "1             No        No         Rarely  More than 1000          No   \n",
       "2             No        No         Rarely            6-25          No   \n",
       "3            Yes       Yes          Often          26-100          No   \n",
       "4             No        No          Never         100-500         Yes   \n",
       "\n",
       "  tech_company    benefits care_options wellness_program   seek_help  \\\n",
       "0          Yes         Yes     Not sure               No         Yes   \n",
       "1           No  Don't know           No       Don't know  Don't know   \n",
       "2          Yes          No           No               No          No   \n",
       "3          Yes          No          Yes               No          No   \n",
       "4          Yes         Yes           No       Don't know  Don't know   \n",
       "\n",
       "    anonymity               leave mental_health_consequence  \\\n",
       "0         Yes       Somewhat easy                        No   \n",
       "1  Don't know          Don't know                     Maybe   \n",
       "2  Don't know  Somewhat difficult                        No   \n",
       "3          No  Somewhat difficult                       Yes   \n",
       "4  Don't know          Don't know                        No   \n",
       "\n",
       "  phys_health_consequence     coworkers supervisor mental_health_interview  \\\n",
       "0                      No  Some of them        Yes                      No   \n",
       "1                      No            No         No                      No   \n",
       "2                      No           Yes        Yes                     Yes   \n",
       "3                     Yes  Some of them         No                   Maybe   \n",
       "4                      No  Some of them        Yes                     Yes   \n",
       "\n",
       "  phys_health_interview mental_vs_physical obs_consequence comments  \n",
       "0                 Maybe                Yes              No      NaN  \n",
       "1                    No         Don't know              No      NaN  \n",
       "2                   Yes                 No              No      NaN  \n",
       "3                 Maybe                 No             Yes      NaN  \n",
       "4                   Yes         Don't know              No      NaN  "
      ]
     },
     "execution_count": 2,
     "metadata": {},
     "output_type": "execute_result"
    }
   ],
   "source": [
    "data = pd.read_csv(filepath_or_buffer='https://raw.githubusercontent.com/insaid2018/Term-1/master/Data/Casestudy/survey.csv')\n",
    "print('Data Shape:', data.shape)\n",
    "data.head()"
   ]
  },
  {
   "cell_type": "code",
   "execution_count": 3,
   "metadata": {
    "scrolled": true
   },
   "outputs": [
    {
     "name": "stdout",
     "output_type": "stream",
     "text": [
      "<class 'pandas.core.frame.DataFrame'>\n",
      "RangeIndex: 1259 entries, 0 to 1258\n",
      "Data columns (total 27 columns):\n",
      " #   Column                     Non-Null Count  Dtype \n",
      "---  ------                     --------------  ----- \n",
      " 0   Timestamp                  1259 non-null   object\n",
      " 1   Age                        1259 non-null   int64 \n",
      " 2   Gender                     1259 non-null   object\n",
      " 3   Country                    1259 non-null   object\n",
      " 4   state                      744 non-null    object\n",
      " 5   self_employed              1241 non-null   object\n",
      " 6   family_history             1259 non-null   object\n",
      " 7   treatment                  1259 non-null   object\n",
      " 8   work_interfere             995 non-null    object\n",
      " 9   no_employees               1259 non-null   object\n",
      " 10  remote_work                1259 non-null   object\n",
      " 11  tech_company               1259 non-null   object\n",
      " 12  benefits                   1259 non-null   object\n",
      " 13  care_options               1259 non-null   object\n",
      " 14  wellness_program           1259 non-null   object\n",
      " 15  seek_help                  1259 non-null   object\n",
      " 16  anonymity                  1259 non-null   object\n",
      " 17  leave                      1259 non-null   object\n",
      " 18  mental_health_consequence  1259 non-null   object\n",
      " 19  phys_health_consequence    1259 non-null   object\n",
      " 20  coworkers                  1259 non-null   object\n",
      " 21  supervisor                 1259 non-null   object\n",
      " 22  mental_health_interview    1259 non-null   object\n",
      " 23  phys_health_interview      1259 non-null   object\n",
      " 24  mental_vs_physical         1259 non-null   object\n",
      " 25  obs_consequence            1259 non-null   object\n",
      " 26  comments                   164 non-null    object\n",
      "dtypes: int64(1), object(26)\n",
      "memory usage: 265.7+ KB\n"
     ]
    }
   ],
   "source": [
    "data.info()"
   ]
  },
  {
   "cell_type": "code",
   "execution_count": 4,
   "metadata": {
    "scrolled": true
   },
   "outputs": [
    {
     "data": {
      "text/html": [
       "<div>\n",
       "<style scoped>\n",
       "    .dataframe tbody tr th:only-of-type {\n",
       "        vertical-align: middle;\n",
       "    }\n",
       "\n",
       "    .dataframe tbody tr th {\n",
       "        vertical-align: top;\n",
       "    }\n",
       "\n",
       "    .dataframe thead th {\n",
       "        text-align: right;\n",
       "    }\n",
       "</style>\n",
       "<table border=\"1\" class=\"dataframe\">\n",
       "  <thead>\n",
       "    <tr style=\"text-align: right;\">\n",
       "      <th></th>\n",
       "      <th>Age</th>\n",
       "    </tr>\n",
       "  </thead>\n",
       "  <tbody>\n",
       "    <tr>\n",
       "      <th>count</th>\n",
       "      <td>1259.00000</td>\n",
       "    </tr>\n",
       "    <tr>\n",
       "      <th>mean</th>\n",
       "      <td>79428148.31136</td>\n",
       "    </tr>\n",
       "    <tr>\n",
       "      <th>std</th>\n",
       "      <td>2818299442.98195</td>\n",
       "    </tr>\n",
       "    <tr>\n",
       "      <th>min</th>\n",
       "      <td>-1726.00000</td>\n",
       "    </tr>\n",
       "    <tr>\n",
       "      <th>25%</th>\n",
       "      <td>27.00000</td>\n",
       "    </tr>\n",
       "    <tr>\n",
       "      <th>50%</th>\n",
       "      <td>31.00000</td>\n",
       "    </tr>\n",
       "    <tr>\n",
       "      <th>75%</th>\n",
       "      <td>36.00000</td>\n",
       "    </tr>\n",
       "    <tr>\n",
       "      <th>max</th>\n",
       "      <td>99999999999.00000</td>\n",
       "    </tr>\n",
       "  </tbody>\n",
       "</table>\n",
       "</div>"
      ],
      "text/plain": [
       "                    Age\n",
       "count        1259.00000\n",
       "mean     79428148.31136\n",
       "std    2818299442.98195\n",
       "min         -1726.00000\n",
       "25%            27.00000\n",
       "50%            31.00000\n",
       "75%            36.00000\n",
       "max   99999999999.00000"
      ]
     },
     "execution_count": 4,
     "metadata": {},
     "output_type": "execute_result"
    }
   ],
   "source": [
    "data.describe()"
   ]
  },
  {
   "cell_type": "code",
   "execution_count": 5,
   "metadata": {
    "scrolled": true
   },
   "outputs": [
    {
     "data": {
      "text/plain": [
       "-1726            1\n",
       "-29              1\n",
       "-1               1\n",
       " 5               1\n",
       " 8               1\n",
       " 11              1\n",
       " 18              7\n",
       " 19              9\n",
       " 20              6\n",
       " 21             16\n",
       " 22             21\n",
       " 23             51\n",
       " 24             46\n",
       " 25             61\n",
       " 26             75\n",
       " 27             71\n",
       " 28             68\n",
       " 29             85\n",
       " 30             63\n",
       " 31             67\n",
       " 32             82\n",
       " 33             70\n",
       " 34             65\n",
       " 35             55\n",
       " 36             37\n",
       " 37             43\n",
       " 38             39\n",
       " 39             33\n",
       " 40             33\n",
       " 41             21\n",
       " 42             20\n",
       " 43             28\n",
       " 44             11\n",
       " 45             12\n",
       " 46             12\n",
       " 47              2\n",
       " 48              6\n",
       " 49              4\n",
       " 50              6\n",
       " 51              5\n",
       " 53              1\n",
       " 54              3\n",
       " 55              3\n",
       " 56              4\n",
       " 57              3\n",
       " 58              1\n",
       " 60              2\n",
       " 61              1\n",
       " 62              1\n",
       " 65              1\n",
       " 72              1\n",
       " 329             1\n",
       " 99999999999     1\n",
       "Name: Age, dtype: int64"
      ]
     },
     "execution_count": 5,
     "metadata": {},
     "output_type": "execute_result"
    }
   ],
   "source": [
    "data['Age'].value_counts().sort_index()"
   ]
  },
  {
   "cell_type": "code",
   "execution_count": 6,
   "metadata": {},
   "outputs": [
    {
     "data": {
      "text/plain": [
       "Timestamp                    1246\n",
       "Age                            53\n",
       "Gender                         49\n",
       "Country                        48\n",
       "state                          45\n",
       "self_employed                   2\n",
       "family_history                  2\n",
       "treatment                       2\n",
       "work_interfere                  4\n",
       "no_employees                    6\n",
       "remote_work                     2\n",
       "tech_company                    2\n",
       "benefits                        3\n",
       "care_options                    3\n",
       "wellness_program                3\n",
       "seek_help                       3\n",
       "anonymity                       3\n",
       "leave                           5\n",
       "mental_health_consequence       3\n",
       "phys_health_consequence         3\n",
       "coworkers                       3\n",
       "supervisor                      3\n",
       "mental_health_interview         3\n",
       "phys_health_interview           3\n",
       "mental_vs_physical              3\n",
       "obs_consequence                 2\n",
       "comments                      160\n",
       "dtype: int64"
      ]
     },
     "execution_count": 6,
     "metadata": {},
     "output_type": "execute_result"
    }
   ],
   "source": [
    "data.nunique()"
   ]
  },
  {
   "cell_type": "code",
   "execution_count": null,
   "metadata": {},
   "outputs": [],
   "source": [
    "'''\n",
    "1. convert time stamp to datetime\n",
    "2. State has missing value - study - decide to impuite logically, not just the mode\n",
    "3. self employed - missing - mode\n",
    "4. work intefer - mode\n",
    "5. comment - missing - drop it.\n",
    "6. Age - wrong values, convert the data such that age>18 and <75, anything beyng should be changed.\n",
    "7. Gender - why the 49 unique values.\n",
    "8. \n",
    "'''"
   ]
  },
  {
   "cell_type": "code",
   "execution_count": 7,
   "metadata": {},
   "outputs": [],
   "source": [
    "# 1. convert time stamp to datetime\n",
    "data['Timestamp'] = pd.to_datetime(data['Timestamp'])"
   ]
  },
  {
   "cell_type": "code",
   "execution_count": 9,
   "metadata": {
    "scrolled": true
   },
   "outputs": [
    {
     "name": "stdout",
     "output_type": "stream",
     "text": [
      "<class 'pandas.core.frame.DataFrame'>\n",
      "RangeIndex: 1259 entries, 0 to 1258\n",
      "Data columns (total 27 columns):\n",
      " #   Column                     Non-Null Count  Dtype         \n",
      "---  ------                     --------------  -----         \n",
      " 0   Timestamp                  1259 non-null   datetime64[ns]\n",
      " 1   Age                        1259 non-null   int64         \n",
      " 2   Gender                     1259 non-null   object        \n",
      " 3   Country                    1259 non-null   object        \n",
      " 4   state                      744 non-null    object        \n",
      " 5   self_employed              1241 non-null   object        \n",
      " 6   family_history             1259 non-null   object        \n",
      " 7   treatment                  1259 non-null   object        \n",
      " 8   work_interfere             995 non-null    object        \n",
      " 9   no_employees               1259 non-null   object        \n",
      " 10  remote_work                1259 non-null   object        \n",
      " 11  tech_company               1259 non-null   object        \n",
      " 12  benefits                   1259 non-null   object        \n",
      " 13  care_options               1259 non-null   object        \n",
      " 14  wellness_program           1259 non-null   object        \n",
      " 15  seek_help                  1259 non-null   object        \n",
      " 16  anonymity                  1259 non-null   object        \n",
      " 17  leave                      1259 non-null   object        \n",
      " 18  mental_health_consequence  1259 non-null   object        \n",
      " 19  phys_health_consequence    1259 non-null   object        \n",
      " 20  coworkers                  1259 non-null   object        \n",
      " 21  supervisor                 1259 non-null   object        \n",
      " 22  mental_health_interview    1259 non-null   object        \n",
      " 23  phys_health_interview      1259 non-null   object        \n",
      " 24  mental_vs_physical         1259 non-null   object        \n",
      " 25  obs_consequence            1259 non-null   object        \n",
      " 26  comments                   164 non-null    object        \n",
      "dtypes: datetime64[ns](1), int64(1), object(25)\n",
      "memory usage: 265.7+ KB\n"
     ]
    }
   ],
   "source": [
    "data.info()"
   ]
  },
  {
   "cell_type": "code",
   "execution_count": 15,
   "metadata": {},
   "outputs": [
    {
     "data": {
      "text/plain": [
       "Country\n",
       "Australia                   0\n",
       "Austria                     0\n",
       "Bahamas, The                1\n",
       "Belgium                     0\n",
       "Bosnia and Herzegovina      0\n",
       "Brazil                      0\n",
       "Bulgaria                    1\n",
       "Canada                      0\n",
       "China                       0\n",
       "Colombia                    0\n",
       "Costa Rica                  0\n",
       "Croatia                     0\n",
       "Czech Republic              0\n",
       "Denmark                     0\n",
       "Finland                     0\n",
       "France                      0\n",
       "Georgia                     0\n",
       "Germany                     0\n",
       "Greece                      0\n",
       "Hungary                     0\n",
       "India                       0\n",
       "Ireland                     0\n",
       "Israel                      1\n",
       "Italy                       0\n",
       "Japan                       0\n",
       "Latvia                      1\n",
       "Mexico                      0\n",
       "Moldova                     0\n",
       "Netherlands                 0\n",
       "New Zealand                 0\n",
       "Nigeria                     0\n",
       "Norway                      0\n",
       "Philippines                 0\n",
       "Poland                      0\n",
       "Portugal                    0\n",
       "Romania                     0\n",
       "Russia                      0\n",
       "Singapore                   0\n",
       "Slovenia                    0\n",
       "South Africa                0\n",
       "Spain                       0\n",
       "Sweden                      0\n",
       "Switzerland                 0\n",
       "Thailand                    0\n",
       "United Kingdom              0\n",
       "United States             740\n",
       "Uruguay                     0\n",
       "Zimbabwe                    0\n",
       "Name: state, dtype: int64"
      ]
     },
     "execution_count": 15,
     "metadata": {},
     "output_type": "execute_result"
    }
   ],
   "source": [
    "# 2. State has missing value - study - decide to impuite logically, by replaceing with copuntry name\n",
    "\n",
    "data.groupby(by = ['Country'])['state'].count()\n"
   ]
  },
  {
   "cell_type": "code",
   "execution_count": 17,
   "metadata": {},
   "outputs": [
    {
     "data": {
      "text/plain": [
       "Country\n",
       "Australia                  21\n",
       "Austria                     3\n",
       "Bahamas, The                0\n",
       "Belgium                     6\n",
       "Bosnia and Herzegovina      1\n",
       "Brazil                      6\n",
       "Bulgaria                    3\n",
       "Canada                     72\n",
       "China                       1\n",
       "Colombia                    2\n",
       "Costa Rica                  1\n",
       "Croatia                     2\n",
       "Czech Republic              1\n",
       "Denmark                     2\n",
       "Finland                     3\n",
       "France                     13\n",
       "Georgia                     1\n",
       "Germany                    45\n",
       "Greece                      2\n",
       "Hungary                     1\n",
       "India                      10\n",
       "Ireland                    27\n",
       "Israel                      4\n",
       "Italy                       7\n",
       "Japan                       1\n",
       "Latvia                      0\n",
       "Mexico                      3\n",
       "Moldova                     1\n",
       "Netherlands                27\n",
       "New Zealand                 8\n",
       "Nigeria                     1\n",
       "Norway                      1\n",
       "Philippines                 1\n",
       "Poland                      7\n",
       "Portugal                    2\n",
       "Romania                     1\n",
       "Russia                      3\n",
       "Singapore                   4\n",
       "Slovenia                    1\n",
       "South Africa                6\n",
       "Spain                       1\n",
       "Sweden                      7\n",
       "Switzerland                 7\n",
       "Thailand                    1\n",
       "United Kingdom            185\n",
       "United States              11\n",
       "Uruguay                     1\n",
       "Zimbabwe                    1\n",
       "dtype: int64"
      ]
     },
     "execution_count": 17,
     "metadata": {},
     "output_type": "execute_result"
    }
   ],
   "source": [
    "data.groupby(by = ['Country'])['Country'].count() - data.groupby(by = ['Country'])['state'].count()"
   ]
  },
  {
   "cell_type": "code",
   "execution_count": 21,
   "metadata": {},
   "outputs": [],
   "source": [
    "data.loc[data['state'].isnull(),'state'] = data['Country']"
   ]
  },
  {
   "cell_type": "code",
   "execution_count": 23,
   "metadata": {},
   "outputs": [
    {
     "data": {
      "text/plain": [
       "0                           IL\n",
       "1                           IN\n",
       "2                       Canada\n",
       "3               United Kingdom\n",
       "4                           TX\n",
       "5                           TN\n",
       "6                           MI\n",
       "7                       Canada\n",
       "8                           IL\n",
       "9                       Canada\n",
       "10                          OH\n",
       "11                    Bulgaria\n",
       "12                          CA\n",
       "13                          CT\n",
       "14                      Canada\n",
       "15                          IL\n",
       "16              United Kingdom\n",
       "17                          TN\n",
       "18                          MD\n",
       "19                      France\n",
       "20                          NY\n",
       "21                          NC\n",
       "22                          MA\n",
       "23                          IA\n",
       "24                          CA\n",
       "25                          TN\n",
       "26                          TN\n",
       "27                          CA\n",
       "28                          OH\n",
       "29              United Kingdom\n",
       "30              United Kingdom\n",
       "31                          PA\n",
       "32              United Kingdom\n",
       "33                          WA\n",
       "34                          WI\n",
       "35                          NY\n",
       "36                      Canada\n",
       "37                    Portugal\n",
       "38                          IN\n",
       "39                          TX\n",
       "40              United Kingdom\n",
       "41                          MI\n",
       "42                      Canada\n",
       "43                 Netherlands\n",
       "44                          IN\n",
       "45                          TX\n",
       "46              United Kingdom\n",
       "47                          TN\n",
       "48                      Canada\n",
       "49                          IL\n",
       "50                          TX\n",
       "51                          UT\n",
       "52               United States\n",
       "53                          TN\n",
       "54                 Switzerland\n",
       "55                          NY\n",
       "56                          TN\n",
       "57                          NY\n",
       "58                          TN\n",
       "59                      Canada\n",
       "60                          IA\n",
       "61                      Poland\n",
       "62              United Kingdom\n",
       "63                      France\n",
       "64                      Canada\n",
       "65                          CA\n",
       "66                   Australia\n",
       "67                          TX\n",
       "68                          NM\n",
       "69                          NY\n",
       "70                      France\n",
       "71                      Canada\n",
       "72                          MA\n",
       "73              United Kingdom\n",
       "74                          CA\n",
       "75              United Kingdom\n",
       "76                          WA\n",
       "77                          WA\n",
       "78                          UT\n",
       "79                     Germany\n",
       "80                          NY\n",
       "81              United Kingdom\n",
       "82                      Canada\n",
       "83                          NY\n",
       "84                          CA\n",
       "85                          TX\n",
       "86              United Kingdom\n",
       "87                          OR\n",
       "88                          FL\n",
       "89                          IL\n",
       "90                          NY\n",
       "91                          TX\n",
       "92                          OH\n",
       "93                      Russia\n",
       "94                      Canada\n",
       "95                          MN\n",
       "96                          MO\n",
       "97                      Mexico\n",
       "98                          AZ\n",
       "99                          IN\n",
       "100                     Canada\n",
       "101                         MA\n",
       "102                         NY\n",
       "103                         WI\n",
       "104                         NY\n",
       "105                         MO\n",
       "106                         OR\n",
       "107                     Brazil\n",
       "108                         TN\n",
       "109                         WA\n",
       "110                         NY\n",
       "111                         CA\n",
       "112                         MO\n",
       "113                         NY\n",
       "114                         TX\n",
       "115             United Kingdom\n",
       "116             United Kingdom\n",
       "117                     Canada\n",
       "118                         CT\n",
       "119                         CO\n",
       "120                         GA\n",
       "121                         DC\n",
       "122                         MN\n",
       "123                         WA\n",
       "124                     Canada\n",
       "125                         WA\n",
       "126             United Kingdom\n",
       "127                         OR\n",
       "128             United Kingdom\n",
       "129                   Slovenia\n",
       "130                         IL\n",
       "131                         CA\n",
       "132                         NE\n",
       "133                 Costa Rica\n",
       "134                     Canada\n",
       "135             United Kingdom\n",
       "136             United Kingdom\n",
       "137                         IA\n",
       "138                         MD\n",
       "139                    Austria\n",
       "140                         OR\n",
       "141             United Kingdom\n",
       "142                         TX\n",
       "143                         MN\n",
       "144                         PA\n",
       "145                         IN\n",
       "146             United Kingdom\n",
       "147                         WV\n",
       "148                    Ireland\n",
       "149                         MI\n",
       "150                     Canada\n",
       "151                         CA\n",
       "152                     Poland\n",
       "153                         IL\n",
       "154             United Kingdom\n",
       "155                         IL\n",
       "156                         CA\n",
       "157                         OK\n",
       "158                         UT\n",
       "159                         IL\n",
       "160             United Kingdom\n",
       "161                         NY\n",
       "162                         CA\n",
       "163                         MA\n",
       "164                         WA\n",
       "165             United Kingdom\n",
       "166                         MN\n",
       "167                         CA\n",
       "168                    Ireland\n",
       "169             United Kingdom\n",
       "170             United Kingdom\n",
       "171             United Kingdom\n",
       "172                      India\n",
       "173                         NC\n",
       "174                     Canada\n",
       "175                         MO\n",
       "176             United Kingdom\n",
       "177                         MA\n",
       "178                         CA\n",
       "179                         TX\n",
       "180                     Mexico\n",
       "181                      India\n",
       "182             United Kingdom\n",
       "183                         CA\n",
       "184                         WA\n",
       "185                         MA\n",
       "186             United Kingdom\n",
       "187                     France\n",
       "188             United Kingdom\n",
       "189                         CA\n",
       "190               South Africa\n",
       "191                         MI\n",
       "192                     Russia\n",
       "193                         CA\n",
       "194                    Germany\n",
       "195                      Italy\n",
       "196                         NY\n",
       "197                         CA\n",
       "198                         TN\n",
       "199             United Kingdom\n",
       "200                         OR\n",
       "201                         MN\n",
       "202                         FL\n",
       "203                    Ireland\n",
       "204                    Austria\n",
       "205             United Kingdom\n",
       "206                     Canada\n",
       "207                         MA\n",
       "208                         KS\n",
       "209                   Bulgaria\n",
       "210                         DC\n",
       "211             United Kingdom\n",
       "212             United Kingdom\n",
       "213                         TX\n",
       "214                         MA\n",
       "215                         MI\n",
       "216                    Germany\n",
       "217                     Canada\n",
       "218                         NY\n",
       "219                         VA\n",
       "220                         WA\n",
       "221             United Kingdom\n",
       "222                         PA\n",
       "223                         MI\n",
       "224                         PA\n",
       "225                         OR\n",
       "226                         WA\n",
       "227                  Australia\n",
       "228                         PA\n",
       "229             United Kingdom\n",
       "230                         OH\n",
       "231                         TX\n",
       "232             United Kingdom\n",
       "233                         NH\n",
       "234                Netherlands\n",
       "235             United Kingdom\n",
       "236                     Canada\n",
       "237             United Kingdom\n",
       "238                         NC\n",
       "239                     Canada\n",
       "240                     Sweden\n",
       "241                         FL\n",
       "242                         CA\n",
       "243               South Africa\n",
       "244                         GA\n",
       "245                         OH\n",
       "246                         KY\n",
       "247             United Kingdom\n",
       "248                         NC\n",
       "249                         NY\n",
       "250                         AL\n",
       "251                         GA\n",
       "252                         CA\n",
       "253             United Kingdom\n",
       "254                         VA\n",
       "255                     Canada\n",
       "256             United Kingdom\n",
       "257                         WA\n",
       "258             United Kingdom\n",
       "259                  Australia\n",
       "260                         TX\n",
       "261                     Canada\n",
       "262                         FL\n",
       "263                     Poland\n",
       "264                     Canada\n",
       "265                         NV\n",
       "266                         AL\n",
       "267             United Kingdom\n",
       "268                         CA\n",
       "269                         CO\n",
       "270                    Ireland\n",
       "271                         MN\n",
       "272                         NJ\n",
       "273             United Kingdom\n",
       "274                         PA\n",
       "275                     Canada\n",
       "276                         MO\n",
       "277                   Colombia\n",
       "278                         MN\n",
       "279                         PA\n",
       "280                  Australia\n",
       "281                   Portugal\n",
       "282                         TX\n",
       "283                         NY\n",
       "284                     Canada\n",
       "285             United Kingdom\n",
       "286                         WA\n",
       "287                         WA\n",
       "288                         TX\n",
       "289                         TX\n",
       "290                Switzerland\n",
       "291                         CA\n",
       "292                         NY\n",
       "293                         CA\n",
       "294              United States\n",
       "295                         CA\n",
       "296                         SC\n",
       "297                         CA\n",
       "298                         CA\n",
       "299                         NY\n",
       "300                         NY\n",
       "301                         CA\n",
       "302                         MA\n",
       "303                         WA\n",
       "304                         CA\n",
       "305                     Canada\n",
       "306                         IL\n",
       "307                         IN\n",
       "308                         OR\n",
       "309                         TN\n",
       "310                     Canada\n",
       "311                         OR\n",
       "312                         WA\n",
       "313                         CA\n",
       "314                         CA\n",
       "315                         VT\n",
       "316                         NY\n",
       "317                         UT\n",
       "318                         NY\n",
       "319                         NY\n",
       "320                         SD\n",
       "321                         CA\n",
       "322                         OR\n",
       "323                         CA\n",
       "324                         CA\n",
       "325                         CA\n",
       "326                         CO\n",
       "327                         CA\n",
       "328                         OH\n",
       "329                    Germany\n",
       "330                         WA\n",
       "331                     Canada\n",
       "332                         OH\n",
       "333                    Ireland\n",
       "334                    Romania\n",
       "335                         WA\n",
       "336             United Kingdom\n",
       "337                         CA\n",
       "338                         MA\n",
       "339                         WA\n",
       "340                         MI\n",
       "341                         WA\n",
       "342                         CA\n",
       "343                         IA\n",
       "344             United Kingdom\n",
       "345                         WA\n",
       "346                         AL\n",
       "347                         CA\n",
       "348                         CA\n",
       "349                         CA\n",
       "350                    Belgium\n",
       "351                         MA\n",
       "352             United Kingdom\n",
       "353                         CA\n",
       "354                     Sweden\n",
       "355                         CA\n",
       "356                         IN\n",
       "357                         WA\n",
       "358                         WA\n",
       "359                         IN\n",
       "360                         WA\n",
       "361                    Germany\n",
       "362                         OK\n",
       "363                         MI\n",
       "364                         OH\n",
       "365                         GA\n",
       "366                         CA\n",
       "367              United States\n",
       "368                         IN\n",
       "369             United Kingdom\n",
       "370                         WA\n",
       "371                         WA\n",
       "372                         PA\n",
       "373                         WA\n",
       "374                         CA\n",
       "375                         MA\n",
       "376                         WA\n",
       "377                         WA\n",
       "378                         NY\n",
       "379                         CA\n",
       "380                     Canada\n",
       "381                         CA\n",
       "382                         IN\n",
       "383                    Germany\n",
       "384                         NV\n",
       "385                         CO\n",
       "386                New Zealand\n",
       "387                         CA\n",
       "388                         CA\n",
       "389                     Sweden\n",
       "390                   Zimbabwe\n",
       "391                         PA\n",
       "392                         SC\n",
       "393                     Canada\n",
       "394                         TX\n",
       "395                         TX\n",
       "396             United Kingdom\n",
       "397             United Kingdom\n",
       "398                         AL\n",
       "399                     Canada\n",
       "400                         OR\n",
       "401                         NJ\n",
       "402                         CA\n",
       "403                         CA\n",
       "404                    Germany\n",
       "405                         CA\n",
       "406                         NH\n",
       "407                         CA\n",
       "408                     Brazil\n",
       "409                      Spain\n",
       "410                         OH\n",
       "411                         OH\n",
       "412                         MA\n",
       "413             United Kingdom\n",
       "414                         OK\n",
       "415                         CA\n",
       "416                    Germany\n",
       "417                      India\n",
       "418                    Finland\n",
       "419                         ID\n",
       "420                    Germany\n",
       "421                    Uruguay\n",
       "422                New Zealand\n",
       "423             United Kingdom\n",
       "424                         NY\n",
       "425                         CA\n",
       "426                         TX\n",
       "427                         MD\n",
       "428                         IN\n",
       "429                         OR\n",
       "430                     Canada\n",
       "431                         NY\n",
       "432                         MS\n",
       "433                         NJ\n",
       "434                         CA\n",
       "435                         TN\n",
       "436                         WA\n",
       "437                  Australia\n",
       "438                         MA\n",
       "439                         PA\n",
       "440             United Kingdom\n",
       "441                         KY\n",
       "442                         PA\n",
       "443                         MA\n",
       "444                     Canada\n",
       "445                         CA\n",
       "446                         VT\n",
       "447                         CA\n",
       "448                         AZ\n",
       "449                     Canada\n",
       "450                         MA\n",
       "451                         VA\n",
       "452                         WA\n",
       "453                         CA\n",
       "454                         OR\n",
       "455                         MI\n",
       "456                     Brazil\n",
       "457                Netherlands\n",
       "458             United Kingdom\n",
       "459                         OR\n",
       "460             United Kingdom\n",
       "461                         CA\n",
       "462                         UT\n",
       "463                         CA\n",
       "464                         TX\n",
       "465             United Kingdom\n",
       "466                         CA\n",
       "467             United Kingdom\n",
       "468                     France\n",
       "469                Netherlands\n",
       "470                         OR\n",
       "471                         CA\n",
       "472                         OH\n",
       "473             United Kingdom\n",
       "474                         OH\n",
       "475                         CA\n",
       "476                    Germany\n",
       "477                    Germany\n",
       "478                    Finland\n",
       "479                         NY\n",
       "480                         VA\n",
       "481                         CA\n",
       "482             United Kingdom\n",
       "483                         IL\n",
       "484                         TX\n",
       "485                    Germany\n",
       "486                         NY\n",
       "487                         CA\n",
       "488                         MD\n",
       "489                      Italy\n",
       "490                         CA\n",
       "491                         PA\n",
       "492                     Israel\n",
       "493                         CA\n",
       "494                         WA\n",
       "495                         NY\n",
       "496                         TX\n",
       "497                         CA\n",
       "498             United Kingdom\n",
       "499                Netherlands\n",
       "500                         AZ\n",
       "501                    Ireland\n",
       "502             United Kingdom\n",
       "503                    Germany\n",
       "504                         OH\n",
       "505                         CA\n",
       "506                         KS\n",
       "507             United Kingdom\n",
       "508                         CA\n",
       "509                         CA\n",
       "510                         NY\n",
       "511                         WA\n",
       "512                         CA\n",
       "513                         WA\n",
       "514                         VA\n",
       "515                         NC\n",
       "516                         OH\n",
       "517                         PA\n",
       "518                    Germany\n",
       "519             United Kingdom\n",
       "520                         CA\n",
       "521                         TX\n",
       "522                         AZ\n",
       "523     Bosnia and Herzegovina\n",
       "524                         IL\n",
       "525              United States\n",
       "526                    Austria\n",
       "527                New Zealand\n",
       "528                         NC\n",
       "529                     Canada\n",
       "530             United Kingdom\n",
       "531                  Australia\n",
       "532                    Hungary\n",
       "533                     Sweden\n",
       "534                     Canada\n",
       "535                  Australia\n",
       "536                         WI\n",
       "537                         CA\n",
       "538             United Kingdom\n",
       "539                         CA\n",
       "540                         MN\n",
       "541                         PA\n",
       "542             United Kingdom\n",
       "543                         CA\n",
       "544             United Kingdom\n",
       "545             United Kingdom\n",
       "546             United Kingdom\n",
       "547                         CA\n",
       "548                         CA\n",
       "549                    Germany\n",
       "550                         CA\n",
       "551                New Zealand\n",
       "552                     Canada\n",
       "553             United Kingdom\n",
       "554                New Zealand\n",
       "555                     Canada\n",
       "556                  Australia\n",
       "557                         NY\n",
       "558                Netherlands\n",
       "559                         CA\n",
       "560                         FL\n",
       "561                         OR\n",
       "562                  Australia\n",
       "563                         CO\n",
       "564                     Canada\n",
       "565                         GA\n",
       "566                         OR\n",
       "567                         CA\n",
       "568                         CA\n",
       "569                         PA\n",
       "570                         CA\n",
       "571                         CA\n",
       "572                         NY\n",
       "573                         MA\n",
       "574              United States\n",
       "575                         PA\n",
       "576                         RI\n",
       "577                         MI\n",
       "578                     Canada\n",
       "579                         IL\n",
       "580                         CA\n",
       "581                         OR\n",
       "582                     Canada\n",
       "583                         IN\n",
       "584                  Singapore\n",
       "585                         MA\n",
       "586                  Australia\n",
       "587                         MI\n",
       "588                         OH\n",
       "589                         OH\n",
       "590                         NH\n",
       "591                         OH\n",
       "592                     Canada\n",
       "593                         TN\n",
       "594                         OR\n",
       "595                         PA\n",
       "596              United States\n",
       "597                         NY\n",
       "598                         WA\n",
       "599                         NY\n",
       "600                         CA\n",
       "601                         TN\n",
       "602                         WI\n",
       "603                         WI\n",
       "604                         PA\n",
       "605                         MI\n",
       "606                         WY\n",
       "607                         KY\n",
       "608                         NY\n",
       "609                  Australia\n",
       "610                         TX\n",
       "611                         WI\n",
       "612                         WA\n",
       "613                  Singapore\n",
       "614                         WA\n",
       "615                         GA\n",
       "616                         MI\n",
       "617                         MD\n",
       "618                Netherlands\n",
       "619             United Kingdom\n",
       "620                    Germany\n",
       "621                Netherlands\n",
       "622                         WA\n",
       "623                         CA\n",
       "624                         OR\n",
       "625                         CA\n",
       "626                     Canada\n",
       "627                         CA\n",
       "628                     Canada\n",
       "629                         MI\n",
       "630             United Kingdom\n",
       "631                         MA\n",
       "632                    Germany\n",
       "633                         CA\n",
       "634                    Germany\n",
       "635                    Germany\n",
       "636                     Poland\n",
       "637             United Kingdom\n",
       "638              United States\n",
       "639                      Japan\n",
       "640                    Germany\n",
       "641                    Germany\n",
       "642                  Australia\n",
       "643                         CA\n",
       "644                    Belgium\n",
       "645                    Ireland\n",
       "646                    Ireland\n",
       "647                  Australia\n",
       "648                  Australia\n",
       "649                Netherlands\n",
       "650                         FL\n",
       "651             United Kingdom\n",
       "652             United Kingdom\n",
       "653                  Australia\n",
       "654                         WA\n",
       "655                    Nigeria\n",
       "656                     Poland\n",
       "657                    Germany\n",
       "658             United Kingdom\n",
       "659                    Germany\n",
       "660                Switzerland\n",
       "661             United Kingdom\n",
       "662                         CA\n",
       "663                    Ireland\n",
       "664                      Italy\n",
       "665                    Ireland\n",
       "666                      India\n",
       "667                    Ireland\n",
       "668                Netherlands\n",
       "669                     France\n",
       "670                     Russia\n",
       "671                         NC\n",
       "672                     Canada\n",
       "673                     Israel\n",
       "674                     Canada\n",
       "675                         IL\n",
       "676                      India\n",
       "677                         OH\n",
       "678                    Germany\n",
       "679                         VA\n",
       "680                   Bulgaria\n",
       "681                         MN\n",
       "682                         MO\n",
       "683                     Canada\n",
       "684             United Kingdom\n",
       "685                      India\n",
       "686                         NC\n",
       "687                         NY\n",
       "688                         NM\n",
       "689             United Kingdom\n",
       "690                     Canada\n",
       "691                Netherlands\n",
       "692                    Germany\n",
       "693                     Canada\n",
       "694             United Kingdom\n",
       "695             United Kingdom\n",
       "696                     France\n",
       "697                         TX\n",
       "698                     France\n",
       "699                         SC\n",
       "700                         FL\n",
       "701                         WA\n",
       "702                         CA\n",
       "703                         OH\n",
       "704                         TN\n",
       "705             United Kingdom\n",
       "706                         NY\n",
       "707                         NY\n",
       "708                         MO\n",
       "709                         NY\n",
       "710             United Kingdom\n",
       "711                     France\n",
       "712                         TN\n",
       "713                         CO\n",
       "714                         PA\n",
       "715             United Kingdom\n",
       "716                    Germany\n",
       "717                         NY\n",
       "718                Netherlands\n",
       "719                         MN\n",
       "720             United Kingdom\n",
       "721                     Canada\n",
       "722                     Canada\n",
       "723                         MO\n",
       "724                         WY\n",
       "725               South Africa\n",
       "726                    Germany\n",
       "727                Switzerland\n",
       "728                         MN\n",
       "729                    Croatia\n",
       "730             United Kingdom\n",
       "731                     France\n",
       "732                         MD\n",
       "733                         KY\n",
       "734                         OH\n",
       "735             United Kingdom\n",
       "736                         NY\n",
       "737             United Kingdom\n",
       "738             United Kingdom\n",
       "739                         TN\n",
       "740                  Australia\n",
       "741                    Belgium\n",
       "742             United Kingdom\n",
       "743                         TX\n",
       "744                         OH\n",
       "745                         TX\n",
       "746                     Canada\n",
       "747                      Italy\n",
       "748                         CA\n",
       "749                     Canada\n",
       "750                     Norway\n",
       "751                    Germany\n",
       "752                         MI\n",
       "753                   Thailand\n",
       "754                         CA\n",
       "755                         OR\n",
       "756                         NC\n",
       "757                         CA\n",
       "758                    Germany\n",
       "759                         IL\n",
       "760                     Canada\n",
       "761                         CA\n",
       "762                    Ireland\n",
       "763                    Ireland\n",
       "764                         CA\n",
       "765                Netherlands\n",
       "766                         AZ\n",
       "767             United Kingdom\n",
       "768                         CA\n",
       "769             United Kingdom\n",
       "770             United Kingdom\n",
       "771                         VA\n",
       "772             United Kingdom\n",
       "773             United Kingdom\n",
       "774             United Kingdom\n",
       "775                     Canada\n",
       "776                         VA\n",
       "777             United Kingdom\n",
       "778                         WA\n",
       "779             United Kingdom\n",
       "780             United Kingdom\n",
       "781                         WI\n",
       "782             United Kingdom\n",
       "783                         CA\n",
       "784                         CA\n",
       "785                         NE\n",
       "786             United Kingdom\n",
       "787                         CO\n",
       "788                Netherlands\n",
       "789                Switzerland\n",
       "790             United Kingdom\n",
       "791                         NY\n",
       "792                         TX\n",
       "793                         LA\n",
       "794                         WA\n",
       "795                         MI\n",
       "796                         CA\n",
       "797                     Brazil\n",
       "798                Switzerland\n",
       "799                         CA\n",
       "800                         MD\n",
       "801                         CA\n",
       "802                         CT\n",
       "803                         CA\n",
       "804             United Kingdom\n",
       "805                         CA\n",
       "806                         WA\n",
       "807                         CA\n",
       "808                         IN\n",
       "809                         TX\n",
       "810             United Kingdom\n",
       "811             United Kingdom\n",
       "812                         MO\n",
       "813                         NV\n",
       "814             United Kingdom\n",
       "815                         WA\n",
       "816                         FL\n",
       "817              United States\n",
       "818                    Germany\n",
       "819                    Denmark\n",
       "820                         WA\n",
       "821                    Denmark\n",
       "822                         IL\n",
       "823                         FL\n",
       "824                         MA\n",
       "825                         CA\n",
       "826                         WA\n",
       "827                         MI\n",
       "828             United Kingdom\n",
       "829                         MI\n",
       "830                         WI\n",
       "831                         CA\n",
       "832                     Sweden\n",
       "833                         CA\n",
       "834                         TX\n",
       "835             United Kingdom\n",
       "836                         NY\n",
       "837                         PA\n",
       "838             United Kingdom\n",
       "839                         PA\n",
       "840                         GA\n",
       "841             United Kingdom\n",
       "842                         NY\n",
       "843                         CA\n",
       "844                         TN\n",
       "845                      Italy\n",
       "846                         TN\n",
       "847                Netherlands\n",
       "848                         TN\n",
       "849                         IL\n",
       "850                         WI\n",
       "851                         KY\n",
       "852             United Kingdom\n",
       "853                     Canada\n",
       "854              United States\n",
       "855                         CA\n",
       "856                         MN\n",
       "857                         TN\n",
       "858                         MN\n",
       "859             United Kingdom\n",
       "860             United Kingdom\n",
       "861             United Kingdom\n",
       "862                         IL\n",
       "863                         TN\n",
       "864                         IL\n",
       "865             United Kingdom\n",
       "866                         DC\n",
       "867                         KS\n",
       "868                    Germany\n",
       "869                     Mexico\n",
       "870                         CA\n",
       "871             United Kingdom\n",
       "872             United Kingdom\n",
       "873                         TN\n",
       "874                         OK\n",
       "875                         CA\n",
       "876                         TN\n",
       "877                         TX\n",
       "878             United Kingdom\n",
       "879                         CO\n",
       "880                         TN\n",
       "881                         GA\n",
       "882                         TN\n",
       "883                         VA\n",
       "884                         TN\n",
       "885                         DC\n",
       "886             United Kingdom\n",
       "887             United Kingdom\n",
       "888                      India\n",
       "889                         TN\n",
       "890                         VA\n",
       "891                         TN\n",
       "892                         TN\n",
       "893                         TN\n",
       "894                         TN\n",
       "895                         TN\n",
       "896                         IN\n",
       "897                    Germany\n",
       "898                         VA\n",
       "899                         TX\n",
       "900                         TX\n",
       "901             United Kingdom\n",
       "902                         CA\n",
       "903             United Kingdom\n",
       "904                         CO\n",
       "905                         OR\n",
       "906                         OK\n",
       "907                         OH\n",
       "908                         TN\n",
       "909                         VA\n",
       "910                  Australia\n",
       "911                         OR\n",
       "912             United Kingdom\n",
       "913                         OR\n",
       "914                     Canada\n",
       "915             United Kingdom\n",
       "916                         PA\n",
       "917             United Kingdom\n",
       "918                         SC\n",
       "919                         CA\n",
       "920                         TN\n",
       "921                         UT\n",
       "922                         CA\n",
       "923                New Zealand\n",
       "924                         MO\n",
       "925                         CA\n",
       "926              United States\n",
       "927                         NY\n",
       "928                         TX\n",
       "929                         MO\n",
       "930                         GA\n",
       "931                         TX\n",
       "932                         WA\n",
       "933                         WA\n",
       "934                         WA\n",
       "935             United Kingdom\n",
       "936                         TX\n",
       "937                Netherlands\n",
       "938                         WA\n",
       "939                         WA\n",
       "940                         WA\n",
       "941                         WA\n",
       "942                         AZ\n",
       "943                         WA\n",
       "944                         WA\n",
       "945                         AZ\n",
       "946                         NY\n",
       "947                         WA\n",
       "948                         CA\n",
       "949                         WA\n",
       "950                Netherlands\n",
       "951             United Kingdom\n",
       "952               South Africa\n",
       "953                         WA\n",
       "954                         TN\n",
       "955                    Germany\n",
       "956                         WA\n",
       "957                Netherlands\n",
       "958                         CA\n",
       "959             United Kingdom\n",
       "960             United Kingdom\n",
       "961                    Germany\n",
       "962                    Germany\n",
       "963             United Kingdom\n",
       "964             United Kingdom\n",
       "965             United Kingdom\n",
       "966             United Kingdom\n",
       "967             United Kingdom\n",
       "968             United Kingdom\n",
       "969             United Kingdom\n",
       "970                         MI\n",
       "971             United Kingdom\n",
       "972                         IN\n",
       "973                         GA\n",
       "974                    Germany\n",
       "975                    Germany\n",
       "976                         WA\n",
       "977                     France\n",
       "978                    Belgium\n",
       "979             United Kingdom\n",
       "980                         ME\n",
       "981                     Canada\n",
       "982             United Kingdom\n",
       "983                         NY\n",
       "984                     Canada\n",
       "985             United Kingdom\n",
       "986             United Kingdom\n",
       "987             United Kingdom\n",
       "988                         PA\n",
       "989                         IL\n",
       "990             United Kingdom\n",
       "991             United Kingdom\n",
       "992                         IL\n",
       "993             United Kingdom\n",
       "994                      India\n",
       "995             United Kingdom\n",
       "996                         MN\n",
       "997                         TX\n",
       "998             United Kingdom\n",
       "999                     Sweden\n",
       "1000                        PA\n",
       "1001                        IN\n",
       "1002                        PA\n",
       "1003                        OH\n",
       "1004            United Kingdom\n",
       "1005            United Kingdom\n",
       "1006                        PA\n",
       "1007                        SD\n",
       "1008                        IN\n",
       "1009                        CA\n",
       "1010                        TN\n",
       "1011                        TX\n",
       "1012                        TN\n",
       "1013                        OR\n",
       "1014                        SD\n",
       "1015                    Israel\n",
       "1016                        NY\n",
       "1017                        CT\n",
       "1018                        CA\n",
       "1019             United States\n",
       "1020                    Canada\n",
       "1021                        GA\n",
       "1022                        TN\n",
       "1023            United Kingdom\n",
       "1024                        IN\n",
       "1025                        CA\n",
       "1026                        OR\n",
       "1027                        IN\n",
       "1028                        GA\n",
       "1029                        IN\n",
       "1030                        MN\n",
       "1031                        MN\n",
       "1032                        NC\n",
       "1033                        FL\n",
       "1034                        MN\n",
       "1035                    Canada\n",
       "1036                 Australia\n",
       "1037                        MO\n",
       "1038                        CA\n",
       "1039                        OR\n",
       "1040                        OH\n",
       "1041                        NY\n",
       "1042                        WI\n",
       "1043                        WA\n",
       "1044            United Kingdom\n",
       "1045                    Canada\n",
       "1046                     Italy\n",
       "1047                    Brazil\n",
       "1048                        IL\n",
       "1049            United Kingdom\n",
       "1050                        WA\n",
       "1051                        IL\n",
       "1052               Switzerland\n",
       "1053                        FL\n",
       "1054                        TN\n",
       "1055                        WA\n",
       "1056                        CA\n",
       "1057                        FL\n",
       "1058                    Canada\n",
       "1059                        OR\n",
       "1060                        NJ\n",
       "1061                        CA\n",
       "1062                        FL\n",
       "1063                        UT\n",
       "1064                   Germany\n",
       "1065              South Africa\n",
       "1066                        NJ\n",
       "1067                        PA\n",
       "1068                        IN\n",
       "1069                    Greece\n",
       "1070                        OH\n",
       "1071                        OH\n",
       "1072                        IL\n",
       "1073                        IN\n",
       "1074                        CA\n",
       "1075                        WA\n",
       "1076                        VA\n",
       "1077                        WA\n",
       "1078                        NJ\n",
       "1079               Netherlands\n",
       "1080                        UT\n",
       "1081               Netherlands\n",
       "1082                        TN\n",
       "1083                    Canada\n",
       "1084            United Kingdom\n",
       "1085                   Germany\n",
       "1086                   Germany\n",
       "1087                        IN\n",
       "1088                        IN\n",
       "1089                        CA\n",
       "1090                        OH\n",
       "1091                        TX\n",
       "1092                        TN\n",
       "1093                        WA\n",
       "1094                        UT\n",
       "1095                        AL\n",
       "1096                        WI\n",
       "1097                        WA\n",
       "1098                        WI\n",
       "1099                        NY\n",
       "1100                        NY\n",
       "1101                        OH\n",
       "1102                    Canada\n",
       "1103                        WA\n",
       "1104                        CA\n",
       "1105                        SC\n",
       "1106                    France\n",
       "1107                 Australia\n",
       "1108                        CA\n",
       "1109                     India\n",
       "1110                   Croatia\n",
       "1111                    France\n",
       "1112                   Germany\n",
       "1113                        MN\n",
       "1114                        WA\n",
       "1115                    Canada\n",
       "1116            United Kingdom\n",
       "1117                        PA\n",
       "1118                        NY\n",
       "1119                        VT\n",
       "1120            United Kingdom\n",
       "1121            United Kingdom\n",
       "1122            United Kingdom\n",
       "1123                        MI\n",
       "1124                        NY\n",
       "1125                   Germany\n",
       "1126                        NY\n",
       "1127                        AL\n",
       "1128               Netherlands\n",
       "1129                        MI\n",
       "1130                        WA\n",
       "1131            United Kingdom\n",
       "1132                        TN\n",
       "1133               New Zealand\n",
       "1134               New Zealand\n",
       "1135            United Kingdom\n",
       "1136            United Kingdom\n",
       "1137            United Kingdom\n",
       "1138                   Germany\n",
       "1139            United Kingdom\n",
       "1140                   Moldova\n",
       "1141                    Sweden\n",
       "1142                   Belgium\n",
       "1143            United Kingdom\n",
       "1144                    Israel\n",
       "1145                        NY\n",
       "1146            United Kingdom\n",
       "1147            United Kingdom\n",
       "1148                        IN\n",
       "1149                        NC\n",
       "1150                        CA\n",
       "1151            United Kingdom\n",
       "1152                    Canada\n",
       "1153            United Kingdom\n",
       "1154                        TN\n",
       "1155                    Canada\n",
       "1156               Netherlands\n",
       "1157            United Kingdom\n",
       "1158                        MN\n",
       "1159                 Singapore\n",
       "1160                        NC\n",
       "1161            United Kingdom\n",
       "1162                     India\n",
       "1163                        TX\n",
       "1164                        CA\n",
       "1165                        CA\n",
       "1166                        IL\n",
       "1167                    Poland\n",
       "1168                  Colombia\n",
       "1169                        PA\n",
       "1170                        IL\n",
       "1171                        IL\n",
       "1172                        MN\n",
       "1173            United Kingdom\n",
       "1174                   Georgia\n",
       "1175                        NY\n",
       "1176                        MI\n",
       "1177                        OH\n",
       "1178                     China\n",
       "1179                        UT\n",
       "1180                        NY\n",
       "1181                        CA\n",
       "1182                        IN\n",
       "1183                        IN\n",
       "1184                        VA\n",
       "1185                        OK\n",
       "1186                        OR\n",
       "1187                        AL\n",
       "1188                   Belgium\n",
       "1189                        AL\n",
       "1190                        OH\n",
       "1191                    Canada\n",
       "1192            United Kingdom\n",
       "1193                     Italy\n",
       "1194                   Germany\n",
       "1195                   Ireland\n",
       "1196                   Ireland\n",
       "1197                   Ireland\n",
       "1198                        TX\n",
       "1199                   Ireland\n",
       "1200                 Australia\n",
       "1201                        TX\n",
       "1202                    Brazil\n",
       "1203            United Kingdom\n",
       "1204                   Ireland\n",
       "1205                   Ireland\n",
       "1206            United Kingdom\n",
       "1207                        TX\n",
       "1208            Czech Republic\n",
       "1209                 Singapore\n",
       "1210                   Ireland\n",
       "1211                   Ireland\n",
       "1212            United Kingdom\n",
       "1213               Philippines\n",
       "1214                        FL\n",
       "1215               Netherlands\n",
       "1216            United Kingdom\n",
       "1217                   Ireland\n",
       "1218               Netherlands\n",
       "1219                        TX\n",
       "1220                        CA\n",
       "1221                        MD\n",
       "1222               Netherlands\n",
       "1223            United Kingdom\n",
       "1224                   Ireland\n",
       "1225                   Ireland\n",
       "1226               Netherlands\n",
       "1227                   Ireland\n",
       "1228                        MN\n",
       "1229                    Greece\n",
       "1230            United Kingdom\n",
       "1231            United Kingdom\n",
       "1232            United Kingdom\n",
       "1233            United Kingdom\n",
       "1234            United Kingdom\n",
       "1235                    Canada\n",
       "1236                        CA\n",
       "1237                   Ireland\n",
       "1238                        TN\n",
       "1239               Netherlands\n",
       "1240                   Germany\n",
       "1241                    Poland\n",
       "1242                   Ireland\n",
       "1243                        FL\n",
       "1244            United Kingdom\n",
       "1245                 Australia\n",
       "1246                        OR\n",
       "1247                   Finland\n",
       "1248                        WA\n",
       "1249                        CA\n",
       "1250                        CA\n",
       "1251              South Africa\n",
       "1252                        NC\n",
       "1253                        UT\n",
       "1254            United Kingdom\n",
       "1255                        IL\n",
       "1256                        CA\n",
       "1257                        NC\n",
       "1258                        IL\n",
       "Name: state, dtype: object"
      ]
     },
     "execution_count": 23,
     "metadata": {},
     "output_type": "execute_result"
    }
   ],
   "source": [
    "data['state']"
   ]
  },
  {
   "cell_type": "code",
   "execution_count": 19,
   "metadata": {},
   "outputs": [],
   "source": [
    "import numpy as np"
   ]
  },
  {
   "cell_type": "code",
   "execution_count": 20,
   "metadata": {
    "scrolled": true
   },
   "outputs": [
    {
     "ename": "ValueError",
     "evalue": "Series.replace cannot use dict-value and non-None to_replace",
     "output_type": "error",
     "traceback": [
      "\u001b[1;31m---------------------------------------------------------------------------\u001b[0m",
      "\u001b[1;31mValueError\u001b[0m                                Traceback (most recent call last)",
      "\u001b[1;32mC:\\Users\\CHRIST~1\\AppData\\Local\\Temp/ipykernel_14984/1269066958.py\u001b[0m in \u001b[0;36m<module>\u001b[1;34m\u001b[0m\n\u001b[1;32m----> 1\u001b[1;33m \u001b[0mdata\u001b[0m\u001b[1;33m[\u001b[0m\u001b[1;34m'state'\u001b[0m\u001b[1;33m]\u001b[0m \u001b[1;33m=\u001b[0m \u001b[0mdata\u001b[0m\u001b[1;33m[\u001b[0m\u001b[1;34m'state'\u001b[0m\u001b[1;33m]\u001b[0m\u001b[1;33m.\u001b[0m\u001b[0mreplace\u001b[0m\u001b[1;33m(\u001b[0m\u001b[0mnp\u001b[0m\u001b[1;33m.\u001b[0m\u001b[0mnan\u001b[0m\u001b[1;33m,\u001b[0m \u001b[0mdata\u001b[0m\u001b[1;33m[\u001b[0m\u001b[1;34m'Country'\u001b[0m\u001b[1;33m]\u001b[0m\u001b[1;33m)\u001b[0m\u001b[1;33m\u001b[0m\u001b[1;33m\u001b[0m\u001b[0m\n\u001b[0m",
      "\u001b[1;32m~\\Anaconda3\\lib\\site-packages\\pandas\\core\\series.py\u001b[0m in \u001b[0;36mreplace\u001b[1;34m(self, to_replace, value, inplace, limit, regex, method)\u001b[0m\n\u001b[0;32m   4507\u001b[0m         \u001b[0mmethod\u001b[0m\u001b[1;33m=\u001b[0m\u001b[1;34m\"pad\"\u001b[0m\u001b[1;33m,\u001b[0m\u001b[1;33m\u001b[0m\u001b[1;33m\u001b[0m\u001b[0m\n\u001b[0;32m   4508\u001b[0m     ):\n\u001b[1;32m-> 4509\u001b[1;33m         return super().replace(\n\u001b[0m\u001b[0;32m   4510\u001b[0m             \u001b[0mto_replace\u001b[0m\u001b[1;33m=\u001b[0m\u001b[0mto_replace\u001b[0m\u001b[1;33m,\u001b[0m\u001b[1;33m\u001b[0m\u001b[1;33m\u001b[0m\u001b[0m\n\u001b[0;32m   4511\u001b[0m             \u001b[0mvalue\u001b[0m\u001b[1;33m=\u001b[0m\u001b[0mvalue\u001b[0m\u001b[1;33m,\u001b[0m\u001b[1;33m\u001b[0m\u001b[1;33m\u001b[0m\u001b[0m\n",
      "\u001b[1;32m~\\Anaconda3\\lib\\site-packages\\pandas\\core\\generic.py\u001b[0m in \u001b[0;36mreplace\u001b[1;34m(self, to_replace, value, inplace, limit, regex, method)\u001b[0m\n\u001b[0;32m   6921\u001b[0m                     \u001b[1;31m# Operate column-wise\u001b[0m\u001b[1;33m\u001b[0m\u001b[1;33m\u001b[0m\u001b[1;33m\u001b[0m\u001b[0m\n\u001b[0;32m   6922\u001b[0m                     \u001b[1;32mif\u001b[0m \u001b[0mself\u001b[0m\u001b[1;33m.\u001b[0m\u001b[0mndim\u001b[0m \u001b[1;33m==\u001b[0m \u001b[1;36m1\u001b[0m\u001b[1;33m:\u001b[0m\u001b[1;33m\u001b[0m\u001b[1;33m\u001b[0m\u001b[0m\n\u001b[1;32m-> 6923\u001b[1;33m                         raise ValueError(\n\u001b[0m\u001b[0;32m   6924\u001b[0m                             \u001b[1;34m\"Series.replace cannot use dict-value and \"\u001b[0m\u001b[1;33m\u001b[0m\u001b[1;33m\u001b[0m\u001b[0m\n\u001b[0;32m   6925\u001b[0m                             \u001b[1;34m\"non-None to_replace\"\u001b[0m\u001b[1;33m\u001b[0m\u001b[1;33m\u001b[0m\u001b[0m\n",
      "\u001b[1;31mValueError\u001b[0m: Series.replace cannot use dict-value and non-None to_replace"
     ]
    }
   ],
   "source": [
    "#data['state'] = data['state'].replace(np.nan, data['Country'])"
   ]
  },
  {
   "cell_type": "code",
   "execution_count": null,
   "metadata": {},
   "outputs": [],
   "source": [
    "# 3. self employed - missing - mode\n",
    "# 4. work intefer - mode\n",
    "# 5. comment - missing - drop it."
   ]
  },
  {
   "cell_type": "code",
   "execution_count": 26,
   "metadata": {},
   "outputs": [
    {
     "data": {
      "text/plain": [
       "'No'"
      ]
     },
     "execution_count": 26,
     "metadata": {},
     "output_type": "execute_result"
    }
   ],
   "source": [
    "data['self_employed'].value_counts().index[0]"
   ]
  },
  {
   "cell_type": "code",
   "execution_count": 27,
   "metadata": {},
   "outputs": [],
   "source": [
    "data['self_employed'] = data['self_employed'].replace(np.nan, data['self_employed'].mode()[0])\n",
    "data['work_interfere'] = data['work_interfere'].replace(np.nan, data['work_interfere'].mode()[0])\n",
    "data.drop('comments', axis = 1, inplace = True)"
   ]
  },
  {
   "cell_type": "code",
   "execution_count": 28,
   "metadata": {},
   "outputs": [
    {
     "name": "stdout",
     "output_type": "stream",
     "text": [
      "<class 'pandas.core.frame.DataFrame'>\n",
      "RangeIndex: 1259 entries, 0 to 1258\n",
      "Data columns (total 26 columns):\n",
      " #   Column                     Non-Null Count  Dtype         \n",
      "---  ------                     --------------  -----         \n",
      " 0   Timestamp                  1259 non-null   datetime64[ns]\n",
      " 1   Age                        1259 non-null   int64         \n",
      " 2   Gender                     1259 non-null   object        \n",
      " 3   Country                    1259 non-null   object        \n",
      " 4   state                      1259 non-null   object        \n",
      " 5   self_employed              1259 non-null   object        \n",
      " 6   family_history             1259 non-null   object        \n",
      " 7   treatment                  1259 non-null   object        \n",
      " 8   work_interfere             1259 non-null   object        \n",
      " 9   no_employees               1259 non-null   object        \n",
      " 10  remote_work                1259 non-null   object        \n",
      " 11  tech_company               1259 non-null   object        \n",
      " 12  benefits                   1259 non-null   object        \n",
      " 13  care_options               1259 non-null   object        \n",
      " 14  wellness_program           1259 non-null   object        \n",
      " 15  seek_help                  1259 non-null   object        \n",
      " 16  anonymity                  1259 non-null   object        \n",
      " 17  leave                      1259 non-null   object        \n",
      " 18  mental_health_consequence  1259 non-null   object        \n",
      " 19  phys_health_consequence    1259 non-null   object        \n",
      " 20  coworkers                  1259 non-null   object        \n",
      " 21  supervisor                 1259 non-null   object        \n",
      " 22  mental_health_interview    1259 non-null   object        \n",
      " 23  phys_health_interview      1259 non-null   object        \n",
      " 24  mental_vs_physical         1259 non-null   object        \n",
      " 25  obs_consequence            1259 non-null   object        \n",
      "dtypes: datetime64[ns](1), int64(1), object(24)\n",
      "memory usage: 255.9+ KB\n"
     ]
    }
   ],
   "source": [
    "data.info()"
   ]
  },
  {
   "cell_type": "code",
   "execution_count": null,
   "metadata": {},
   "outputs": [],
   "source": [
    "#6. Age - wrong values, convert the data such that age>18 and <75, anything beyng should be changed.\n"
   ]
  },
  {
   "cell_type": "code",
   "execution_count": 31,
   "metadata": {},
   "outputs": [],
   "source": [
    "data = data[(data['Age']>=18) & (data['Age'] < 75)]"
   ]
  },
  {
   "cell_type": "code",
   "execution_count": 32,
   "metadata": {},
   "outputs": [
    {
     "name": "stdout",
     "output_type": "stream",
     "text": [
      "<class 'pandas.core.frame.DataFrame'>\n",
      "Int64Index: 1244 entries, 0 to 1258\n",
      "Data columns (total 26 columns):\n",
      " #   Column                     Non-Null Count  Dtype         \n",
      "---  ------                     --------------  -----         \n",
      " 0   Timestamp                  1244 non-null   datetime64[ns]\n",
      " 1   Age                        1244 non-null   int64         \n",
      " 2   Gender                     1244 non-null   object        \n",
      " 3   Country                    1244 non-null   object        \n",
      " 4   state                      1244 non-null   object        \n",
      " 5   self_employed              1244 non-null   object        \n",
      " 6   family_history             1244 non-null   object        \n",
      " 7   treatment                  1244 non-null   object        \n",
      " 8   work_interfere             1244 non-null   object        \n",
      " 9   no_employees               1244 non-null   object        \n",
      " 10  remote_work                1244 non-null   object        \n",
      " 11  tech_company               1244 non-null   object        \n",
      " 12  benefits                   1244 non-null   object        \n",
      " 13  care_options               1244 non-null   object        \n",
      " 14  wellness_program           1244 non-null   object        \n",
      " 15  seek_help                  1244 non-null   object        \n",
      " 16  anonymity                  1244 non-null   object        \n",
      " 17  leave                      1244 non-null   object        \n",
      " 18  mental_health_consequence  1244 non-null   object        \n",
      " 19  phys_health_consequence    1244 non-null   object        \n",
      " 20  coworkers                  1244 non-null   object        \n",
      " 21  supervisor                 1244 non-null   object        \n",
      " 22  mental_health_interview    1244 non-null   object        \n",
      " 23  phys_health_interview      1244 non-null   object        \n",
      " 24  mental_vs_physical         1244 non-null   object        \n",
      " 25  obs_consequence            1244 non-null   object        \n",
      "dtypes: datetime64[ns](1), int64(1), object(24)\n",
      "memory usage: 262.4+ KB\n"
     ]
    }
   ],
   "source": [
    "data.info()"
   ]
  },
  {
   "cell_type": "code",
   "execution_count": null,
   "metadata": {},
   "outputs": [],
   "source": [
    "# 7. Gender - why the 49 unique values."
   ]
  },
  {
   "cell_type": "code",
   "execution_count": 40,
   "metadata": {},
   "outputs": [
    {
     "data": {
      "text/plain": [
       "array(['Female', 'male', 'trans'], dtype=object)"
      ]
     },
     "execution_count": 40,
     "metadata": {},
     "output_type": "execute_result"
    }
   ],
   "source": [
    "data['Gender'].unique()"
   ]
  },
  {
   "cell_type": "code",
   "execution_count": 34,
   "metadata": {},
   "outputs": [],
   "source": [
    "male_str = [\"male\", \"m\", \"male-ish\", \"maile\", \"mal\", \"male (cis)\", \"make\", \n",
    "            \"male \", \"man\",\"msle\", \"mail\", \"malr\",\"cis man\", \"Cis Male\", \n",
    "            \"cis male\"]\n",
    "\n",
    "trans_str = [\"trans-female\", \"something kinda male?\", \"queer/she/they\", \n",
    "             \"non-binary\",\"nah\", \"all\", \"enby\", \"fluid\", \"genderqueer\", \n",
    "             \"androgyne\", \"agender\", \"male leaning androgynous\", \"guy (-ish) ^_^\", \n",
    "             \"trans woman\", \"neuter\", \"female (trans)\", \"queer\", \n",
    "             \"ostensibly male, unsure what that really means\"]           \n",
    "\n",
    "female_str = [\"cis female\", \"f\", \"female\", \"woman\",  \"femake\", \"female \", \n",
    "              \"cis-female/femme\", \"female (cis)\", \"femail\"]"
   ]
  },
  {
   "cell_type": "code",
   "execution_count": 41,
   "metadata": {},
   "outputs": [],
   "source": [
    "data['Gender'] = data['Gender'].str.lower().replace(male_str, 'Male')\n",
    "data['Gender'] = data['Gender'].str.lower().replace(trans_str, 'Trans')\n",
    "data['Gender'] = data['Gender'].str.lower().replace(female_str, 'Female')"
   ]
  },
  {
   "cell_type": "code",
   "execution_count": 42,
   "metadata": {
    "scrolled": true
   },
   "outputs": [
    {
     "data": {
      "text/plain": [
       "male      981\n",
       "Female    246\n",
       "trans      17\n",
       "Name: Gender, dtype: int64"
      ]
     },
     "execution_count": 42,
     "metadata": {},
     "output_type": "execute_result"
    }
   ],
   "source": [
    "data['Gender'].value_counts()"
   ]
  },
  {
   "cell_type": "code",
   "execution_count": 39,
   "metadata": {},
   "outputs": [
    {
     "name": "stdout",
     "output_type": "stream",
     "text": [
      "<class 'pandas.core.frame.DataFrame'>\n",
      "Int64Index: 1244 entries, 0 to 1258\n",
      "Data columns (total 26 columns):\n",
      " #   Column                     Non-Null Count  Dtype         \n",
      "---  ------                     --------------  -----         \n",
      " 0   Timestamp                  1244 non-null   datetime64[ns]\n",
      " 1   Age                        1244 non-null   int64         \n",
      " 2   Gender                     1244 non-null   object        \n",
      " 3   Country                    1244 non-null   object        \n",
      " 4   state                      1244 non-null   object        \n",
      " 5   self_employed              1244 non-null   object        \n",
      " 6   family_history             1244 non-null   object        \n",
      " 7   treatment                  1244 non-null   object        \n",
      " 8   work_interfere             1244 non-null   object        \n",
      " 9   no_employees               1244 non-null   object        \n",
      " 10  remote_work                1244 non-null   object        \n",
      " 11  tech_company               1244 non-null   object        \n",
      " 12  benefits                   1244 non-null   object        \n",
      " 13  care_options               1244 non-null   object        \n",
      " 14  wellness_program           1244 non-null   object        \n",
      " 15  seek_help                  1244 non-null   object        \n",
      " 16  anonymity                  1244 non-null   object        \n",
      " 17  leave                      1244 non-null   object        \n",
      " 18  mental_health_consequence  1244 non-null   object        \n",
      " 19  phys_health_consequence    1244 non-null   object        \n",
      " 20  coworkers                  1244 non-null   object        \n",
      " 21  supervisor                 1244 non-null   object        \n",
      " 22  mental_health_interview    1244 non-null   object        \n",
      " 23  phys_health_interview      1244 non-null   object        \n",
      " 24  mental_vs_physical         1244 non-null   object        \n",
      " 25  obs_consequence            1244 non-null   object        \n",
      "dtypes: datetime64[ns](1), int64(1), object(24)\n",
      "memory usage: 262.4+ KB\n"
     ]
    }
   ],
   "source": [
    "data.info()"
   ]
  },
  {
   "cell_type": "markdown",
   "metadata": {
    "id": "IoV6bufp5k7L"
   },
   "source": [
    "<a name = Section41></a>\n",
    "### **4.1 Data Description**\n",
    "\n",
    "- In this section we will get **information about the data** and see some observations."
   ]
  },
  {
   "cell_type": "code",
   "execution_count": null,
   "metadata": {
    "colab": {
     "base_uri": "https://localhost:8080/",
     "height": 297
    },
    "executionInfo": {
     "elapsed": 1796,
     "status": "ok",
     "timestamp": 1620112243306,
     "user": {
      "displayName": "Mukesh Kumar",
      "photoUrl": "https://lh3.googleusercontent.com/a-/AOh14GjTZH-ccUwdv--s75Iw1qfyi7gtUyH2m_-htD2e=s64",
      "userId": "01238672520445611335"
     },
     "user_tz": -330
    },
    "id": "mpjhuz7f5krN",
    "outputId": "4ef3bd32-9cd0-4b90-c771-cb7e7f41d628"
   },
   "outputs": [
    {
     "data": {
      "text/html": [
       "<div>\n",
       "<style scoped>\n",
       "    .dataframe tbody tr th:only-of-type {\n",
       "        vertical-align: middle;\n",
       "    }\n",
       "\n",
       "    .dataframe tbody tr th {\n",
       "        vertical-align: top;\n",
       "    }\n",
       "\n",
       "    .dataframe thead th {\n",
       "        text-align: right;\n",
       "    }\n",
       "</style>\n",
       "<table border=\"1\" class=\"dataframe\">\n",
       "  <thead>\n",
       "    <tr style=\"text-align: right;\">\n",
       "      <th></th>\n",
       "      <th>Age</th>\n",
       "    </tr>\n",
       "  </thead>\n",
       "  <tbody>\n",
       "    <tr>\n",
       "      <th>count</th>\n",
       "      <td>1259.00000</td>\n",
       "    </tr>\n",
       "    <tr>\n",
       "      <th>mean</th>\n",
       "      <td>79428148.31136</td>\n",
       "    </tr>\n",
       "    <tr>\n",
       "      <th>std</th>\n",
       "      <td>2818299442.98195</td>\n",
       "    </tr>\n",
       "    <tr>\n",
       "      <th>min</th>\n",
       "      <td>-1726.00000</td>\n",
       "    </tr>\n",
       "    <tr>\n",
       "      <th>25%</th>\n",
       "      <td>27.00000</td>\n",
       "    </tr>\n",
       "    <tr>\n",
       "      <th>50%</th>\n",
       "      <td>31.00000</td>\n",
       "    </tr>\n",
       "    <tr>\n",
       "      <th>75%</th>\n",
       "      <td>36.00000</td>\n",
       "    </tr>\n",
       "    <tr>\n",
       "      <th>max</th>\n",
       "      <td>99999999999.00000</td>\n",
       "    </tr>\n",
       "  </tbody>\n",
       "</table>\n",
       "</div>"
      ],
      "text/plain": [
       "                    Age\n",
       "count        1259.00000\n",
       "mean     79428148.31136\n",
       "std    2818299442.98195\n",
       "min         -1726.00000\n",
       "25%            27.00000\n",
       "50%            31.00000\n",
       "75%            36.00000\n",
       "max   99999999999.00000"
      ]
     },
     "execution_count": 115,
     "metadata": {
      "tags": []
     },
     "output_type": "execute_result"
    }
   ],
   "source": [
    "data.describe()"
   ]
  },
  {
   "cell_type": "markdown",
   "metadata": {
    "id": "-iTS8gi3vj51"
   },
   "source": [
    "**Observations:**\n",
    "\n",
    "- The **average age** of the person is found to be **79428148 years** and it is **absurd**.\n",
    "\n",
    "- Around **25%** of people have an **age** less than or equal to **27 years**.\n",
    "\n",
    "- Around **50%** of people have an **age** less than or equal to **31 years**.\n",
    "\n",
    "- Around **75%** of people have an **age** less than or equal to **36 years**.\n",
    "\n",
    "- The **minimum** and **maximum ages** are found to be **negative** and **very large numbers**.\n",
    "\n",
    "- It implies that there is **something wrong** with our **data**."
   ]
  },
  {
   "cell_type": "markdown",
   "metadata": {
    "id": "biqeRhFM5qSW"
   },
   "source": [
    "<a name = Section42></a>\n",
    "### **4.2 Data Information**\n",
    "\n",
    "- In this section we will see the **information about the types of features**."
   ]
  },
  {
   "cell_type": "code",
   "execution_count": null,
   "metadata": {
    "colab": {
     "base_uri": "https://localhost:8080/"
    },
    "executionInfo": {
     "elapsed": 1777,
     "status": "ok",
     "timestamp": 1620112243308,
     "user": {
      "displayName": "Mukesh Kumar",
      "photoUrl": "https://lh3.googleusercontent.com/a-/AOh14GjTZH-ccUwdv--s75Iw1qfyi7gtUyH2m_-htD2e=s64",
      "userId": "01238672520445611335"
     },
     "user_tz": -330
    },
    "id": "su2WUoi95kku",
    "outputId": "d3d4582a-8a71-4eda-b2fa-05179e345324"
   },
   "outputs": [
    {
     "name": "stdout",
     "output_type": "stream",
     "text": [
      "<class 'pandas.core.frame.DataFrame'>\n",
      "RangeIndex: 1259 entries, 0 to 1258\n",
      "Data columns (total 27 columns):\n",
      " #   Column                     Non-Null Count  Dtype \n",
      "---  ------                     --------------  ----- \n",
      " 0   Timestamp                  1259 non-null   object\n",
      " 1   Age                        1259 non-null   int64 \n",
      " 2   Gender                     1259 non-null   object\n",
      " 3   Country                    1259 non-null   object\n",
      " 4   state                      744 non-null    object\n",
      " 5   self_employed              1241 non-null   object\n",
      " 6   family_history             1259 non-null   object\n",
      " 7   treatment                  1259 non-null   object\n",
      " 8   work_interfere             995 non-null    object\n",
      " 9   no_employees               1259 non-null   object\n",
      " 10  remote_work                1259 non-null   object\n",
      " 11  tech_company               1259 non-null   object\n",
      " 12  benefits                   1259 non-null   object\n",
      " 13  care_options               1259 non-null   object\n",
      " 14  wellness_program           1259 non-null   object\n",
      " 15  seek_help                  1259 non-null   object\n",
      " 16  anonymity                  1259 non-null   object\n",
      " 17  leave                      1259 non-null   object\n",
      " 18  mental_health_consequence  1259 non-null   object\n",
      " 19  phys_health_consequence    1259 non-null   object\n",
      " 20  coworkers                  1259 non-null   object\n",
      " 21  supervisor                 1259 non-null   object\n",
      " 22  mental_health_interview    1259 non-null   object\n",
      " 23  phys_health_interview      1259 non-null   object\n",
      " 24  mental_vs_physical         1259 non-null   object\n",
      " 25  obs_consequence            1259 non-null   object\n",
      " 26  comments                   164 non-null    object\n",
      "dtypes: int64(1), object(26)\n",
      "memory usage: 1.9 MB\n"
     ]
    }
   ],
   "source": [
    "data.info(verbose=True, memory_usage='deep', null_counts=True)"
   ]
  },
  {
   "cell_type": "markdown",
   "metadata": {
    "id": "lfuJ00mWwkHq"
   },
   "source": [
    "**Observations:**\n",
    "\n",
    "- At high level, we can observe that there are **missing data** in our dataset.\n",
    "\n",
    "- The **timestamp** is found to have **inconsistent data type**, requires rectification."
   ]
  },
  {
   "cell_type": "markdown",
   "metadata": {
    "id": "s25rWFCO5vmb"
   },
   "source": [
    "<a name = Section5></a>\n",
    "\n",
    "---\n",
    "# **5. Data Pre-Processing**\n",
    "---"
   ]
  },
  {
   "cell_type": "markdown",
   "metadata": {
    "id": "bOPDAA_Ny33-"
   },
   "source": [
    "<a name = Section51></a>\n",
    "### **5.1 Handling of Missing Data**\n",
    "\n",
    "- In this section, we will identify missing data and check the proportion of it and take appropriate measures."
   ]
  },
  {
   "cell_type": "code",
   "execution_count": null,
   "metadata": {
    "colab": {
     "base_uri": "https://localhost:8080/",
     "height": 165
    },
    "executionInfo": {
     "elapsed": 1760,
     "status": "ok",
     "timestamp": 1620112243310,
     "user": {
      "displayName": "Mukesh Kumar",
      "photoUrl": "https://lh3.googleusercontent.com/a-/AOh14GjTZH-ccUwdv--s75Iw1qfyi7gtUyH2m_-htD2e=s64",
      "userId": "01238672520445611335"
     },
     "user_tz": -330
    },
    "id": "zzMraRtByCst",
    "outputId": "255da8e7-e825-4cc4-8f88-8014e6b483a2"
   },
   "outputs": [
    {
     "data": {
      "text/html": [
       "<div>\n",
       "<style scoped>\n",
       "    .dataframe tbody tr th:only-of-type {\n",
       "        vertical-align: middle;\n",
       "    }\n",
       "\n",
       "    .dataframe tbody tr th {\n",
       "        vertical-align: top;\n",
       "    }\n",
       "\n",
       "    .dataframe thead th {\n",
       "        text-align: right;\n",
       "    }\n",
       "</style>\n",
       "<table border=\"1\" class=\"dataframe\">\n",
       "  <thead>\n",
       "    <tr style=\"text-align: right;\">\n",
       "      <th></th>\n",
       "      <th>Timestamp</th>\n",
       "      <th>Age</th>\n",
       "      <th>Gender</th>\n",
       "      <th>Country</th>\n",
       "      <th>state</th>\n",
       "      <th>self_employed</th>\n",
       "      <th>family_history</th>\n",
       "      <th>treatment</th>\n",
       "      <th>work_interfere</th>\n",
       "      <th>no_employees</th>\n",
       "      <th>remote_work</th>\n",
       "      <th>tech_company</th>\n",
       "      <th>benefits</th>\n",
       "      <th>care_options</th>\n",
       "      <th>wellness_program</th>\n",
       "      <th>seek_help</th>\n",
       "      <th>anonymity</th>\n",
       "      <th>leave</th>\n",
       "      <th>mental_health_consequence</th>\n",
       "      <th>phys_health_consequence</th>\n",
       "      <th>coworkers</th>\n",
       "      <th>supervisor</th>\n",
       "      <th>mental_health_interview</th>\n",
       "      <th>phys_health_interview</th>\n",
       "      <th>mental_vs_physical</th>\n",
       "      <th>obs_consequence</th>\n",
       "      <th>comments</th>\n",
       "    </tr>\n",
       "  </thead>\n",
       "  <tbody>\n",
       "    <tr>\n",
       "      <th>Null Frequency</th>\n",
       "      <td>0.00000</td>\n",
       "      <td>0.00000</td>\n",
       "      <td>0.00000</td>\n",
       "      <td>0.00000</td>\n",
       "      <td>515.00000</td>\n",
       "      <td>18.00000</td>\n",
       "      <td>0.00000</td>\n",
       "      <td>0.00000</td>\n",
       "      <td>264.00000</td>\n",
       "      <td>0.00000</td>\n",
       "      <td>0.00000</td>\n",
       "      <td>0.00000</td>\n",
       "      <td>0.00000</td>\n",
       "      <td>0.00000</td>\n",
       "      <td>0.00000</td>\n",
       "      <td>0.00000</td>\n",
       "      <td>0.00000</td>\n",
       "      <td>0.00000</td>\n",
       "      <td>0.00000</td>\n",
       "      <td>0.00000</td>\n",
       "      <td>0.00000</td>\n",
       "      <td>0.00000</td>\n",
       "      <td>0.00000</td>\n",
       "      <td>0.00000</td>\n",
       "      <td>0.00000</td>\n",
       "      <td>0.00000</td>\n",
       "      <td>1095.00000</td>\n",
       "    </tr>\n",
       "    <tr>\n",
       "      <th>Missing %age</th>\n",
       "      <td>0.00000</td>\n",
       "      <td>0.00000</td>\n",
       "      <td>0.00000</td>\n",
       "      <td>0.00000</td>\n",
       "      <td>40.91000</td>\n",
       "      <td>1.43000</td>\n",
       "      <td>0.00000</td>\n",
       "      <td>0.00000</td>\n",
       "      <td>20.97000</td>\n",
       "      <td>0.00000</td>\n",
       "      <td>0.00000</td>\n",
       "      <td>0.00000</td>\n",
       "      <td>0.00000</td>\n",
       "      <td>0.00000</td>\n",
       "      <td>0.00000</td>\n",
       "      <td>0.00000</td>\n",
       "      <td>0.00000</td>\n",
       "      <td>0.00000</td>\n",
       "      <td>0.00000</td>\n",
       "      <td>0.00000</td>\n",
       "      <td>0.00000</td>\n",
       "      <td>0.00000</td>\n",
       "      <td>0.00000</td>\n",
       "      <td>0.00000</td>\n",
       "      <td>0.00000</td>\n",
       "      <td>0.00000</td>\n",
       "      <td>86.97000</td>\n",
       "    </tr>\n",
       "  </tbody>\n",
       "</table>\n",
       "</div>"
      ],
      "text/plain": [
       "                Timestamp     Age  Gender  Country     state  self_employed  \\\n",
       "Null Frequency    0.00000 0.00000 0.00000  0.00000 515.00000       18.00000   \n",
       "Missing %age      0.00000 0.00000 0.00000  0.00000  40.91000        1.43000   \n",
       "\n",
       "                family_history  treatment  work_interfere  no_employees  \\\n",
       "Null Frequency         0.00000    0.00000       264.00000       0.00000   \n",
       "Missing %age           0.00000    0.00000        20.97000       0.00000   \n",
       "\n",
       "                remote_work  tech_company  benefits  care_options  \\\n",
       "Null Frequency      0.00000       0.00000   0.00000       0.00000   \n",
       "Missing %age        0.00000       0.00000   0.00000       0.00000   \n",
       "\n",
       "                wellness_program  seek_help  anonymity   leave  \\\n",
       "Null Frequency           0.00000    0.00000    0.00000 0.00000   \n",
       "Missing %age             0.00000    0.00000    0.00000 0.00000   \n",
       "\n",
       "                mental_health_consequence  phys_health_consequence  coworkers  \\\n",
       "Null Frequency                    0.00000                  0.00000    0.00000   \n",
       "Missing %age                      0.00000                  0.00000    0.00000   \n",
       "\n",
       "                supervisor  mental_health_interview  phys_health_interview  \\\n",
       "Null Frequency     0.00000                  0.00000                0.00000   \n",
       "Missing %age       0.00000                  0.00000                0.00000   \n",
       "\n",
       "                mental_vs_physical  obs_consequence   comments  \n",
       "Null Frequency             0.00000          0.00000 1095.00000  \n",
       "Missing %age               0.00000          0.00000   86.97000  "
      ]
     },
     "execution_count": 117,
     "metadata": {
      "tags": []
     },
     "output_type": "execute_result"
    }
   ],
   "source": [
    "null_frame = pd.DataFrame(index = data.columns.values)\n",
    "null_frame['Null Frequency'] = data.isnull().sum().values\n",
    "percent = data.isnull().sum().values/data.shape[0]\n",
    "null_frame['Missing %age'] = np.round(percent, decimals = 4) * 100\n",
    "null_frame.transpose()"
   ]
  },
  {
   "cell_type": "markdown",
   "metadata": {
    "id": "WeBpq1fW0hml"
   },
   "source": [
    "**Observations:**\n",
    "\n",
    "- We can observe that following features are found to have missing values along with the proportions:\n",
    "\n",
    "|Feature|Object Type|Missing Proportion|Solution|\n",
    "|:--:|:--:|:--:|:--|\n",
    "|state|Object|40%|Replace with mode.|\n",
    "|self_employed|Object|1.43%|Replace with mode.|\n",
    "|work_interfere|Object|20.97%|Replace with mode.|\n",
    "|comments|Object|86.97%|Drop the feature.|"
   ]
  },
  {
   "cell_type": "markdown",
   "metadata": {
    "id": "pYaswQWO3IZD"
   },
   "source": [
    "**Performing Operations**"
   ]
  },
  {
   "cell_type": "code",
   "execution_count": null,
   "metadata": {
    "id": "KblDluhG08bd"
   },
   "outputs": [],
   "source": [
    "data['state'] = data['state'].replace(np.nan, data['state'].mode()[0])\n",
    "data['self_employed'] = data['self_employed'].replace(np.nan, data['self_employed'].mode()[0])\n",
    "data['work_interfere'] = data['work_interfere'].replace(np.nan, data['work_interfere'].mode()[0])\n",
    "data.drop(labels='comments', axis=1, inplace=True)"
   ]
  },
  {
   "cell_type": "markdown",
   "metadata": {
    "id": "-vFDK0RP81qr"
   },
   "source": [
    "- Let's verify the integrity of null values again."
   ]
  },
  {
   "cell_type": "code",
   "execution_count": null,
   "metadata": {
    "colab": {
     "base_uri": "https://localhost:8080/",
     "height": 165
    },
    "executionInfo": {
     "elapsed": 1735,
     "status": "ok",
     "timestamp": 1620112243314,
     "user": {
      "displayName": "Mukesh Kumar",
      "photoUrl": "https://lh3.googleusercontent.com/a-/AOh14GjTZH-ccUwdv--s75Iw1qfyi7gtUyH2m_-htD2e=s64",
      "userId": "01238672520445611335"
     },
     "user_tz": -330
    },
    "id": "aIgSp5KP8cp8",
    "outputId": "160ccbd7-a229-4214-a207-a4e5418230fc"
   },
   "outputs": [
    {
     "data": {
      "text/html": [
       "<div>\n",
       "<style scoped>\n",
       "    .dataframe tbody tr th:only-of-type {\n",
       "        vertical-align: middle;\n",
       "    }\n",
       "\n",
       "    .dataframe tbody tr th {\n",
       "        vertical-align: top;\n",
       "    }\n",
       "\n",
       "    .dataframe thead th {\n",
       "        text-align: right;\n",
       "    }\n",
       "</style>\n",
       "<table border=\"1\" class=\"dataframe\">\n",
       "  <thead>\n",
       "    <tr style=\"text-align: right;\">\n",
       "      <th></th>\n",
       "      <th>Timestamp</th>\n",
       "      <th>Age</th>\n",
       "      <th>Gender</th>\n",
       "      <th>Country</th>\n",
       "      <th>state</th>\n",
       "      <th>self_employed</th>\n",
       "      <th>family_history</th>\n",
       "      <th>treatment</th>\n",
       "      <th>work_interfere</th>\n",
       "      <th>no_employees</th>\n",
       "      <th>remote_work</th>\n",
       "      <th>tech_company</th>\n",
       "      <th>benefits</th>\n",
       "      <th>care_options</th>\n",
       "      <th>wellness_program</th>\n",
       "      <th>seek_help</th>\n",
       "      <th>anonymity</th>\n",
       "      <th>leave</th>\n",
       "      <th>mental_health_consequence</th>\n",
       "      <th>phys_health_consequence</th>\n",
       "      <th>coworkers</th>\n",
       "      <th>supervisor</th>\n",
       "      <th>mental_health_interview</th>\n",
       "      <th>phys_health_interview</th>\n",
       "      <th>mental_vs_physical</th>\n",
       "      <th>obs_consequence</th>\n",
       "    </tr>\n",
       "  </thead>\n",
       "  <tbody>\n",
       "    <tr>\n",
       "      <th>Null Frequency</th>\n",
       "      <td>0.00000</td>\n",
       "      <td>0.00000</td>\n",
       "      <td>0.00000</td>\n",
       "      <td>0.00000</td>\n",
       "      <td>0.00000</td>\n",
       "      <td>0.00000</td>\n",
       "      <td>0.00000</td>\n",
       "      <td>0.00000</td>\n",
       "      <td>0.00000</td>\n",
       "      <td>0.00000</td>\n",
       "      <td>0.00000</td>\n",
       "      <td>0.00000</td>\n",
       "      <td>0.00000</td>\n",
       "      <td>0.00000</td>\n",
       "      <td>0.00000</td>\n",
       "      <td>0.00000</td>\n",
       "      <td>0.00000</td>\n",
       "      <td>0.00000</td>\n",
       "      <td>0.00000</td>\n",
       "      <td>0.00000</td>\n",
       "      <td>0.00000</td>\n",
       "      <td>0.00000</td>\n",
       "      <td>0.00000</td>\n",
       "      <td>0.00000</td>\n",
       "      <td>0.00000</td>\n",
       "      <td>0.00000</td>\n",
       "    </tr>\n",
       "    <tr>\n",
       "      <th>Missing %age</th>\n",
       "      <td>0.00000</td>\n",
       "      <td>0.00000</td>\n",
       "      <td>0.00000</td>\n",
       "      <td>0.00000</td>\n",
       "      <td>0.00000</td>\n",
       "      <td>0.00000</td>\n",
       "      <td>0.00000</td>\n",
       "      <td>0.00000</td>\n",
       "      <td>0.00000</td>\n",
       "      <td>0.00000</td>\n",
       "      <td>0.00000</td>\n",
       "      <td>0.00000</td>\n",
       "      <td>0.00000</td>\n",
       "      <td>0.00000</td>\n",
       "      <td>0.00000</td>\n",
       "      <td>0.00000</td>\n",
       "      <td>0.00000</td>\n",
       "      <td>0.00000</td>\n",
       "      <td>0.00000</td>\n",
       "      <td>0.00000</td>\n",
       "      <td>0.00000</td>\n",
       "      <td>0.00000</td>\n",
       "      <td>0.00000</td>\n",
       "      <td>0.00000</td>\n",
       "      <td>0.00000</td>\n",
       "      <td>0.00000</td>\n",
       "    </tr>\n",
       "  </tbody>\n",
       "</table>\n",
       "</div>"
      ],
      "text/plain": [
       "                Timestamp     Age  Gender  Country   state  self_employed  \\\n",
       "Null Frequency    0.00000 0.00000 0.00000  0.00000 0.00000        0.00000   \n",
       "Missing %age      0.00000 0.00000 0.00000  0.00000 0.00000        0.00000   \n",
       "\n",
       "                family_history  treatment  work_interfere  no_employees  \\\n",
       "Null Frequency         0.00000    0.00000         0.00000       0.00000   \n",
       "Missing %age           0.00000    0.00000         0.00000       0.00000   \n",
       "\n",
       "                remote_work  tech_company  benefits  care_options  \\\n",
       "Null Frequency      0.00000       0.00000   0.00000       0.00000   \n",
       "Missing %age        0.00000       0.00000   0.00000       0.00000   \n",
       "\n",
       "                wellness_program  seek_help  anonymity   leave  \\\n",
       "Null Frequency           0.00000    0.00000    0.00000 0.00000   \n",
       "Missing %age             0.00000    0.00000    0.00000 0.00000   \n",
       "\n",
       "                mental_health_consequence  phys_health_consequence  coworkers  \\\n",
       "Null Frequency                    0.00000                  0.00000    0.00000   \n",
       "Missing %age                      0.00000                  0.00000    0.00000   \n",
       "\n",
       "                supervisor  mental_health_interview  phys_health_interview  \\\n",
       "Null Frequency     0.00000                  0.00000                0.00000   \n",
       "Missing %age       0.00000                  0.00000                0.00000   \n",
       "\n",
       "                mental_vs_physical  obs_consequence  \n",
       "Null Frequency             0.00000          0.00000  \n",
       "Missing %age               0.00000          0.00000  "
      ]
     },
     "execution_count": 119,
     "metadata": {
      "tags": []
     },
     "output_type": "execute_result"
    }
   ],
   "source": [
    "null_frame = pd.DataFrame(index = data.columns.values)\n",
    "null_frame['Null Frequency'] = data.isnull().sum().values\n",
    "percent = data.isnull().sum().values/data.shape[0]\n",
    "null_frame['Missing %age'] = np.round(percent, decimals = 4) * 100\n",
    "null_frame.transpose()"
   ]
  },
  {
   "cell_type": "markdown",
   "metadata": {
    "id": "WZ0k26PP-tEc"
   },
   "source": [
    "<a name = Section52></a>\n",
    "### **5.2 Handling of Redundant Data**\n",
    "\n",
    "- In this section, we will identify redundant data and check the proportion of it and take appropriate measures."
   ]
  },
  {
   "cell_type": "code",
   "execution_count": 43,
   "metadata": {
    "colab": {
     "base_uri": "https://localhost:8080/"
    },
    "executionInfo": {
     "elapsed": 1721,
     "status": "ok",
     "timestamp": 1620112243316,
     "user": {
      "displayName": "Mukesh Kumar",
      "photoUrl": "https://lh3.googleusercontent.com/a-/AOh14GjTZH-ccUwdv--s75Iw1qfyi7gtUyH2m_-htD2e=s64",
      "userId": "01238672520445611335"
     },
     "user_tz": -330
    },
    "id": "uvmzY99o-pAI",
    "outputId": "2a5d9122-1278-4a91-ea37-a955ff6edaed"
   },
   "outputs": [
    {
     "name": "stdout",
     "output_type": "stream",
     "text": [
      "Contains Duplicate Rows? False\n"
     ]
    }
   ],
   "source": [
    "print('Contains Duplicate Rows?', data.duplicated().any())"
   ]
  },
  {
   "cell_type": "markdown",
   "metadata": {
    "id": "F-Xk463w-yw2"
   },
   "source": [
    "<a name = Section53></a>\n",
    "### **5.3 Handling of Inconsistent Data**\n",
    "\n",
    "- In this section, we will **identify inconsistency** in data and and then **take appropriate measures**.\n",
    "\n",
    "- Previously, we observed that **Timestamp** feature was **incorrectly indentified** as Object, so, we will rectify it.\n",
    "\n",
    "- Additionally, we can observe that some features are having data of different format such as Gender."
   ]
  },
  {
   "cell_type": "code",
   "execution_count": null,
   "metadata": {
    "colab": {
     "base_uri": "https://localhost:8080/"
    },
    "executionInfo": {
     "elapsed": 1708,
     "status": "ok",
     "timestamp": 1620112243317,
     "user": {
      "displayName": "Mukesh Kumar",
      "photoUrl": "https://lh3.googleusercontent.com/a-/AOh14GjTZH-ccUwdv--s75Iw1qfyi7gtUyH2m_-htD2e=s64",
      "userId": "01238672520445611335"
     },
     "user_tz": -330
    },
    "id": "5yJz_bFO-ypH",
    "outputId": "51201653-78a7-433a-bc31-5b3484beb56a"
   },
   "outputs": [
    {
     "data": {
      "text/plain": [
       "array(['2014-08-27 11:29:31', '2014-08-27 11:29:37',\n",
       "       '2014-08-27 11:29:44', ..., '2015-11-07 12:36:58',\n",
       "       '2015-11-30 21:25:06', '2016-02-01 23:04:31'], dtype=object)"
      ]
     },
     "execution_count": 121,
     "metadata": {
      "tags": []
     },
     "output_type": "execute_result"
    }
   ],
   "source": [
    "data['Timestamp'].unique()"
   ]
  },
  {
   "cell_type": "code",
   "execution_count": null,
   "metadata": {
    "id": "HfocKDE9-o9I"
   },
   "outputs": [],
   "source": [
    "# Transforming Timestamp's object type to datetime\n",
    "data['Timestamp'] = pd.to_datetime(data['Timestamp'])"
   ]
  },
  {
   "cell_type": "code",
   "execution_count": null,
   "metadata": {
    "colab": {
     "base_uri": "https://localhost:8080/"
    },
    "executionInfo": {
     "elapsed": 2049,
     "status": "ok",
     "timestamp": 1620112243681,
     "user": {
      "displayName": "Mukesh Kumar",
      "photoUrl": "https://lh3.googleusercontent.com/a-/AOh14GjTZH-ccUwdv--s75Iw1qfyi7gtUyH2m_-htD2e=s64",
      "userId": "01238672520445611335"
     },
     "user_tz": -330
    },
    "id": "GbJ5FpHQ-o3j",
    "outputId": "5ba2e206-ef54-42ce-83ce-ff856d56114f"
   },
   "outputs": [
    {
     "name": "stdout",
     "output_type": "stream",
     "text": [
      "Distinct responses for Gender (Frequency): 49\n",
      "Distinct responses for Gender: {'m', 'queer/she/they', 'f', 'p', 'Make', 'Femake', 'Mal', 'something kinda male?', 'Male-ish', 'Female (cis)', 'Woman', 'ostensibly male, unsure what that really means', 'Agender', 'Female', 'Enby', 'Female (trans)', 'female', 'Nah', 'Male ', 'F', 'cis male', 'Malr', 'woman', 'Male (CIS)', 'cis-female/femme', 'Cis Female', 'queer', 'Trans woman', 'A little about you', 'Male', 'Cis Male', 'fluid', 'M', 'Mail', 'Cis Man', 'Guy (-ish) ^_^', 'male leaning androgynous', 'All', 'Genderqueer', 'male', 'femail', 'Trans-female', 'Man', 'Female ', 'maile', 'msle', 'Androgyne', 'non-binary', 'Neuter'}\n"
     ]
    }
   ],
   "source": [
    "# Learn more about the variable Gender, which appears not to be standardized with 49 distinct responses.\n",
    "print(\"Distinct responses for Gender (Frequency):\", len(set(data['Gender'])))\n",
    "print(\"Distinct responses for Gender:\", set(data['Gender']))  "
   ]
  },
  {
   "cell_type": "code",
   "execution_count": null,
   "metadata": {
    "colab": {
     "base_uri": "https://localhost:8080/"
    },
    "executionInfo": {
     "elapsed": 2036,
     "status": "ok",
     "timestamp": 1620112243682,
     "user": {
      "displayName": "Mukesh Kumar",
      "photoUrl": "https://lh3.googleusercontent.com/a-/AOh14GjTZH-ccUwdv--s75Iw1qfyi7gtUyH2m_-htD2e=s64",
      "userId": "01238672520445611335"
     },
     "user_tz": -330
    },
    "id": "TbEYxUXPDZrM",
    "outputId": "76a6de96-4ea8-498c-e6e3-8dfa8c11f33e"
   },
   "outputs": [
    {
     "data": {
      "text/plain": [
       "array(['female', 'm', 'male', 'male-ish', 'maile', 'trans-female',\n",
       "       'cis female', 'f', 'something kinda male?', 'cis male', 'woman',\n",
       "       'mal', 'male (cis)', 'queer/she/they', 'non-binary', 'femake',\n",
       "       'make', 'nah', 'all', 'enby', 'fluid', 'genderqueer', 'female ',\n",
       "       'androgyne', 'agender', 'cis-female/femme', 'guy (-ish) ^_^',\n",
       "       'male leaning androgynous', 'male ', 'man', 'trans woman', 'msle',\n",
       "       'neuter', 'female (trans)', 'queer', 'female (cis)', 'mail',\n",
       "       'a little about you', 'malr', 'p', 'femail', 'cis man',\n",
       "       'ostensibly male, unsure what that really means'], dtype=object)"
      ]
     },
     "execution_count": 124,
     "metadata": {
      "tags": []
     },
     "output_type": "execute_result"
    }
   ],
   "source": [
    "data['Gender'].str.lower().unique()"
   ]
  },
  {
   "cell_type": "code",
   "execution_count": null,
   "metadata": {
    "colab": {
     "base_uri": "https://localhost:8080/"
    },
    "executionInfo": {
     "elapsed": 2488,
     "status": "ok",
     "timestamp": 1620112244149,
     "user": {
      "displayName": "Mukesh Kumar",
      "photoUrl": "https://lh3.googleusercontent.com/a-/AOh14GjTZH-ccUwdv--s75Iw1qfyi7gtUyH2m_-htD2e=s64",
      "userId": "01238672520445611335"
     },
     "user_tz": -330
    },
    "id": "mnBbFFopB70y",
    "outputId": "a73bbdbd-da10-4f76-a315-163be326c792"
   },
   "outputs": [
    {
     "name": "stdout",
     "output_type": "stream",
     "text": [
      "['female' 'male' 'trans']\n"
     ]
    }
   ],
   "source": [
    "unique_gender = data['Gender'].str.lower().unique()\n",
    "\n",
    "# Stratas of Gender category\n",
    "male_str = [\"male\", \"m\", \"male-ish\", \"maile\", \"mal\", \"male (cis)\", \"make\", \n",
    "            \"male \", \"man\",\"msle\", \"mail\", \"malr\",\"cis man\", \"Cis Male\", \n",
    "            \"cis male\"]\n",
    "trans_str = [\"trans-female\", \"something kinda male?\", \"queer/she/they\", \n",
    "             \"non-binary\",\"nah\", \"all\", \"enby\", \"fluid\", \"genderqueer\", \n",
    "             \"androgyne\", \"agender\", \"male leaning androgynous\", \"guy (-ish) ^_^\", \n",
    "             \"trans woman\", \"neuter\", \"female (trans)\", \"queer\", \n",
    "             \"ostensibly male, unsure what that really means\"]           \n",
    "female_str = [\"cis female\", \"f\", \"female\", \"woman\",  \"femake\", \"female \", \n",
    "              \"cis-female/femme\", \"female (cis)\", \"femail\"]\n",
    "\n",
    "# Iterate over rows and replace the inconsistent data with right data\n",
    "for (row, col) in data.iterrows():\n",
    "  if str.lower(col['Gender']) in male_str:\n",
    "    data['Gender'].replace(to_replace=col['Gender'], value='male', inplace=True)\n",
    "  if str.lower(col['Gender']) in female_str:\n",
    "    data['Gender'].replace(to_replace=col['Gender'], value='female', inplace=True)\n",
    "  if str.lower(col['Gender']) in trans_str:\n",
    "    data['Gender'].replace(to_replace=col['Gender'], value='trans', inplace=True)\n",
    "\n",
    "# Remove rest of the unnecessary text\n",
    "stk_list = ['A little about you', 'p']\n",
    "data = data[~data['Gender'].isin(stk_list)]\n",
    "\n",
    "# Display the unique value of Gender feature\n",
    "print(data['Gender'].unique())"
   ]
  },
  {
   "cell_type": "markdown",
   "metadata": {
    "id": "SgCBF7_MOEUl"
   },
   "source": [
    "**Observation:**\n",
    "\n",
    "- Now, we **handled inconsistency** of data **manually** for **one feature**, but it would be **impossible** when you have **hundreds of features**.\n",
    "\n",
    "- In that case, we can **use interactive plots** like plotly to know all the possible values in each feature.\n",
    "\n",
    "- Next, we will **identify** all the categorical features and render a bar plot to identify the **present values**.\n",
    "\n",
    "- If we find any inconsistency in the feature, then we will take appropriate measures.\n",
    "\n",
    "**Note:**\n",
    "\n",
    "- The **approach followed down** for basic data analysis is **not mandatory**.\n",
    "\n",
    "- You can **also go feature by feature** and analyze the data to understand the underlying face of data.\n",
    "\n",
    "- To **make our life easier**, we will be **utilizing a small hack**.\n"
   ]
  },
  {
   "cell_type": "code",
   "execution_count": 44,
   "metadata": {
    "colab": {
     "base_uri": "https://localhost:8080/"
    },
    "executionInfo": {
     "elapsed": 2471,
     "status": "ok",
     "timestamp": 1620112244150,
     "user": {
      "displayName": "Mukesh Kumar",
      "photoUrl": "https://lh3.googleusercontent.com/a-/AOh14GjTZH-ccUwdv--s75Iw1qfyi7gtUyH2m_-htD2e=s64",
      "userId": "01238672520445611335"
     },
     "user_tz": -330
    },
    "id": "mIeg4aA-Fl_M",
    "outputId": "49754a33-8ee9-4b36-8a09-76c864556e98"
   },
   "outputs": [
    {
     "name": "stdout",
     "output_type": "stream",
     "text": [
      "['Gender', 'Country', 'state', 'self_employed', 'family_history', 'treatment', 'work_interfere', 'no_employees', 'remote_work', 'tech_company', 'benefits', 'care_options', 'wellness_program', 'seek_help', 'anonymity', 'leave', 'mental_health_consequence', 'phys_health_consequence', 'coworkers', 'supervisor', 'mental_health_interview', 'phys_health_interview', 'mental_vs_physical', 'obs_consequence']\n"
     ]
    }
   ],
   "source": [
    "# Initializing empty list\n",
    "cat_features = []\n",
    "\n",
    "# Appending all  the categorical features to empty list\n",
    "for i in data.columns:\n",
    "  if data[i].dtype == 'object':\n",
    "    cat_features.append(i)\n",
    "\n",
    "# Display the categorical features\n",
    "print(cat_features)"
   ]
  },
  {
   "cell_type": "code",
   "execution_count": 45,
   "metadata": {
    "colab": {
     "base_uri": "https://localhost:8080/",
     "height": 467
    },
    "executionInfo": {
     "elapsed": 3138,
     "status": "ok",
     "timestamp": 1620112244834,
     "user": {
      "displayName": "Mukesh Kumar",
      "photoUrl": "https://lh3.googleusercontent.com/a-/AOh14GjTZH-ccUwdv--s75Iw1qfyi7gtUyH2m_-htD2e=s64",
      "userId": "01238672520445611335"
     },
     "user_tz": -330
    },
    "id": "OmsO3arbFl70",
    "outputId": "4dd7cc80-cbd1-4819-9888-152ee3e90c6e"
   },
   "outputs": [
    {
     "ename": "NameError",
     "evalue": "name 'go' is not defined",
     "output_type": "error",
     "traceback": [
      "\u001b[1;31m---------------------------------------------------------------------------\u001b[0m",
      "\u001b[1;31mNameError\u001b[0m                                 Traceback (most recent call last)",
      "\u001b[1;32mC:\\Users\\CHRIST~1\\AppData\\Local\\Temp/ipykernel_14984/4174379114.py\u001b[0m in \u001b[0;36m<module>\u001b[1;34m\u001b[0m\n\u001b[0;32m      1\u001b[0m \u001b[1;31m# Initiating a plotly figure\u001b[0m\u001b[1;33m\u001b[0m\u001b[1;33m\u001b[0m\u001b[1;33m\u001b[0m\u001b[0m\n\u001b[1;32m----> 2\u001b[1;33m \u001b[0mfig\u001b[0m \u001b[1;33m=\u001b[0m \u001b[0mgo\u001b[0m\u001b[1;33m.\u001b[0m\u001b[0mFigure\u001b[0m\u001b[1;33m(\u001b[0m\u001b[1;33m)\u001b[0m\u001b[1;33m\u001b[0m\u001b[1;33m\u001b[0m\u001b[0m\n\u001b[0m\u001b[0;32m      3\u001b[0m \u001b[1;33m\u001b[0m\u001b[0m\n\u001b[0;32m      4\u001b[0m \u001b[1;31m# Adding first graph of Gender\u001b[0m\u001b[1;33m\u001b[0m\u001b[1;33m\u001b[0m\u001b[1;33m\u001b[0m\u001b[0m\n\u001b[0;32m      5\u001b[0m \u001b[0mfig\u001b[0m\u001b[1;33m.\u001b[0m\u001b[0madd_bar\u001b[0m\u001b[1;33m(\u001b[0m\u001b[0mx\u001b[0m\u001b[1;33m=\u001b[0m\u001b[0mdata\u001b[0m\u001b[1;33m[\u001b[0m\u001b[0mcat_features\u001b[0m\u001b[1;33m[\u001b[0m\u001b[1;36m0\u001b[0m\u001b[1;33m]\u001b[0m\u001b[1;33m]\u001b[0m\u001b[1;33m,\u001b[0m \u001b[0my\u001b[0m\u001b[1;33m=\u001b[0m\u001b[0mdata\u001b[0m\u001b[1;33m[\u001b[0m\u001b[0mcat_features\u001b[0m\u001b[1;33m[\u001b[0m\u001b[1;36m0\u001b[0m\u001b[1;33m]\u001b[0m\u001b[1;33m]\u001b[0m\u001b[1;33m.\u001b[0m\u001b[0mindex\u001b[0m\u001b[1;33m)\u001b[0m\u001b[1;33m\u001b[0m\u001b[1;33m\u001b[0m\u001b[0m\n",
      "\u001b[1;31mNameError\u001b[0m: name 'go' is not defined"
     ]
    }
   ],
   "source": [
    "# Initiating a plotly figure\n",
    "fig = go.Figure()\n",
    "\n",
    "# Adding first graph of Gender\n",
    "fig.add_bar(x=data[cat_features[0]], y=data[cat_features[0]].index)\n",
    "\n",
    "# Adding a button to select different features\n",
    "button = [dict(method = 'restyle',\n",
    "               args = [{'x': [data[cat_features[k]], 'undefined'],\n",
    "                        'y': [data[cat_features[k]].index, 'undefined'],\n",
    "                        'visible':[True, False]}], \n",
    "               label = cat_features[k])   for k in range(0, len(cat_features))]  \n",
    "\n",
    "# Updating the layout of the graph\n",
    "fig.update_layout(title_text='Frequency Distribution of Feature Values',\n",
    "                  title_x=0.4,\n",
    "                  width=1000,\n",
    "                  height=450,\n",
    "                  updatemenus=[dict(active=0,\n",
    "                                    buttons=button,\n",
    "                                    x=1.15,\n",
    "                                    y=1,\n",
    "                                    xanchor='left',\n",
    "                                    yanchor='top')])\n",
    "\n",
    "# Adding extra annotaions alongside the button\n",
    "fig.add_annotation(x=1.03,\n",
    "                   y=0.97,\n",
    "                   xref='paper',\n",
    "                   yref='paper',\n",
    "                   showarrow=False,\n",
    "                   xanchor='left',\n",
    "                   yanchor = 'top',\n",
    "                   text='Feature')\n",
    "\n",
    "# Display the graph\n",
    "fig.show()"
   ]
  },
  {
   "cell_type": "markdown",
   "metadata": {
    "id": "feLKV9y_O80f"
   },
   "source": [
    "**Observations:**\n",
    "\n",
    "- By interacting with the above figure we can safely conclude that rest all **other features** are **having correct values**."
   ]
  },
  {
   "cell_type": "markdown",
   "metadata": {
    "id": "OnJrjoHuLZDT"
   },
   "source": [
    "<a name = Section54></a>\n",
    "### **5.4 Handling of Outliers**\n",
    "\n",
    "- Next, if you remember our **age** feature was showing us some **absurd numbers** like 329, 999999999999, -1729.\n",
    "\n",
    "- These are **outliers** and we will **perform capping** over these values such as:\n",
    "  - All value above 75 will be capped to 75 (on **average 65** is the **retirement** but taking extra buffer).\n",
    "  - All value below 14 will be capped to 14 (on **average 14** is the **minimum age** for **employment**).\n",
    "\n",
    "- As a general rule, the FLSA sets 14 years old as the minimum age for employment under limited number of hours."
   ]
  },
  {
   "cell_type": "code",
   "execution_count": null,
   "metadata": {
    "id": "onHQpXuHYLzC"
   },
   "outputs": [],
   "source": [
    "data['Age'][data['Age'] > 75] = 75\n",
    "data['Age'][data['Age'] < 14] = 14"
   ]
  },
  {
   "cell_type": "code",
   "execution_count": null,
   "metadata": {
    "colab": {
     "base_uri": "https://localhost:8080/"
    },
    "executionInfo": {
     "elapsed": 3085,
     "status": "ok",
     "timestamp": 1620112244839,
     "user": {
      "displayName": "Mukesh Kumar",
      "photoUrl": "https://lh3.googleusercontent.com/a-/AOh14GjTZH-ccUwdv--s75Iw1qfyi7gtUyH2m_-htD2e=s64",
      "userId": "01238672520445611335"
     },
     "user_tz": -330
    },
    "id": "Y4U6mGidY1Yj",
    "outputId": "ece9eb8c-e013-4a82-cf39-d4fbdf14ad3e"
   },
   "outputs": [
    {
     "data": {
      "text/plain": [
       "count   1257.00000\n",
       "mean      32.08751\n",
       "std        7.53920\n",
       "min       14.00000\n",
       "25%       27.00000\n",
       "50%       31.00000\n",
       "75%       36.00000\n",
       "max       75.00000\n",
       "Name: Age, dtype: float64"
      ]
     },
     "execution_count": 129,
     "metadata": {
      "tags": []
     },
     "output_type": "execute_result"
    }
   ],
   "source": [
    "data['Age'].describe()"
   ]
  },
  {
   "cell_type": "markdown",
   "metadata": {
    "id": "i41Ox8TibpbR"
   },
   "source": [
    "**Observation:**\n",
    "\n",
    "- Now that we have successfully cleansed our data we are good to go with exploring our data and finding insights."
   ]
  },
  {
   "cell_type": "code",
   "execution_count": 46,
   "metadata": {
    "scrolled": false
   },
   "outputs": [
    {
     "data": {
      "text/html": [
       "<div>\n",
       "<style scoped>\n",
       "    .dataframe tbody tr th:only-of-type {\n",
       "        vertical-align: middle;\n",
       "    }\n",
       "\n",
       "    .dataframe tbody tr th {\n",
       "        vertical-align: top;\n",
       "    }\n",
       "\n",
       "    .dataframe thead th {\n",
       "        text-align: right;\n",
       "    }\n",
       "</style>\n",
       "<table border=\"1\" class=\"dataframe\">\n",
       "  <thead>\n",
       "    <tr style=\"text-align: right;\">\n",
       "      <th></th>\n",
       "      <th>Timestamp</th>\n",
       "      <th>Age</th>\n",
       "      <th>Gender</th>\n",
       "      <th>Country</th>\n",
       "      <th>state</th>\n",
       "      <th>self_employed</th>\n",
       "      <th>family_history</th>\n",
       "      <th>treatment</th>\n",
       "      <th>work_interfere</th>\n",
       "      <th>no_employees</th>\n",
       "      <th>remote_work</th>\n",
       "      <th>tech_company</th>\n",
       "      <th>benefits</th>\n",
       "      <th>care_options</th>\n",
       "      <th>wellness_program</th>\n",
       "      <th>seek_help</th>\n",
       "      <th>anonymity</th>\n",
       "      <th>leave</th>\n",
       "      <th>mental_health_consequence</th>\n",
       "      <th>phys_health_consequence</th>\n",
       "      <th>coworkers</th>\n",
       "      <th>supervisor</th>\n",
       "      <th>mental_health_interview</th>\n",
       "      <th>phys_health_interview</th>\n",
       "      <th>mental_vs_physical</th>\n",
       "      <th>obs_consequence</th>\n",
       "    </tr>\n",
       "  </thead>\n",
       "  <tbody>\n",
       "    <tr>\n",
       "      <th>0</th>\n",
       "      <td>2014-08-27 11:29:31</td>\n",
       "      <td>37</td>\n",
       "      <td>Female</td>\n",
       "      <td>United States</td>\n",
       "      <td>IL</td>\n",
       "      <td>No</td>\n",
       "      <td>No</td>\n",
       "      <td>Yes</td>\n",
       "      <td>Often</td>\n",
       "      <td>6-25</td>\n",
       "      <td>No</td>\n",
       "      <td>Yes</td>\n",
       "      <td>Yes</td>\n",
       "      <td>Not sure</td>\n",
       "      <td>No</td>\n",
       "      <td>Yes</td>\n",
       "      <td>Yes</td>\n",
       "      <td>Somewhat easy</td>\n",
       "      <td>No</td>\n",
       "      <td>No</td>\n",
       "      <td>Some of them</td>\n",
       "      <td>Yes</td>\n",
       "      <td>No</td>\n",
       "      <td>Maybe</td>\n",
       "      <td>Yes</td>\n",
       "      <td>No</td>\n",
       "    </tr>\n",
       "    <tr>\n",
       "      <th>1</th>\n",
       "      <td>2014-08-27 11:29:37</td>\n",
       "      <td>44</td>\n",
       "      <td>male</td>\n",
       "      <td>United States</td>\n",
       "      <td>IN</td>\n",
       "      <td>No</td>\n",
       "      <td>No</td>\n",
       "      <td>No</td>\n",
       "      <td>Rarely</td>\n",
       "      <td>More than 1000</td>\n",
       "      <td>No</td>\n",
       "      <td>No</td>\n",
       "      <td>Don't know</td>\n",
       "      <td>No</td>\n",
       "      <td>Don't know</td>\n",
       "      <td>Don't know</td>\n",
       "      <td>Don't know</td>\n",
       "      <td>Don't know</td>\n",
       "      <td>Maybe</td>\n",
       "      <td>No</td>\n",
       "      <td>No</td>\n",
       "      <td>No</td>\n",
       "      <td>No</td>\n",
       "      <td>No</td>\n",
       "      <td>Don't know</td>\n",
       "      <td>No</td>\n",
       "    </tr>\n",
       "    <tr>\n",
       "      <th>2</th>\n",
       "      <td>2014-08-27 11:29:44</td>\n",
       "      <td>32</td>\n",
       "      <td>male</td>\n",
       "      <td>Canada</td>\n",
       "      <td>Canada</td>\n",
       "      <td>No</td>\n",
       "      <td>No</td>\n",
       "      <td>No</td>\n",
       "      <td>Rarely</td>\n",
       "      <td>6-25</td>\n",
       "      <td>No</td>\n",
       "      <td>Yes</td>\n",
       "      <td>No</td>\n",
       "      <td>No</td>\n",
       "      <td>No</td>\n",
       "      <td>No</td>\n",
       "      <td>Don't know</td>\n",
       "      <td>Somewhat difficult</td>\n",
       "      <td>No</td>\n",
       "      <td>No</td>\n",
       "      <td>Yes</td>\n",
       "      <td>Yes</td>\n",
       "      <td>Yes</td>\n",
       "      <td>Yes</td>\n",
       "      <td>No</td>\n",
       "      <td>No</td>\n",
       "    </tr>\n",
       "    <tr>\n",
       "      <th>3</th>\n",
       "      <td>2014-08-27 11:29:46</td>\n",
       "      <td>31</td>\n",
       "      <td>male</td>\n",
       "      <td>United Kingdom</td>\n",
       "      <td>United Kingdom</td>\n",
       "      <td>No</td>\n",
       "      <td>Yes</td>\n",
       "      <td>Yes</td>\n",
       "      <td>Often</td>\n",
       "      <td>26-100</td>\n",
       "      <td>No</td>\n",
       "      <td>Yes</td>\n",
       "      <td>No</td>\n",
       "      <td>Yes</td>\n",
       "      <td>No</td>\n",
       "      <td>No</td>\n",
       "      <td>No</td>\n",
       "      <td>Somewhat difficult</td>\n",
       "      <td>Yes</td>\n",
       "      <td>Yes</td>\n",
       "      <td>Some of them</td>\n",
       "      <td>No</td>\n",
       "      <td>Maybe</td>\n",
       "      <td>Maybe</td>\n",
       "      <td>No</td>\n",
       "      <td>Yes</td>\n",
       "    </tr>\n",
       "    <tr>\n",
       "      <th>4</th>\n",
       "      <td>2014-08-27 11:30:22</td>\n",
       "      <td>31</td>\n",
       "      <td>male</td>\n",
       "      <td>United States</td>\n",
       "      <td>TX</td>\n",
       "      <td>No</td>\n",
       "      <td>No</td>\n",
       "      <td>No</td>\n",
       "      <td>Never</td>\n",
       "      <td>100-500</td>\n",
       "      <td>Yes</td>\n",
       "      <td>Yes</td>\n",
       "      <td>Yes</td>\n",
       "      <td>No</td>\n",
       "      <td>Don't know</td>\n",
       "      <td>Don't know</td>\n",
       "      <td>Don't know</td>\n",
       "      <td>Don't know</td>\n",
       "      <td>No</td>\n",
       "      <td>No</td>\n",
       "      <td>Some of them</td>\n",
       "      <td>Yes</td>\n",
       "      <td>Yes</td>\n",
       "      <td>Yes</td>\n",
       "      <td>Don't know</td>\n",
       "      <td>No</td>\n",
       "    </tr>\n",
       "  </tbody>\n",
       "</table>\n",
       "</div>"
      ],
      "text/plain": [
       "            Timestamp  Age  Gender         Country           state  \\\n",
       "0 2014-08-27 11:29:31   37  Female   United States              IL   \n",
       "1 2014-08-27 11:29:37   44    male   United States              IN   \n",
       "2 2014-08-27 11:29:44   32    male          Canada          Canada   \n",
       "3 2014-08-27 11:29:46   31    male  United Kingdom  United Kingdom   \n",
       "4 2014-08-27 11:30:22   31    male   United States              TX   \n",
       "\n",
       "  self_employed family_history treatment work_interfere    no_employees  \\\n",
       "0            No             No       Yes          Often            6-25   \n",
       "1            No             No        No         Rarely  More than 1000   \n",
       "2            No             No        No         Rarely            6-25   \n",
       "3            No            Yes       Yes          Often          26-100   \n",
       "4            No             No        No          Never         100-500   \n",
       "\n",
       "  remote_work tech_company    benefits care_options wellness_program  \\\n",
       "0          No          Yes         Yes     Not sure               No   \n",
       "1          No           No  Don't know           No       Don't know   \n",
       "2          No          Yes          No           No               No   \n",
       "3          No          Yes          No          Yes               No   \n",
       "4         Yes          Yes         Yes           No       Don't know   \n",
       "\n",
       "    seek_help   anonymity               leave mental_health_consequence  \\\n",
       "0         Yes         Yes       Somewhat easy                        No   \n",
       "1  Don't know  Don't know          Don't know                     Maybe   \n",
       "2          No  Don't know  Somewhat difficult                        No   \n",
       "3          No          No  Somewhat difficult                       Yes   \n",
       "4  Don't know  Don't know          Don't know                        No   \n",
       "\n",
       "  phys_health_consequence     coworkers supervisor mental_health_interview  \\\n",
       "0                      No  Some of them        Yes                      No   \n",
       "1                      No            No         No                      No   \n",
       "2                      No           Yes        Yes                     Yes   \n",
       "3                     Yes  Some of them         No                   Maybe   \n",
       "4                      No  Some of them        Yes                     Yes   \n",
       "\n",
       "  phys_health_interview mental_vs_physical obs_consequence  \n",
       "0                 Maybe                Yes              No  \n",
       "1                    No         Don't know              No  \n",
       "2                   Yes                 No              No  \n",
       "3                 Maybe                 No             Yes  \n",
       "4                   Yes         Don't know              No  "
      ]
     },
     "execution_count": 46,
     "metadata": {},
     "output_type": "execute_result"
    }
   ],
   "source": [
    "data.head()"
   ]
  },
  {
   "cell_type": "code",
   "execution_count": null,
   "metadata": {},
   "outputs": [],
   "source": [
    "EDA - UNI BI MULTI 15-12/(2**n - 1)"
   ]
  },
  {
   "cell_type": "code",
   "execution_count": null,
   "metadata": {},
   "outputs": [],
   "source": [
    "'''\n",
    "1. relevant\n",
    "2. reasonable\n",
    "3. non vague\n",
    "\n",
    "** dont be either too specific, nor too generic.\n",
    "'''"
   ]
  },
  {
   "cell_type": "code",
   "execution_count": 48,
   "metadata": {},
   "outputs": [
    {
     "data": {
      "text/plain": [
       "Index(['Timestamp', 'Age', 'Gender', 'Country', 'state', 'self_employed',\n",
       "       'family_history', 'treatment', 'work_interfere', 'no_employees',\n",
       "       'remote_work', 'tech_company', 'benefits', 'care_options',\n",
       "       'wellness_program', 'seek_help', 'anonymity', 'leave',\n",
       "       'mental_health_consequence', 'phys_health_consequence', 'coworkers',\n",
       "       'supervisor', 'mental_health_interview', 'phys_health_interview',\n",
       "       'mental_vs_physical', 'obs_consequence'],\n",
       "      dtype='object')"
      ]
     },
     "execution_count": 48,
     "metadata": {},
     "output_type": "execute_result"
    }
   ],
   "source": [
    "data.columns"
   ]
  },
  {
   "cell_type": "code",
   "execution_count": null,
   "metadata": {},
   "outputs": [],
   "source": [
    "'''\n",
    "1. how many people of various gendre, country and agegroup have participated in the survey? - 3 uni variate analysis\n",
    "\n",
    "Relevace - ok\n",
    "Reasonable - ok\n",
    "Vagueness - better\n",
    "\n",
    "\n",
    "2. How does self_emplyment status affect0 treatment seeking for mental health issue?\n",
    "\n",
    "Relevace - ok\n",
    "Reasonable - ok\n",
    "Vagueness - ok\n",
    "\n",
    "\n",
    "3. In which coutry employer provide maximum mental health care? What is size of the company?\n",
    "4. How many people comfortable to discuss a mental health issue with potential employer, coworker and supervisor?\n",
    "\n",
    "Relevace - ok\n",
    "Reasonable - ok\n",
    "Vagueness - ok\n",
    "\n",
    "5. How many employer provide mental health benefits, discussed mental health, provide resources to learn more about mental health issue and  takes mental health as seriously as physical health\n",
    "'''"
   ]
  },
  {
   "cell_type": "code",
   "execution_count": 49,
   "metadata": {},
   "outputs": [
    {
     "data": {
      "text/plain": [
       "Index(['Timestamp', 'Age', 'Gender', 'Country', 'state', 'self_employed',\n",
       "       'family_history', 'treatment', 'work_interfere', 'no_employees',\n",
       "       'remote_work', 'tech_company', 'benefits', 'care_options',\n",
       "       'wellness_program', 'seek_help', 'anonymity', 'leave',\n",
       "       'mental_health_consequence', 'phys_health_consequence', 'coworkers',\n",
       "       'supervisor', 'mental_health_interview', 'phys_health_interview',\n",
       "       'mental_vs_physical', 'obs_consequence'],\n",
       "      dtype='object')"
      ]
     },
     "execution_count": 49,
     "metadata": {},
     "output_type": "execute_result"
    }
   ],
   "source": [
    "data.columns"
   ]
  },
  {
   "cell_type": "code",
   "execution_count": null,
   "metadata": {},
   "outputs": [],
   "source": [
    "'''\n",
    "1)Does age a factor to get mental_health_consequence?\n",
    "\n",
    "Relevace - ok\n",
    "Reasonable - ok\n",
    "Vagueness - ok\n",
    "\n",
    "2)Does remote work show impact on organization or patients? - rewite\n",
    "\n",
    "Relevace - ok\n",
    "Reasonable - not ok\n",
    "Vagueness - not ok\n",
    "\n",
    "3)which age persons are exposed to both mental and physical health consequences most?\n",
    "\n",
    "Relevace - ok\n",
    "Reasonable - ok\n",
    "Vagueness - ok\n",
    "\n",
    "\n",
    "4)what is the proportion age and treatment?\n",
    "5)In which country have obs Consequences problem?\n",
    "'''"
   ]
  },
  {
   "cell_type": "code",
   "execution_count": 50,
   "metadata": {},
   "outputs": [
    {
     "data": {
      "text/plain": [
       "Index(['Timestamp', 'Age', 'Gender', 'Country', 'state', 'self_employed',\n",
       "       'family_history', 'treatment', 'work_interfere', 'no_employees',\n",
       "       'remote_work', 'tech_company', 'benefits', 'care_options',\n",
       "       'wellness_program', 'seek_help', 'anonymity', 'leave',\n",
       "       'mental_health_consequence', 'phys_health_consequence', 'coworkers',\n",
       "       'supervisor', 'mental_health_interview', 'phys_health_interview',\n",
       "       'mental_vs_physical', 'obs_consequence'],\n",
       "      dtype='object')"
      ]
     },
     "execution_count": 50,
     "metadata": {},
     "output_type": "execute_result"
    }
   ],
   "source": [
    "data.columns"
   ]
  },
  {
   "cell_type": "code",
   "execution_count": null,
   "metadata": {},
   "outputs": [],
   "source": [
    "'''\n",
    "which age has undergone mental illness treatment 'more'?\n",
    "\n",
    "Relevace - ok\n",
    "Reasonable - ok\n",
    "Vagueness - ok\n",
    "\n",
    "'''"
   ]
  },
  {
   "cell_type": "markdown",
   "metadata": {
    "id": "H1dTrDuMbZxi"
   },
   "source": [
    "<a name = Section6></a>\n",
    "\n",
    "---\n",
    "# **6. Exploratory Data Analysis**\n",
    "---"
   ]
  },
  {
   "cell_type": "code",
   "execution_count": null,
   "metadata": {},
   "outputs": [],
   "source": [
    "# 07, 10, 02, 03, 12"
   ]
  },
  {
   "cell_type": "code",
   "execution_count": null,
   "metadata": {
    "colab": {
     "base_uri": "https://localhost:8080/",
     "height": 394
    },
    "executionInfo": {
     "elapsed": 3062,
     "status": "ok",
     "timestamp": 1620112244840,
     "user": {
      "displayName": "Mukesh Kumar",
      "photoUrl": "https://lh3.googleusercontent.com/a-/AOh14GjTZH-ccUwdv--s75Iw1qfyi7gtUyH2m_-htD2e=s64",
      "userId": "01238672520445611335"
     },
     "user_tz": -330
    },
    "id": "NU9V8MmKtqfh",
    "outputId": "24c79c4a-1cd0-49d5-9027-69f0c72b1c17"
   },
   "outputs": [
    {
     "data": {
      "text/html": [
       "<div>\n",
       "<style scoped>\n",
       "    .dataframe tbody tr th:only-of-type {\n",
       "        vertical-align: middle;\n",
       "    }\n",
       "\n",
       "    .dataframe tbody tr th {\n",
       "        vertical-align: top;\n",
       "    }\n",
       "\n",
       "    .dataframe thead th {\n",
       "        text-align: right;\n",
       "    }\n",
       "</style>\n",
       "<table border=\"1\" class=\"dataframe\">\n",
       "  <thead>\n",
       "    <tr style=\"text-align: right;\">\n",
       "      <th></th>\n",
       "      <th>Timestamp</th>\n",
       "      <th>Age</th>\n",
       "      <th>Gender</th>\n",
       "      <th>Country</th>\n",
       "      <th>state</th>\n",
       "      <th>self_employed</th>\n",
       "      <th>family_history</th>\n",
       "      <th>treatment</th>\n",
       "      <th>work_interfere</th>\n",
       "      <th>no_employees</th>\n",
       "      <th>remote_work</th>\n",
       "      <th>tech_company</th>\n",
       "      <th>benefits</th>\n",
       "      <th>care_options</th>\n",
       "      <th>wellness_program</th>\n",
       "      <th>seek_help</th>\n",
       "      <th>anonymity</th>\n",
       "      <th>leave</th>\n",
       "      <th>mental_health_consequence</th>\n",
       "      <th>phys_health_consequence</th>\n",
       "      <th>coworkers</th>\n",
       "      <th>supervisor</th>\n",
       "      <th>mental_health_interview</th>\n",
       "      <th>phys_health_interview</th>\n",
       "      <th>mental_vs_physical</th>\n",
       "      <th>obs_consequence</th>\n",
       "    </tr>\n",
       "  </thead>\n",
       "  <tbody>\n",
       "    <tr>\n",
       "      <th>0</th>\n",
       "      <td>2014-08-27 11:29:31</td>\n",
       "      <td>37</td>\n",
       "      <td>female</td>\n",
       "      <td>United States</td>\n",
       "      <td>IL</td>\n",
       "      <td>No</td>\n",
       "      <td>No</td>\n",
       "      <td>Yes</td>\n",
       "      <td>Often</td>\n",
       "      <td>6-25</td>\n",
       "      <td>No</td>\n",
       "      <td>Yes</td>\n",
       "      <td>Yes</td>\n",
       "      <td>Not sure</td>\n",
       "      <td>No</td>\n",
       "      <td>Yes</td>\n",
       "      <td>Yes</td>\n",
       "      <td>Somewhat easy</td>\n",
       "      <td>No</td>\n",
       "      <td>No</td>\n",
       "      <td>Some of them</td>\n",
       "      <td>Yes</td>\n",
       "      <td>No</td>\n",
       "      <td>Maybe</td>\n",
       "      <td>Yes</td>\n",
       "      <td>No</td>\n",
       "    </tr>\n",
       "    <tr>\n",
       "      <th>1</th>\n",
       "      <td>2014-08-27 11:29:37</td>\n",
       "      <td>44</td>\n",
       "      <td>male</td>\n",
       "      <td>United States</td>\n",
       "      <td>IN</td>\n",
       "      <td>No</td>\n",
       "      <td>No</td>\n",
       "      <td>No</td>\n",
       "      <td>Rarely</td>\n",
       "      <td>More than 1000</td>\n",
       "      <td>No</td>\n",
       "      <td>No</td>\n",
       "      <td>Don't know</td>\n",
       "      <td>No</td>\n",
       "      <td>Don't know</td>\n",
       "      <td>Don't know</td>\n",
       "      <td>Don't know</td>\n",
       "      <td>Don't know</td>\n",
       "      <td>Maybe</td>\n",
       "      <td>No</td>\n",
       "      <td>No</td>\n",
       "      <td>No</td>\n",
       "      <td>No</td>\n",
       "      <td>No</td>\n",
       "      <td>Don't know</td>\n",
       "      <td>No</td>\n",
       "    </tr>\n",
       "    <tr>\n",
       "      <th>2</th>\n",
       "      <td>2014-08-27 11:29:44</td>\n",
       "      <td>32</td>\n",
       "      <td>male</td>\n",
       "      <td>Canada</td>\n",
       "      <td>CA</td>\n",
       "      <td>No</td>\n",
       "      <td>No</td>\n",
       "      <td>No</td>\n",
       "      <td>Rarely</td>\n",
       "      <td>6-25</td>\n",
       "      <td>No</td>\n",
       "      <td>Yes</td>\n",
       "      <td>No</td>\n",
       "      <td>No</td>\n",
       "      <td>No</td>\n",
       "      <td>No</td>\n",
       "      <td>Don't know</td>\n",
       "      <td>Somewhat difficult</td>\n",
       "      <td>No</td>\n",
       "      <td>No</td>\n",
       "      <td>Yes</td>\n",
       "      <td>Yes</td>\n",
       "      <td>Yes</td>\n",
       "      <td>Yes</td>\n",
       "      <td>No</td>\n",
       "      <td>No</td>\n",
       "    </tr>\n",
       "    <tr>\n",
       "      <th>3</th>\n",
       "      <td>2014-08-27 11:29:46</td>\n",
       "      <td>31</td>\n",
       "      <td>male</td>\n",
       "      <td>United Kingdom</td>\n",
       "      <td>CA</td>\n",
       "      <td>No</td>\n",
       "      <td>Yes</td>\n",
       "      <td>Yes</td>\n",
       "      <td>Often</td>\n",
       "      <td>26-100</td>\n",
       "      <td>No</td>\n",
       "      <td>Yes</td>\n",
       "      <td>No</td>\n",
       "      <td>Yes</td>\n",
       "      <td>No</td>\n",
       "      <td>No</td>\n",
       "      <td>No</td>\n",
       "      <td>Somewhat difficult</td>\n",
       "      <td>Yes</td>\n",
       "      <td>Yes</td>\n",
       "      <td>Some of them</td>\n",
       "      <td>No</td>\n",
       "      <td>Maybe</td>\n",
       "      <td>Maybe</td>\n",
       "      <td>No</td>\n",
       "      <td>Yes</td>\n",
       "    </tr>\n",
       "    <tr>\n",
       "      <th>4</th>\n",
       "      <td>2014-08-27 11:30:22</td>\n",
       "      <td>31</td>\n",
       "      <td>male</td>\n",
       "      <td>United States</td>\n",
       "      <td>TX</td>\n",
       "      <td>No</td>\n",
       "      <td>No</td>\n",
       "      <td>No</td>\n",
       "      <td>Never</td>\n",
       "      <td>100-500</td>\n",
       "      <td>Yes</td>\n",
       "      <td>Yes</td>\n",
       "      <td>Yes</td>\n",
       "      <td>No</td>\n",
       "      <td>Don't know</td>\n",
       "      <td>Don't know</td>\n",
       "      <td>Don't know</td>\n",
       "      <td>Don't know</td>\n",
       "      <td>No</td>\n",
       "      <td>No</td>\n",
       "      <td>Some of them</td>\n",
       "      <td>Yes</td>\n",
       "      <td>Yes</td>\n",
       "      <td>Yes</td>\n",
       "      <td>Don't know</td>\n",
       "      <td>No</td>\n",
       "    </tr>\n",
       "  </tbody>\n",
       "</table>\n",
       "</div>"
      ],
      "text/plain": [
       "            Timestamp  Age  Gender         Country state self_employed  \\\n",
       "0 2014-08-27 11:29:31   37  female   United States    IL            No   \n",
       "1 2014-08-27 11:29:37   44    male   United States    IN            No   \n",
       "2 2014-08-27 11:29:44   32    male          Canada    CA            No   \n",
       "3 2014-08-27 11:29:46   31    male  United Kingdom    CA            No   \n",
       "4 2014-08-27 11:30:22   31    male   United States    TX            No   \n",
       "\n",
       "  family_history treatment work_interfere    no_employees remote_work  \\\n",
       "0             No       Yes          Often            6-25          No   \n",
       "1             No        No         Rarely  More than 1000          No   \n",
       "2             No        No         Rarely            6-25          No   \n",
       "3            Yes       Yes          Often          26-100          No   \n",
       "4             No        No          Never         100-500         Yes   \n",
       "\n",
       "  tech_company    benefits care_options wellness_program   seek_help  \\\n",
       "0          Yes         Yes     Not sure               No         Yes   \n",
       "1           No  Don't know           No       Don't know  Don't know   \n",
       "2          Yes          No           No               No          No   \n",
       "3          Yes          No          Yes               No          No   \n",
       "4          Yes         Yes           No       Don't know  Don't know   \n",
       "\n",
       "    anonymity               leave mental_health_consequence  \\\n",
       "0         Yes       Somewhat easy                        No   \n",
       "1  Don't know          Don't know                     Maybe   \n",
       "2  Don't know  Somewhat difficult                        No   \n",
       "3          No  Somewhat difficult                       Yes   \n",
       "4  Don't know          Don't know                        No   \n",
       "\n",
       "  phys_health_consequence     coworkers supervisor mental_health_interview  \\\n",
       "0                      No  Some of them        Yes                      No   \n",
       "1                      No            No         No                      No   \n",
       "2                      No           Yes        Yes                     Yes   \n",
       "3                     Yes  Some of them         No                   Maybe   \n",
       "4                      No  Some of them        Yes                     Yes   \n",
       "\n",
       "  phys_health_interview mental_vs_physical obs_consequence  \n",
       "0                 Maybe                Yes              No  \n",
       "1                    No         Don't know              No  \n",
       "2                   Yes                 No              No  \n",
       "3                 Maybe                 No             Yes  \n",
       "4                   Yes         Don't know              No  "
      ]
     },
     "execution_count": 130,
     "metadata": {
      "tags": []
     },
     "output_type": "execute_result"
    }
   ],
   "source": [
    "data.head()"
   ]
  },
  {
   "cell_type": "markdown",
   "metadata": {
    "id": "ttRE-dxIsk4i"
   },
   "source": [
    "<a name = Section61></a>\n",
    "**<h4>Question:** How does age relate to various behaviors and/or their awareness of their employer's attitude toward mental health?</h4>"
   ]
  },
  {
   "cell_type": "code",
   "execution_count": null,
   "metadata": {
    "colab": {
     "base_uri": "https://localhost:8080/",
     "height": 467
    },
    "executionInfo": {
     "elapsed": 4052,
     "status": "ok",
     "timestamp": 1620112245859,
     "user": {
      "displayName": "Mukesh Kumar",
      "photoUrl": "https://lh3.googleusercontent.com/a-/AOh14GjTZH-ccUwdv--s75Iw1qfyi7gtUyH2m_-htD2e=s64",
      "userId": "01238672520445611335"
     },
     "user_tz": -330
    },
    "id": "MoNN4BbHZHco",
    "outputId": "347daa95-91a2-45ae-9763-15c3045c47d0"
   },
   "outputs": [
    {
     "data": {
      "image/png": "[encoded data removed]",
      "text/plain": [
       "<Figure size 1080x504 with 1 Axes>"
      ]
     },
     "metadata": {
      "needs_background": "light",
      "tags": []
     },
     "output_type": "display_data"
    }
   ],
   "source": [
    "# Initialize figure of size 15 X 7\n",
    "fig = plt.figure(figsize=(15, 7))\n",
    "\n",
    "# Plot countplot of age concerning treatment\n",
    "sns.countplot(x='Age', hue='treatment', data=data)\n",
    "\n",
    "# Add some cosmetics\n",
    "plt.title(label='Age vs Treatment', size=16)\n",
    "plt.xlabel(xlabel='Age', size=14)\n",
    "plt.ylabel(ylabel='Frequency', size=14)\n",
    "plt.xticks(size=12)\n",
    "plt.yticks(size=12)\n",
    "plt.grid(b=True)\n",
    "\n",
    "# Display the plot\n",
    "plt.show()"
   ]
  },
  {
   "cell_type": "markdown",
   "metadata": {
    "id": "okOQ_LhVxIRJ"
   },
   "source": [
    "**Observation:**\n",
    "\n",
    "- We can observe that people of **age 14 - age 22** are **mildly conscious** while people of **age 23 - age 37** are **less conscious** for **treatment**.\n",
    "\n",
    "- People of **age 38 and above** are **highly conscious** and are **up for treatment**."
   ]
  },
  {
   "cell_type": "markdown",
   "metadata": {
    "id": "Txgi1u48ysnL"
   },
   "source": [
    "<a name = Section62></a>\n",
    "**<h4>Question:** What is the density distribution of Age feature?</h4>"
   ]
  },
  {
   "cell_type": "code",
   "execution_count": null,
   "metadata": {},
   "outputs": [],
   "source": [
    "relevant - ok\n",
    "resoanale - ok\n",
    "vague - ok"
   ]
  },
  {
   "cell_type": "code",
   "execution_count": 53,
   "metadata": {},
   "outputs": [
    {
     "data": {
      "text/plain": [
       "<AxesSubplot:ylabel='Frequency'>"
      ]
     },
     "execution_count": 53,
     "metadata": {},
     "output_type": "execute_result"
    },
    {
     "data": {
      "image/png": "[encoded data removed]",
      "text/plain": [
       "<Figure size 432x288 with 1 Axes>"
      ]
     },
     "metadata": {
      "needs_background": "light"
     },
     "output_type": "display_data"
    }
   ],
   "source": [
    "data['Age'].plot.hist()"
   ]
  },
  {
   "cell_type": "code",
   "execution_count": 55,
   "metadata": {
    "scrolled": true
   },
   "outputs": [
    {
     "data": {
      "text/plain": [
       "<AxesSubplot:xlabel='Age', ylabel='Density'>"
      ]
     },
     "execution_count": 55,
     "metadata": {},
     "output_type": "execute_result"
    },
    {
     "data": {
      "image/png": "[encoded data removed]",
      "text/plain": [
       "<Figure size 432x288 with 1 Axes>"
      ]
     },
     "metadata": {
      "needs_background": "light"
     },
     "output_type": "display_data"
    }
   ],
   "source": [
    "sns.distplot(data['Age'])"
   ]
  },
  {
   "cell_type": "code",
   "execution_count": null,
   "metadata": {},
   "outputs": [],
   "source": [
    "# much like the industry, out major sample points are coming from the afe group mid 20s to late 30s.\n",
    "# Hence, we can safely assume the sampling to be representative."
   ]
  },
  {
   "cell_type": "code",
   "execution_count": null,
   "metadata": {},
   "outputs": [],
   "source": []
  },
  {
   "cell_type": "code",
   "execution_count": null,
   "metadata": {
    "colab": {
     "base_uri": "https://localhost:8080/",
     "height": 467
    },
    "executionInfo": {
     "elapsed": 4028,
     "status": "ok",
     "timestamp": 1620112245861,
     "user": {
      "displayName": "Mukesh Kumar",
      "photoUrl": "https://lh3.googleusercontent.com/a-/AOh14GjTZH-ccUwdv--s75Iw1qfyi7gtUyH2m_-htD2e=s64",
      "userId": "01238672520445611335"
     },
     "user_tz": -330
    },
    "id": "BEowhLv4ysaX",
    "outputId": "27b99f28-d510-49ec-f5d9-bd37cae94e81"
   },
   "outputs": [
    {
     "data": {
      "image/png": "[encoded data removed]",
      "text/plain": [
       "<Figure size 1080x504 with 1 Axes>"
      ]
     },
     "metadata": {
      "needs_background": "light",
      "tags": []
     },
     "output_type": "display_data"
    }
   ],
   "source": [
    "# Initialize figure of size 15 X 7\n",
    "fig = plt.figure(figsize=(15, 7))\n",
    "\n",
    "# Plot density distribution of age\n",
    "sns.distplot(a=data['Age'], kde=True)\n",
    "\n",
    "# Add some cosmetics\n",
    "plt.title(label='Density Distribution of Age', size=16)\n",
    "plt.xlabel(xlabel='Age', size=14)\n",
    "plt.ylabel(ylabel='Density', size=14)\n",
    "plt.xticks(size=12)\n",
    "plt.yticks(size=12)\n",
    "plt.grid(b=True)\n",
    "\n",
    "# Display the plot\n",
    "plt.show()"
   ]
  },
  {
   "cell_type": "markdown",
   "metadata": {
    "id": "2tcBcEx3zQTN"
   },
   "source": [
    "**Observation:**\n",
    "\n",
    "- We can **observe a peak** between **mid-20s to about mid-30s**.\n",
    "\n",
    "- This implies that **majority of people** are from **mid 20s to mid 30s**."
   ]
  },
  {
   "cell_type": "markdown",
   "metadata": {
    "id": "-Ihz0LT31OTT"
   },
   "source": [
    "<a name = Section63></a>\n",
    "**<h4>Question:** What is the association between treatment and gender in terms of ratio?</h4>"
   ]
  },
  {
   "cell_type": "code",
   "execution_count": null,
   "metadata": {},
   "outputs": [],
   "source": [
    "Relevace - ok\n",
    "Reasonable - ok\n",
    "Vagueness - ok"
   ]
  },
  {
   "cell_type": "code",
   "execution_count": 56,
   "metadata": {},
   "outputs": [
    {
     "data": {
      "text/plain": [
       "Index(['Timestamp', 'Age', 'Gender', 'Country', 'state', 'self_employed',\n",
       "       'family_history', 'treatment', 'work_interfere', 'no_employees',\n",
       "       'remote_work', 'tech_company', 'benefits', 'care_options',\n",
       "       'wellness_program', 'seek_help', 'anonymity', 'leave',\n",
       "       'mental_health_consequence', 'phys_health_consequence', 'coworkers',\n",
       "       'supervisor', 'mental_health_interview', 'phys_health_interview',\n",
       "       'mental_vs_physical', 'obs_consequence'],\n",
       "      dtype='object')"
      ]
     },
     "execution_count": 56,
     "metadata": {},
     "output_type": "execute_result"
    }
   ],
   "source": [
    "data.columns"
   ]
  },
  {
   "cell_type": "code",
   "execution_count": null,
   "metadata": {},
   "outputs": [],
   "source": [
    "'''\n",
    "'treatment' - CAT\n",
    "'Gender' - CAT\n",
    "'''\n",
    "\n",
    "stagged bar chart"
   ]
  },
  {
   "cell_type": "code",
   "execution_count": 62,
   "metadata": {},
   "outputs": [
    {
     "data": {
      "text/plain": [
       "<AxesSubplot:>"
      ]
     },
     "execution_count": 62,
     "metadata": {},
     "output_type": "execute_result"
    },
    {
     "data": {
      "image/png": "[encoded data removed]",
      "text/plain": [
       "<Figure size 432x288 with 1 Axes>"
      ]
     },
     "metadata": {
      "needs_background": "light"
     },
     "output_type": "display_data"
    }
   ],
   "source": [
    "data['Gender'].value_counts().plot.bar(color = 'red')\n",
    "data[data['treatment']=='Yes']['Gender'].value_counts().plot.bar(color = 'green')"
   ]
  },
  {
   "cell_type": "code",
   "execution_count": 63,
   "metadata": {},
   "outputs": [],
   "source": [
    "#https://matplotlib.org/stable/gallery/lines_bars_and_markers/horizontal_barchart_distribution.html#sphx-glr-gallery-lines-bars-and-markers-horizontal-barchart-distribution-py"
   ]
  },
  {
   "cell_type": "code",
   "execution_count": 67,
   "metadata": {},
   "outputs": [
    {
     "data": {
      "text/plain": [
       "<AxesSubplot:ylabel='treatment'>"
      ]
     },
     "execution_count": 67,
     "metadata": {},
     "output_type": "execute_result"
    },
    {
     "data": {
      "image/png": "[encoded data removed]",
      "text/plain": [
       "<Figure size 432x288 with 1 Axes>"
      ]
     },
     "metadata": {},
     "output_type": "display_data"
    }
   ],
   "source": [
    "data[data['Gender']=='male']['treatment'].value_counts().plot.pie(autopct='%1.1f%%')"
   ]
  },
  {
   "cell_type": "code",
   "execution_count": null,
   "metadata": {},
   "outputs": [],
   "source": []
  },
  {
   "cell_type": "code",
   "execution_count": null,
   "metadata": {},
   "outputs": [],
   "source": []
  },
  {
   "cell_type": "code",
   "execution_count": null,
   "metadata": {
    "colab": {
     "base_uri": "https://localhost:8080/",
     "height": 387
    },
    "executionInfo": {
     "elapsed": 5614,
     "status": "ok",
     "timestamp": 1620112247472,
     "user": {
      "displayName": "Mukesh Kumar",
      "photoUrl": "https://lh3.googleusercontent.com/a-/AOh14GjTZH-ccUwdv--s75Iw1qfyi7gtUyH2m_-htD2e=s64",
      "userId": "01238672520445611335"
     },
     "user_tz": -330
    },
    "id": "cUF87rxoEa3u",
    "outputId": "5958b071-ea80-48a3-ff97-c66c21de93c2"
   },
   "outputs": [
    {
     "data": {
      "image/png": "[encoded data removed]",
      "text/plain": [
       "<Figure size 1440x576 with 3 Axes>"
      ]
     },
     "metadata": {
      "tags": []
     },
     "output_type": "display_data"
    }
   ],
   "source": [
    "# Instantiate figure and axes object\n",
    "f, ax = plt.subplots(nrows=1, ncols=3, figsize=(20, 8))\n",
    "\n",
    "# Initiate a list of gender values and index\n",
    "gender = list(data['Gender'].unique())\n",
    "custom_index = [0, 1, 2]\n",
    "\n",
    "# Plot donut chart for each gender concerning treatment\n",
    "for i, j in zip(gender, custom_index):\n",
    "  data['treatment'][data['Gender']==i].value_counts() \\\n",
    "                                         .plot \\\n",
    "                                         .pie(explode=[0, 0.2],\n",
    "                                              autopct='%1.1f%%', \n",
    "                                              wedgeprops=dict(width=0.15), \n",
    "                                              ax=ax[j], shadow=True)\n",
    "  # Add some cosmetics                                       \n",
    "  ax[j].set_title(label= i.capitalize() +' Treatment', size=16)\n",
    "  ax[j].set_ylabel(ylabel='Treatment', size=14)\n",
    "\n",
    "\n",
    "# Display the graph\n",
    "plt.show()"
   ]
  },
  {
   "cell_type": "markdown",
   "metadata": {
    "id": "ZTH8ZDwx3ZcQ"
   },
   "source": [
    "**Observation:**\n",
    "\n",
    "- We can observe that **female** and **trans** are **more affected** than males in terms of ratio."
   ]
  },
  {
   "cell_type": "markdown",
   "metadata": {
    "id": "gchmnZlg2P7A"
   },
   "source": [
    "<a name = Section64></a>\n",
    "**<h4>Question:** What is the association between treatment and work interference in terms of ratio?</h4>"
   ]
  },
  {
   "cell_type": "code",
   "execution_count": null,
   "metadata": {
    "colab": {
     "base_uri": "https://localhost:8080/",
     "height": 301
    },
    "executionInfo": {
     "elapsed": 5594,
     "status": "ok",
     "timestamp": 1620112247474,
     "user": {
      "displayName": "Mukesh Kumar",
      "photoUrl": "https://lh3.googleusercontent.com/a-/AOh14GjTZH-ccUwdv--s75Iw1qfyi7gtUyH2m_-htD2e=s64",
      "userId": "01238672520445611335"
     },
     "user_tz": -330
    },
    "id": "j1YM1y9mHpyj",
    "outputId": "3ec54347-0c8f-4bd9-ec9e-8859c9a210fa"
   },
   "outputs": [
    {
     "data": {
      "image/png": "[encoded data removed]",
      "text/plain": [
       "<Figure size 1440x576 with 4 Axes>"
      ]
     },
     "metadata": {
      "tags": []
     },
     "output_type": "display_data"
    }
   ],
   "source": [
    "# Instantiate figure and axes object\n",
    "f, ax = plt.subplots(nrows=1, ncols=4, figsize=(20, 8))\n",
    "\n",
    "# Initiate a list of gender values and index\n",
    "work_intefere = list(data['work_interfere'].unique())\n",
    "custom_index = [0, 1, 2, 3]\n",
    "\n",
    "# Plot donut chart for each work inteference concerning treatment\n",
    "for i, j in zip(work_intefere, custom_index):\n",
    "  data['treatment'][data['work_interfere']==i].value_counts() \\\n",
    "                                              .plot \\\n",
    "                                              .pie(explode=[0, 0.2],\n",
    "                                                   autopct='%1.1f%%',\n",
    "                                                   wedgeprops=dict(width=0.15), \n",
    "                                                   ax=ax[j], shadow=True)\n",
    "  # Add some cosmetics                                       \n",
    "  ax[j].set_title(label='Work Interference - '+i, size=16)\n",
    "  ax[j].set_ylabel(ylabel='Treatment', size=14)\n",
    "\n",
    "\n",
    "# Display the graph\n",
    "plt.show()"
   ]
  },
  {
   "cell_type": "markdown",
   "metadata": {
    "id": "f_1B5pSU3LU9"
   },
   "source": [
    "**Observation:**\n",
    "\n",
    "- We can observe that **employees** who are \"**Often**\" and \"**Rarely**\" interferred during their work are **more likely** to **have mental health issues**.\n",
    "\n",
    "- Thus, they tend to go for treatment."
   ]
  },
  {
   "cell_type": "markdown",
   "metadata": {
    "id": "zKKY33dk390c"
   },
   "source": [
    "<a name = Section65></a>\n",
    "**<h4>Question:** What is the association between treatment and age?</h4>"
   ]
  },
  {
   "cell_type": "code",
   "execution_count": null,
   "metadata": {
    "colab": {
     "base_uri": "https://localhost:8080/",
     "height": 467
    },
    "executionInfo": {
     "elapsed": 5580,
     "status": "ok",
     "timestamp": 1620112247481,
     "user": {
      "displayName": "Mukesh Kumar",
      "photoUrl": "https://lh3.googleusercontent.com/a-/AOh14GjTZH-ccUwdv--s75Iw1qfyi7gtUyH2m_-htD2e=s64",
      "userId": "01238672520445611335"
     },
     "user_tz": -330
    },
    "id": "Jc6Mwkxh39pX",
    "outputId": "6d5e6fff-218f-4620-d740-fc1902612abb"
   },
   "outputs": [
    {
     "data": {
      "image/png": "[encoded data removed]",
      "text/plain": [
       "<Figure size 1080x504 with 1 Axes>"
      ]
     },
     "metadata": {
      "needs_background": "light",
      "tags": []
     },
     "output_type": "display_data"
    }
   ],
   "source": [
    "# Initiate an empty figure of 15 X 7\n",
    "figure = plt.figure(figsize=[15, 7])\n",
    "\n",
    "# Plot the coutplot figure concerning treatment and age\n",
    "sns.violinplot(x=\"treatment\", y=\"Age\", palette=\"gnuplot\", data=data)\n",
    "\n",
    "# Add some cosmetics\n",
    "plt.title(label='Age vs Treatment', size=16)\n",
    "plt.xlabel(xlabel=\"Treatment\", size=14)\n",
    "plt.ylabel(ylabel=\"Age\", size=14)\n",
    "plt.xticks(size=12)\n",
    "plt.yticks(size=12)\n",
    "plt.grid(b=True)\n",
    "\n",
    "# Display the figure\n",
    "plt.show()"
   ]
  },
  {
   "cell_type": "markdown",
   "metadata": {
    "id": "IXxCNokE5UYh"
   },
   "source": [
    "**Observation:**\n",
    "\n",
    "- Although, we can't make a big observation out of the above plot because the distinction is almost the same.\n",
    "\n",
    "- But we can see that as the **age increases** **chances** to **seek** **treatment** also **increases**."
   ]
  },
  {
   "cell_type": "markdown",
   "metadata": {
    "id": "mnF9uPP85_ML"
   },
   "source": [
    "<a name = Section66></a>\n",
    "**<h4>Question:** What is the association between treatment and family history of the employee?</h4>"
   ]
  },
  {
   "cell_type": "code",
   "execution_count": null,
   "metadata": {
    "colab": {
     "base_uri": "https://localhost:8080/",
     "height": 467
    },
    "executionInfo": {
     "elapsed": 6571,
     "status": "ok",
     "timestamp": 1620112248493,
     "user": {
      "displayName": "Mukesh Kumar",
      "photoUrl": "https://lh3.googleusercontent.com/a-/AOh14GjTZH-ccUwdv--s75Iw1qfyi7gtUyH2m_-htD2e=s64",
      "userId": "01238672520445611335"
     },
     "user_tz": -330
    },
    "id": "eYaPB9pF4wpx",
    "outputId": "29b2282f-f9c1-4a07-9192-741ad06bffc3"
   },
   "outputs": [
    {
     "data": {
      "image/png": "[encoded data removed]",
      "text/plain": [
       "<Figure size 1080x504 with 1 Axes>"
      ]
     },
     "metadata": {
      "needs_background": "light",
      "tags": []
     },
     "output_type": "display_data"
    }
   ],
   "source": [
    "# Initiate an empty figure of 15 X 7\n",
    "figure = plt.figure(figsize=(15, 7))\n",
    "\n",
    "# Plot the coutplot figure\n",
    "sns.countplot(x='family_history', hue='treatment', data=data)\n",
    "\n",
    "# Add some cosmetics\n",
    "plt.title('Does family history effects mental health?', size=16)\n",
    "plt.xlabel('Do they have family mental health problem?', size=14)\n",
    "plt.ylabel('Family History', size=14)\n",
    "plt.xticks(size=12)\n",
    "plt.yticks(size=12)\n",
    "plt.grid(b=True)\n",
    "\n",
    "# Display the figure\n",
    "plt.show()"
   ]
  },
  {
   "cell_type": "markdown",
   "metadata": {
    "id": "xOL03w-i9aH4"
   },
   "source": [
    "**Observation:**\n",
    "\n",
    "- We can observe that **employees** who have **family history** are very much **likely** to **go for treatment**."
   ]
  },
  {
   "cell_type": "markdown",
   "metadata": {
    "id": "R17ZgxmO94lM"
   },
   "source": [
    "<a name = Section67></a>\n",
    "**<h4>Question:** What is the association between treatment and employee count in a company?</h4>"
   ]
  },
  {
   "cell_type": "code",
   "execution_count": 68,
   "metadata": {},
   "outputs": [
    {
     "data": {
      "text/plain": [
       "Index(['Timestamp', 'Age', 'Gender', 'Country', 'state', 'self_employed',\n",
       "       'family_history', 'treatment', 'work_interfere', 'no_employees',\n",
       "       'remote_work', 'tech_company', 'benefits', 'care_options',\n",
       "       'wellness_program', 'seek_help', 'anonymity', 'leave',\n",
       "       'mental_health_consequence', 'phys_health_consequence', 'coworkers',\n",
       "       'supervisor', 'mental_health_interview', 'phys_health_interview',\n",
       "       'mental_vs_physical', 'obs_consequence'],\n",
       "      dtype='object')"
      ]
     },
     "execution_count": 68,
     "metadata": {},
     "output_type": "execute_result"
    }
   ],
   "source": [
    "data.columns"
   ]
  },
  {
   "cell_type": "code",
   "execution_count": null,
   "metadata": {},
   "outputs": [],
   "source": [
    "'treatment'\n",
    "'no_employees'"
   ]
  },
  {
   "cell_type": "code",
   "execution_count": 74,
   "metadata": {},
   "outputs": [
    {
     "data": {
      "image/png": "[encoded data removed]",
      "text/plain": [
       "<Figure size 1440x504 with 1 Axes>"
      ]
     },
     "metadata": {
      "needs_background": "light"
     },
     "output_type": "display_data"
    }
   ],
   "source": [
    "paper = plt.figure(figsize = (20,7))\n",
    "\n",
    "data['no_employees'].value_counts().sort_index().plot.bar(color = 'red', label = 'NO TREATMENT')\n",
    "data[data['treatment']=='Yes']['no_employees'].sort_index().value_counts().plot.bar(color = 'green', label = 'YES TREATMENT')\n",
    "\n",
    "plt.xlabel('Number of Employees')\n",
    "plt.ylabel('Count of treatment')\n",
    "plt.xticks(rotation = 0)\n",
    "plt.title('association between treatment and employee count')\n",
    "plt.legend()\n",
    "\n",
    "plt.show()"
   ]
  },
  {
   "cell_type": "code",
   "execution_count": null,
   "metadata": {},
   "outputs": [],
   "source": [
    "#figure out sorting from smallest company to biggest"
   ]
  },
  {
   "cell_type": "code",
   "execution_count": null,
   "metadata": {},
   "outputs": [],
   "source": []
  },
  {
   "cell_type": "code",
   "execution_count": null,
   "metadata": {
    "colab": {
     "base_uri": "https://localhost:8080/",
     "height": 467
    },
    "executionInfo": {
     "elapsed": 6549,
     "status": "ok",
     "timestamp": 1620112248494,
     "user": {
      "displayName": "Mukesh Kumar",
      "photoUrl": "https://lh3.googleusercontent.com/a-/AOh14GjTZH-ccUwdv--s75Iw1qfyi7gtUyH2m_-htD2e=s64",
      "userId": "01238672520445611335"
     },
     "user_tz": -330
    },
    "id": "isB8v38y9Z_h",
    "outputId": "a0355172-9e1e-4a79-c271-e1ba0603d8fa"
   },
   "outputs": [
    {
     "data": {
      "image/png": "[encoded data removed]",
      "text/plain": [
       "<Figure size 1080x504 with 1 Axes>"
      ]
     },
     "metadata": {
      "needs_background": "light",
      "tags": []
     },
     "output_type": "display_data"
    }
   ],
   "source": [
    "# Initiate an empty figure\n",
    "figure = plt.figure(figsize=(15, 7))\n",
    "\n",
    "# Plot the countplot figure\n",
    "sns.countplot(x='no_employees', hue='treatment', data=data)\n",
    "\n",
    "# Add some cosmetics\n",
    "plt.title(\"Employee count vs Treatment\", size=16)\n",
    "plt.xlabel(\"Company Size\", size=14)\n",
    "plt.ylabel(\"Treatment\", size=14)\n",
    "plt.xticks(size=12)\n",
    "plt.yticks(size=12)\n",
    "plt.grid(b=True)\n",
    "\n",
    "# Output the figure\n",
    "plt.show()"
   ]
  },
  {
   "cell_type": "markdown",
   "metadata": {
    "id": "AfG956R9-fs6"
   },
   "source": [
    "**Observation:**\n",
    "\n",
    "- The **maximum** number of **people** **gone for treatment** belongs to the **company size 26-100**.\n",
    "\n",
    "- On the other hand, those who **haven't gone** for treatment belongs to **company size 6-25**."
   ]
  },
  {
   "cell_type": "code",
   "execution_count": null,
   "metadata": {
    "colab": {
     "base_uri": "https://localhost:8080/"
    },
    "executionInfo": {
     "elapsed": 6534,
     "status": "ok",
     "timestamp": 1620112248497,
     "user": {
      "displayName": "Mukesh Kumar",
      "photoUrl": "https://lh3.googleusercontent.com/a-/AOh14GjTZH-ccUwdv--s75Iw1qfyi7gtUyH2m_-htD2e=s64",
      "userId": "01238672520445611335"
     },
     "user_tz": -330
    },
    "id": "KwXN3x0YBbk3",
    "outputId": "ced3127d-31ab-4bdf-8c23-491feb9e8587"
   },
   "outputs": [
    {
     "data": {
      "text/plain": [
       "treatment  Gender\n",
       "No         female     77\n",
       "           male      541\n",
       "           trans       4\n",
       "Yes        female    170\n",
       "           male      450\n",
       "           trans      15\n",
       "Name: no_employees, dtype: int64"
      ]
     },
     "execution_count": 138,
     "metadata": {
      "tags": []
     },
     "output_type": "execute_result"
    }
   ],
   "source": [
    "data.groupby(by=['treatment', 'Gender'])['no_employees'].agg('count')"
   ]
  },
  {
   "cell_type": "code",
   "execution_count": null,
   "metadata": {
    "colab": {
     "base_uri": "https://localhost:8080/",
     "height": 476
    },
    "executionInfo": {
     "elapsed": 6517,
     "status": "ok",
     "timestamp": 1620112248498,
     "user": {
      "displayName": "Mukesh Kumar",
      "photoUrl": "https://lh3.googleusercontent.com/a-/AOh14GjTZH-ccUwdv--s75Iw1qfyi7gtUyH2m_-htD2e=s64",
      "userId": "01238672520445611335"
     },
     "user_tz": -330
    },
    "id": "_EK2xIr2-gB6",
    "outputId": "31e7cfdc-fd4e-4643-fe20-10c393d80e51"
   },
   "outputs": [
    {
     "data": {
      "image/png": "[encoded data removed]",
      "text/plain": [
       "<Figure size 864x504 with 1 Axes>"
      ]
     },
     "metadata": {
      "tags": []
     },
     "output_type": "display_data"
    }
   ],
   "source": [
    "group_names=['Treatment', 'No Treatment']\n",
    "group_size=[637, 622]\n",
    "\n",
    "subgroup_names=['Treatment.Male', 'Treatment.Female', 'Treatment.trans', \n",
    "                'No Treatment.Male','No Treatment.Female','No Treatment.trans']\n",
    "\n",
    "subgroup_size = [450, 170, 15, 541, 77, 4]\n",
    " \n",
    "# Initiating a color palette\n",
    "a, b, c = [plt.cm.Blues, plt.cm.Reds, plt.cm.Greens]\n",
    " \n",
    "# Initiate a figure and axes instance\n",
    "fig, ax = plt.subplots(figsize=(12, 7))\n",
    "ax.axis('equal')\n",
    "\n",
    "# Plot the outer ring\n",
    "mypie, _ = ax.pie(group_size, radius=1.3, labels=group_names, \n",
    "                  colors=['yellowgreen', 'gold'])\n",
    "plt.setp(obj=mypie, width=0.3, edgecolor='white')\n",
    "\n",
    "# Plot the inner ring\n",
    "mypie2, _ = ax.pie(subgroup_size, radius=1.3-0.3, labels=subgroup_names, \n",
    "                   labeldistance=0.7, colors=[a(0.5), b(0.4), c(0.5), \n",
    "                                              a(0.5), b(0.4), c(0.5)])\n",
    "plt.setp(obj=mypie2, width=0.4, edgecolor='white')\n",
    "\n",
    "plt.title('Donut plot')\n",
    "\n",
    "# Output the graph\n",
    "plt.show()"
   ]
  },
  {
   "cell_type": "markdown",
   "metadata": {
    "id": "-x6R9pxYkXpt"
   },
   "source": [
    "<a name = Section68></a>\n",
    "**<h4>Question:** Which countries in common have contributed the most in terms of mental health?</h4>"
   ]
  },
  {
   "cell_type": "code",
   "execution_count": null,
   "metadata": {
    "colab": {
     "base_uri": "https://localhost:8080/",
     "height": 467
    },
    "executionInfo": {
     "elapsed": 6500,
     "status": "ok",
     "timestamp": 1620112248502,
     "user": {
      "displayName": "Mukesh Kumar",
      "photoUrl": "https://lh3.googleusercontent.com/a-/AOh14GjTZH-ccUwdv--s75Iw1qfyi7gtUyH2m_-htD2e=s64",
      "userId": "01238672520445611335"
     },
     "user_tz": -330
    },
    "id": "xI3lZdmm-f7z",
    "outputId": "0920efd5-5d9d-4bff-b1aa-66e0be4de4b5"
   },
   "outputs": [
    {
     "data": {
      "image/png": "[encoded data removed]",
      "text/plain": [
       "<Figure size 1080x504 with 1 Axes>"
      ]
     },
     "metadata": {
      "needs_background": "light",
      "tags": []
     },
     "output_type": "display_data"
    }
   ],
   "source": [
    "# Get top 10 common countries name and frequency\n",
    "country_count = Counter(data['Country'].dropna().tolist()).most_common(10)\n",
    "country_idx = [country[0] for country in country_count]\n",
    "country_val = [country[1] for country in country_count]\n",
    "\n",
    "# Initiate an empty figure\n",
    "fig = plt.figure(figsize=[15, 7])\n",
    "\n",
    "# Plot the barplot figure\n",
    "sns.barplot(x=country_val, y=country_idx)\n",
    "\n",
    "# Add some cosmetics\n",
    "plt.title(label='Top 10 Countries Contributed Most in Mental Health', size=16)\n",
    "plt.xlabel(xlabel='Frequency', size=14)\n",
    "plt.ylabel(ylabel='Country', size=14)\n",
    "plt.xticks(size=12)\n",
    "plt.yticks(size=12)\n",
    "plt.grid(b=True)\n",
    "\n",
    "# Output the figure\n",
    "plt.show()"
   ]
  },
  {
   "cell_type": "markdown",
   "metadata": {
    "id": "9N19_nzEmVOx"
   },
   "source": [
    "**Observation:**\n",
    "\n",
    "- We can observe that **US contributed the most** with **751 respondents** and now further exploring the states of US."
   ]
  },
  {
   "cell_type": "markdown",
   "metadata": {
    "id": "0424HJBjmfDV"
   },
   "source": [
    "<a name = Section69></a>\n",
    "**<h4>Question:** Which states contributed the most in the US in terms of mental health?</h4>"
   ]
  },
  {
   "cell_type": "code",
   "execution_count": null,
   "metadata": {
    "colab": {
     "base_uri": "https://localhost:8080/",
     "height": 467
    },
    "executionInfo": {
     "elapsed": 7204,
     "status": "ok",
     "timestamp": 1620112249227,
     "user": {
      "displayName": "Mukesh Kumar",
      "photoUrl": "https://lh3.googleusercontent.com/a-/AOh14GjTZH-ccUwdv--s75Iw1qfyi7gtUyH2m_-htD2e=s64",
      "userId": "01238672520445611335"
     },
     "user_tz": -330
    },
    "id": "vgt0drdJ-f4H",
    "outputId": "6c384042-61d2-4928-dace-902ec281e429"
   },
   "outputs": [
    {
     "data": {
      "image/png": "[encoded data removed]",
      "text/plain": [
       "<Figure size 1080x504 with 1 Axes>"
      ]
     },
     "metadata": {
      "needs_background": "light",
      "tags": []
     },
     "output_type": "display_data"
    }
   ],
   "source": [
    "# Extract states data of US\n",
    "usa_data = data[data['Country']=='United States']\n",
    "frequency = usa_data['state'].value_counts()[0:10].values\n",
    "labels = usa_data['state'].value_counts()[0:10].index\n",
    "\n",
    "# Initiate an empty figure\n",
    "fig = plt.figure(figsize=[15, 7])\n",
    "\n",
    "# Plot the barplot figure\n",
    "sns.barplot(x=frequency, y=labels)\n",
    "\n",
    "# Add some cosmetics\n",
    "plt.title(label='Top 10 States in US Contributed Most in Mental Health', size=16)\n",
    "plt.xlabel(xlabel='Frequency', size=14)\n",
    "plt.ylabel(ylabel='State', size=14)\n",
    "plt.xticks(size=12)\n",
    "plt.yticks(size=12)\n",
    "plt.grid(b=True)\n",
    "\n",
    "# Output the figure\n",
    "plt.show()"
   ]
  },
  {
   "cell_type": "markdown",
   "metadata": {
    "id": "iGk9Z56Ynx5Y"
   },
   "source": [
    "**Observation:**\n",
    "\n",
    "- **CALIFORNIA** is the state that **contributed** the **most** in the survey with 138 respndents."
   ]
  },
  {
   "cell_type": "markdown",
   "metadata": {
    "id": "oPwWwG8Xn4D-"
   },
   "source": [
    "<a name = Section610></a>\n",
    "**<h4>Question:** What is the contribution of top 3 countries among all in terms of treatment?</h4>"
   ]
  },
  {
   "cell_type": "code",
   "execution_count": null,
   "metadata": {},
   "outputs": [],
   "source": [
    "relevance - ok \n",
    "reasonable - ok\n",
    "vague - "
   ]
  },
  {
   "cell_type": "code",
   "execution_count": 80,
   "metadata": {},
   "outputs": [
    {
     "data": {
      "text/plain": [
       "Index(['United States', 'United Kingdom', 'Canada'], dtype='object')"
      ]
     },
     "execution_count": 80,
     "metadata": {},
     "output_type": "execute_result"
    }
   ],
   "source": [
    "data['Country'].value_counts()[:3].index"
   ]
  },
  {
   "cell_type": "code",
   "execution_count": 81,
   "metadata": {},
   "outputs": [],
   "source": [
    "short = data[data['Country'].isin(data['Country'].value_counts()[:3].index)]"
   ]
  },
  {
   "cell_type": "code",
   "execution_count": null,
   "metadata": {},
   "outputs": [],
   "source": [
    "paper = plt.figure(figsize = (20,7))\n",
    "\n",
    "data['no_employees'].value_counts().sort_index().plot.bar(color = 'red', label = 'NO TREATMENT')\n",
    "data[data['treatment']=='Yes']['no_employees'].sort_index().value_counts().plot.bar(color = 'green', label = 'YES TREATMENT')\n",
    "\n",
    "plt.xlabel('Number of Employees')\n",
    "plt.ylabel('Count of treatment')\n",
    "plt.xticks(rotation = 0)\n",
    "plt.title('association between treatment and employee count')\n",
    "plt.legend()\n",
    "\n",
    "plt.show()\n",
    "\n",
    "#edit it to incorporate the country from short data"
   ]
  },
  {
   "cell_type": "code",
   "execution_count": null,
   "metadata": {},
   "outputs": [],
   "source": []
  },
  {
   "cell_type": "code",
   "execution_count": null,
   "metadata": {},
   "outputs": [],
   "source": []
  },
  {
   "cell_type": "code",
   "execution_count": null,
   "metadata": {},
   "outputs": [],
   "source": []
  },
  {
   "cell_type": "code",
   "execution_count": null,
   "metadata": {
    "colab": {
     "base_uri": "https://localhost:8080/"
    },
    "executionInfo": {
     "elapsed": 7188,
     "status": "ok",
     "timestamp": 1620112249229,
     "user": {
      "displayName": "Mukesh Kumar",
      "photoUrl": "https://lh3.googleusercontent.com/a-/AOh14GjTZH-ccUwdv--s75Iw1qfyi7gtUyH2m_-htD2e=s64",
      "userId": "01238672520445611335"
     },
     "user_tz": -330
    },
    "id": "-tj2kMT4n37e",
    "outputId": "d8315eea-5deb-4633-aa74-4bdeaf69319f"
   },
   "outputs": [
    {
     "name": "stdout",
     "output_type": "stream",
     "text": [
      "There number of people that exist from top 3 countries are:  1007\n",
      "Their proportion from total people surveyed is  0.8\n"
     ]
    }
   ],
   "source": [
    "# Create a new dataframe based on top 3 countries\n",
    "countries = pd.concat([data.loc[data['Country']=='Canada'], \n",
    "                       data.loc[data['Country']=='United States'], \n",
    "                       data.loc[data['Country']=='United Kingdom']]).reset_index(drop=True)\n",
    "\n",
    "# Display the results\n",
    "print('There number of people that exist from top 3 countries are: ', countries.shape[0])\n",
    "print('Their proportion from total people surveyed is ', np.round(countries.shape[0]/data.shape[0], decimals=2))"
   ]
  },
  {
   "cell_type": "markdown",
   "metadata": {
    "id": "_RgUmzXRpnnI"
   },
   "source": [
    "<a name = Section611></a>\n",
    "**<h4>Question:** What is the frequency distribution of work interference among employees for the top 3 countries?</h4>"
   ]
  },
  {
   "cell_type": "code",
   "execution_count": null,
   "metadata": {
    "colab": {
     "base_uri": "https://localhost:8080/",
     "height": 467
    },
    "executionInfo": {
     "elapsed": 7168,
     "status": "ok",
     "timestamp": 1620112249231,
     "user": {
      "displayName": "Mukesh Kumar",
      "photoUrl": "https://lh3.googleusercontent.com/a-/AOh14GjTZH-ccUwdv--s75Iw1qfyi7gtUyH2m_-htD2e=s64",
      "userId": "01238672520445611335"
     },
     "user_tz": -330
    },
    "id": "LMwr5Is2n33u",
    "outputId": "a1076da4-8c33-41d0-e939-77edfb0f35cf"
   },
   "outputs": [
    {
     "data": {
      "image/png": "[encoded data removed]",
      "text/plain": [
       "<Figure size 1080x504 with 1 Axes>"
      ]
     },
     "metadata": {
      "needs_background": "light",
      "tags": []
     },
     "output_type": "display_data"
    }
   ],
   "source": [
    "# Initiate an empty figure\n",
    "fig = plt.figure(figsize=[15, 7])\n",
    "\n",
    "# Plot the countplot figure of top 3 countries\n",
    "sns.countplot(x='work_interfere', data=countries)\n",
    "\n",
    "# Add some cosmetics\n",
    "plt.title(label='Frequency Distribution of Work Interference Among Employees for Top 3 Countries', size=16)\n",
    "plt.xlabel(xlabel='Work Interference', size=14)\n",
    "plt.ylabel(ylabel='Frequency', size=14)\n",
    "plt.xticks(size=12)\n",
    "plt.yticks(size=12)\n",
    "plt.grid(b=True)\n",
    "\n",
    "# Output the figure\n",
    "plt.show()"
   ]
  },
  {
   "cell_type": "code",
   "execution_count": null,
   "metadata": {
    "colab": {
     "base_uri": "https://localhost:8080/"
    },
    "executionInfo": {
     "elapsed": 7153,
     "status": "ok",
     "timestamp": 1620112249234,
     "user": {
      "displayName": "Mukesh Kumar",
      "photoUrl": "https://lh3.googleusercontent.com/a-/AOh14GjTZH-ccUwdv--s75Iw1qfyi7gtUyH2m_-htD2e=s64",
      "userId": "01238672520445611335"
     },
     "user_tz": -330
    },
    "id": "GQiibS2vn30v",
    "outputId": "fe9609f8-068a-4b59-fc02-97c9875915d0"
   },
   "outputs": [
    {
     "name": "stdout",
     "output_type": "stream",
     "text": [
      "82.8%, believe that their mental health condition interferes with their work\n",
      "With 109 (10.8%) people saying it intereferes often\n"
     ]
    }
   ],
   "source": [
    "work_sum = countries['work_interfere'].value_counts().reset_index()\n",
    "more_than_never = work_sum['work_interfere'][0] + \\\n",
    "    work_sum['work_interfere'][2] + work_sum['work_interfere'][3]\n",
    "\n",
    "print('{:.1%}, believe that their mental health condition interferes with their work'.format(\n",
    "    more_than_never/countries.shape[0]))\n",
    "print('With {} ({:.1%}) people saying it intereferes often'.format(\n",
    "    work_sum['work_interfere'][3], work_sum['work_interfere'][3]/countries.shape[0]))\n"
   ]
  },
  {
   "cell_type": "markdown",
   "metadata": {
    "id": "l_Tg2fJKsBVD"
   },
   "source": [
    "<a name = Section612></a>\n",
    "**<h4>Question:** What is the total number of employees going for treatment from the top 3 countries?</h4>"
   ]
  },
  {
   "cell_type": "code",
   "execution_count": 85,
   "metadata": {},
   "outputs": [
    {
     "data": {
      "text/plain": [
       "Yes   53.50701\n",
       "No    46.49299\n",
       "Name: treatment, dtype: float64"
      ]
     },
     "execution_count": 85,
     "metadata": {},
     "output_type": "execute_result"
    }
   ],
   "source": [
    "100* short['treatment'].value_counts()/short.shape[0]"
   ]
  },
  {
   "cell_type": "code",
   "execution_count": null,
   "metadata": {
    "colab": {
     "base_uri": "https://localhost:8080/"
    },
    "executionInfo": {
     "elapsed": 7139,
     "status": "ok",
     "timestamp": 1620112249236,
     "user": {
      "displayName": "Mukesh Kumar",
      "photoUrl": "https://lh3.googleusercontent.com/a-/AOh14GjTZH-ccUwdv--s75Iw1qfyi7gtUyH2m_-htD2e=s64",
      "userId": "01238672520445611335"
     },
     "user_tz": -330
    },
    "id": "VuV8eLs_n3s7",
    "outputId": "f9a13417-fc6a-43fb-c876-2609ecb8a72e"
   },
   "outputs": [
    {
     "name": "stdout",
     "output_type": "stream",
     "text": [
      "Luckily 539 (53.5%) have sought treatment for their mental health issues\n"
     ]
    }
   ],
   "source": [
    "treatment_count = countries['treatment'].value_counts().reset_index()\n",
    "print('Luckily {} ({:.1%}) have sought treatment for their mental health issues'.format(\n",
    "    treatment_count['treatment'][0], treatment_count['treatment'][0]/countries.shape[0]))\n"
   ]
  },
  {
   "cell_type": "markdown",
   "metadata": {
    "id": "cbbccTETselt"
   },
   "source": [
    "<a name = Section613></a>\n",
    "**<h4>Question:** How many people did go for treatment based on gender for the top 3 countries?</h4>"
   ]
  },
  {
   "cell_type": "code",
   "execution_count": null,
   "metadata": {
    "colab": {
     "base_uri": "https://localhost:8080/"
    },
    "executionInfo": {
     "elapsed": 7126,
     "status": "ok",
     "timestamp": 1620112249239,
     "user": {
      "displayName": "Mukesh Kumar",
      "photoUrl": "https://lh3.googleusercontent.com/a-/AOh14GjTZH-ccUwdv--s75Iw1qfyi7gtUyH2m_-htD2e=s64",
      "userId": "01238672520445611335"
     },
     "user_tz": -330
    },
    "id": "6C1WyV6Fsec1",
    "outputId": "3d20f481-dd2d-4120-cf7a-366be403b886"
   },
   "outputs": [
    {
     "name": "stdout",
     "output_type": "stream",
     "text": [
      "Out of 772 males surveyed, 371 (48.1%) sought treatment\n",
      "Out of 220 females surveyed, 156 (70.9%) sought treatment\n",
      "Out of 15 people who identify as anything other than male or female surveyed, 12 (80.0%) sought treatment\n"
     ]
    }
   ],
   "source": [
    "male = countries.loc[countries['Gender'] == 'male']\n",
    "male_treatment = male.loc[male['treatment'] == 'Yes'].reset_index(drop=True)\n",
    "\n",
    "female = countries.loc[countries['Gender'] == 'female']\n",
    "female_treatment = female.loc[female['treatment'] == 'Yes'].reset_index(drop=True)\n",
    "\n",
    "trans = countries.loc[countries['Gender'] == 'trans']\n",
    "trans_treatment = trans.loc[trans['treatment'] == 'Yes'].reset_index(drop=True)\n",
    "\n",
    "print('Out of {} males surveyed, {} ({:.1%}) sought treatment'\n",
    "      .format(male.shape[0],\n",
    "              male_treatment.shape[0],\n",
    "              male_treatment.shape[0]/male.shape[0]))\n",
    "print('Out of {} females surveyed, {} ({:.1%}) sought treatment'\n",
    "      .format(female.shape[0],\n",
    "              female_treatment.shape[0],\n",
    "              female_treatment.shape[0]/female.shape[0]))\n",
    "print('Out of {} people who identify as anything other than male or female surveyed, {} ({:.1%}) sought treatment'\n",
    "      .format(trans.shape[0],\n",
    "              trans_treatment.shape[0],\n",
    "              trans_treatment.shape[0]/trans.shape[0]))\n"
   ]
  },
  {
   "cell_type": "markdown",
   "metadata": {
    "id": "pybnZakjtPCE"
   },
   "source": [
    "<a name = Section614></a>\n",
    "**<h4>Question:** What is the relationship between mental health consequences and the attitude?</h4>"
   ]
  },
  {
   "cell_type": "code",
   "execution_count": null,
   "metadata": {
    "id": "1t6p2Zb_34wi"
   },
   "outputs": [],
   "source": [
    "def attitude(x):\n",
    "  \"\"\"A custom function to map values in a feature.\"\"\"\n",
    "  \n",
    "  if x == 'No':\n",
    "    return 'Positive'\n",
    "  elif x == 'Yes':\n",
    "    return 'Negative'\n",
    "  elif x == 'Maybe':\n",
    "    return 'Moderate'\n",
    "  else:\n",
    "    return x"
   ]
  },
  {
   "cell_type": "code",
   "execution_count": null,
   "metadata": {
    "colab": {
     "base_uri": "https://localhost:8080/",
     "height": 467
    },
    "executionInfo": {
     "elapsed": 7100,
     "status": "ok",
     "timestamp": 1620112249244,
     "user": {
      "displayName": "Mukesh Kumar",
      "photoUrl": "https://lh3.googleusercontent.com/a-/AOh14GjTZH-ccUwdv--s75Iw1qfyi7gtUyH2m_-htD2e=s64",
      "userId": "01238672520445611335"
     },
     "user_tz": -330
    },
    "id": "51jkBCKT4ysk",
    "outputId": "f68c20f7-9975-4637-c9ee-d2be38e5e28c"
   },
   "outputs": [
    {
     "data": {
      "image/png": "[encoded data removed]",
      "text/plain": [
       "<Figure size 1080x504 with 1 Axes>"
      ]
     },
     "metadata": {
      "needs_background": "light",
      "tags": []
     },
     "output_type": "display_data"
    }
   ],
   "source": [
    "# Creating a new feature from mental health consequences\n",
    "data['attitudes'] = data['mental_health_consequence'].apply(attitude)\n",
    "\n",
    "# Initialize a figure of size 15 X 7\n",
    "figure = plt.figure(figsize=[15, 7])\n",
    "\n",
    "# Plot frequency of each category in Attitude\n",
    "sns.countplot(y='attitudes', data=data)\n",
    "\n",
    "# Add some cosmetics\n",
    "plt.title(label='Attitude Concerning Mental Health Consequences', size=16)\n",
    "plt.xlabel(xlabel='Frequency', size=14)\n",
    "plt.ylabel(ylabel='Attitude', size=14)\n",
    "plt.xticks(size=12)\n",
    "plt.yticks(size=12)\n",
    "plt.grid(b=True)\n",
    "\n",
    "# Display the plot\n",
    "plt.show()"
   ]
  },
  {
   "cell_type": "markdown",
   "metadata": {
    "id": "hAOGfGLouDvX"
   },
   "source": [
    "<a name = Section7></a>\n",
    "\n",
    "---\n",
    "# **7. Summarization**\n",
    "---\n",
    "\n",
    "- **<h4>Conclusion</h4>**\n",
    "\n",
    "  - The mental health survey has **helped** us to **understand** the **mental condition of employees** working in tech firms across countries.\n",
    "\n",
    "  - A total of **1259 entries were recorded** during the survey out of which **1007 were recorded** from the **top 3 countries**.\n",
    "\n",
    "  - The **United States leads the chart** in terms of participation in the survey **followed by** the **United Kingdom** and **Canada**.\n",
    "\n",
    "  - From a **state point of view**, **California leads the chart** when run down the analysis.\n",
    "\n",
    "  - **48.1%** of **males**, **70%** of **females**, and **88%** of **trans** were found to have **sought treatment** concerning the overall survey.\n",
    "\n",
    "  - The following set of **parameters** are found to be **affecting mental health** the most and thus requires treatment:\n",
    "    - Age\n",
    "    - Family history,\n",
    "    - Work Interference,\n",
    "    - Number of employees working in a company,\n",
    "\n",
    "\n",
    "-  **<h4>Actionable Insights</h4>**\n",
    "\n",
    "  - There should be an **awareness program** about mental health and its effects.\n",
    "\n",
    "  - Relationship **Managers** **should be supportive** with the right guidance towards their employees.\n",
    "\n",
    "  - Managers should be **unbiased** concerning the work and the employees.\n",
    "\n",
    "  - There should be **appropriate measures** and **support** for the employees suffering from mental health.\n",
    "\n",
    "  - It is **good to give** an **appreciation** at work **regularly**."
   ]
  }
 ],
 "metadata": {
  "colab": {
   "authorship_tag": "ABX9TyNllcejjfVZLXKjv3QccggW",
   "collapsed_sections": [],
   "name": "Case Study 1: Mental Health in Tech Workspace.ipynb",
   "provenance": []
  },
  "kernelspec": {
   "display_name": "Python 3 (ipykernel)",
   "language": "python",
   "name": "python3"
  },
  "language_info": {
   "codemirror_mode": {
    "name": "ipython",
    "version": 3
   },
   "file_extension": ".py",
   "mimetype": "text/x-python",
   "name": "python",
   "nbconvert_exporter": "python",
   "pygments_lexer": "ipython3",
   "version": "3.9.12"
  }
 },
 "nbformat": 4,
 "nbformat_minor": 1
}
